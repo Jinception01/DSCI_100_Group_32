{
 "cells": [
  {
   "cell_type": "markdown",
   "id": "6add68ca-3472-420f-9cb0-81c4f478fe7b",
   "metadata": {},
   "source": [
    "\n",
    " ## **Predicting A Tennis Match Outcome Based On Player Rank Points, Rank and Number Of Aces.**\n",
    " \n",
    "### **Introduction** \n",
    "    The Association of Tennis Professionals (ATP) uses a computer ranking system to determine who can enter their tournaments and provide an unbiased analysis of the performance of the tennis players.The tennis match data was originally collected by the Association of Tennis Professionals, and were compiled into datasets by Jeff Sackmann, which we will be using. While the data includes statistics from all ATP matches since 1968, we will only be using the most relevant data from the past ten years (2014-2023). Our project will be answering the question of how a tennis player's rank points, rank, and number of aces in a match can be used to predict their likelihood of winning a tennis match. Our main argument is that we believe that a tennis player will be more likely to win a match if they have higher rank points, a higher rank, and more aces than their competitor. Because rank points and rank are calculated based off of player performance in previous matches, we will predict that a higher rank, as well as higher rank points are likely to predict the outcome of a match as a win. Additionally, we predict that victory can also be predicted by a higher number of aces. Aces are a dominant type of round victory that is determined by the outcome of a single rally. We predict that a higher number of aces will reflect a more skilled player, and thus predict victory. \n"
   ]
  },
  {
   "cell_type": "markdown",
   "id": "9a63740c-7833-46d4-9512-c87a9e1ab59a",
   "metadata": {},
   "source": [
    "(A note to the grader that the TA Eros gave us code for this proposal to help separate the data so there is a categorical variable in our dataset. He used a for loop to execute this and it takes **3-4 minutes to run**.)  "
   ]
  },
  {
   "cell_type": "code",
   "execution_count": 1,
   "id": "99b8ba3d-0bce-465c-abdf-8a8e96680914",
   "metadata": {
    "tags": []
   },
   "outputs": [
    {
     "name": "stderr",
     "output_type": "stream",
     "text": [
      "── \u001b[1mAttaching packages\u001b[22m ─────────────────────────────────────── tidyverse 1.3.2 ──\n",
      "\u001b[32m✔\u001b[39m \u001b[34mggplot2\u001b[39m 3.4.2     \u001b[32m✔\u001b[39m \u001b[34mpurrr  \u001b[39m 1.0.1\n",
      "\u001b[32m✔\u001b[39m \u001b[34mtibble \u001b[39m 3.2.1     \u001b[32m✔\u001b[39m \u001b[34mdplyr  \u001b[39m 1.1.1\n",
      "\u001b[32m✔\u001b[39m \u001b[34mtidyr  \u001b[39m 1.3.0     \u001b[32m✔\u001b[39m \u001b[34mstringr\u001b[39m 1.5.0\n",
      "\u001b[32m✔\u001b[39m \u001b[34mreadr  \u001b[39m 2.1.3     \u001b[32m✔\u001b[39m \u001b[34mforcats\u001b[39m 0.5.2\n",
      "── \u001b[1mConflicts\u001b[22m ────────────────────────────────────────── tidyverse_conflicts() ──\n",
      "\u001b[31m✖\u001b[39m \u001b[34mdplyr\u001b[39m::\u001b[32mfilter()\u001b[39m masks \u001b[34mstats\u001b[39m::filter()\n",
      "\u001b[31m✖\u001b[39m \u001b[34mdplyr\u001b[39m::\u001b[32mlag()\u001b[39m    masks \u001b[34mstats\u001b[39m::lag()\n",
      "── \u001b[1mAttaching packages\u001b[22m ────────────────────────────────────── tidymodels 1.0.0 ──\n",
      "\n",
      "\u001b[32m✔\u001b[39m \u001b[34mbroom       \u001b[39m 1.0.2     \u001b[32m✔\u001b[39m \u001b[34mrsample     \u001b[39m 1.1.1\n",
      "\u001b[32m✔\u001b[39m \u001b[34mdials       \u001b[39m 1.1.0     \u001b[32m✔\u001b[39m \u001b[34mtune        \u001b[39m 1.0.1\n",
      "\u001b[32m✔\u001b[39m \u001b[34minfer       \u001b[39m 1.0.4     \u001b[32m✔\u001b[39m \u001b[34mworkflows   \u001b[39m 1.1.2\n",
      "\u001b[32m✔\u001b[39m \u001b[34mmodeldata   \u001b[39m 1.0.1     \u001b[32m✔\u001b[39m \u001b[34mworkflowsets\u001b[39m 1.0.0\n",
      "\u001b[32m✔\u001b[39m \u001b[34mparsnip     \u001b[39m 1.0.3     \u001b[32m✔\u001b[39m \u001b[34myardstick   \u001b[39m 1.1.0\n",
      "\u001b[32m✔\u001b[39m \u001b[34mrecipes     \u001b[39m 1.0.4     \n",
      "\n",
      "── \u001b[1mConflicts\u001b[22m ───────────────────────────────────────── tidymodels_conflicts() ──\n",
      "\u001b[31m✖\u001b[39m \u001b[34mscales\u001b[39m::\u001b[32mdiscard()\u001b[39m masks \u001b[34mpurrr\u001b[39m::discard()\n",
      "\u001b[31m✖\u001b[39m \u001b[34mdplyr\u001b[39m::\u001b[32mfilter()\u001b[39m   masks \u001b[34mstats\u001b[39m::filter()\n",
      "\u001b[31m✖\u001b[39m \u001b[34mrecipes\u001b[39m::\u001b[32mfixed()\u001b[39m  masks \u001b[34mstringr\u001b[39m::fixed()\n",
      "\u001b[31m✖\u001b[39m \u001b[34mdplyr\u001b[39m::\u001b[32mlag()\u001b[39m      masks \u001b[34mstats\u001b[39m::lag()\n",
      "\u001b[31m✖\u001b[39m \u001b[34myardstick\u001b[39m::\u001b[32mspec()\u001b[39m masks \u001b[34mreadr\u001b[39m::spec()\n",
      "\u001b[31m✖\u001b[39m \u001b[34mrecipes\u001b[39m::\u001b[32mstep()\u001b[39m   masks \u001b[34mstats\u001b[39m::step()\n",
      "\u001b[34m•\u001b[39m Search for functions across packages at \u001b[32mhttps://www.tidymodels.org/find/\u001b[39m\n",
      "\n",
      "Updating HTML index of packages in '.Library'\n",
      "\n",
      "Making 'packages.html' ...\n",
      " done\n",
      "\n"
     ]
    }
   ],
   "source": [
    "library(tidyverse)\n",
    "library(tidymodels)\n",
    "set.seed(1)\n",
    "install.packages(\"kknn\")"
   ]
  },
  {
   "cell_type": "code",
   "execution_count": 2,
   "id": "7a612423-1c11-4023-86cd-23669b5337f6",
   "metadata": {
    "tags": []
   },
   "outputs": [],
   "source": [
    "download.file('https://raw.githubusercontent.com/JeffSackmann/tennis_atp/master/atp_matches_2014.csv', \"data/data2014.csv\")\n",
    "download.file('https://raw.githubusercontent.com/JeffSackmann/tennis_atp/master/atp_matches_2015.csv', \"data/data2015.csv\")\n",
    "download.file('https://raw.githubusercontent.com/JeffSackmann/tennis_atp/master/atp_matches_2016.csv', \"data/data2016.csv\")\n",
    "download.file('https://raw.githubusercontent.com/JeffSackmann/tennis_atp/master/atp_matches_2017.csv', \"data/data2017.csv\")\n",
    "download.file('https://raw.githubusercontent.com/JeffSackmann/tennis_atp/master/atp_matches_2018.csv', \"data/data2018.csv\")\n",
    "download.file('https://raw.githubusercontent.com/JeffSackmann/tennis_atp/master/atp_matches_2019.csv', \"data/data2019.csv\")\n",
    "download.file('https://raw.githubusercontent.com/JeffSackmann/tennis_atp/master/atp_matches_2020.csv', \"data/data2020.csv\")\n",
    "download.file('https://raw.githubusercontent.com/JeffSackmann/tennis_atp/master/atp_matches_2021.csv', \"data/data2021.csv\")\n",
    "download.file('https://raw.githubusercontent.com/JeffSackmann/tennis_atp/master/atp_matches_2022.csv', \"data/data2022.csv\")\n",
    "download.file('https://raw.githubusercontent.com/JeffSackmann/tennis_atp/master/atp_matches_2023.csv', \"data/data2023.csv\")"
   ]
  },
  {
   "cell_type": "code",
   "execution_count": 3,
   "id": "59b7010d-9fa7-47da-8e47-bd948eea511b",
   "metadata": {
    "tags": []
   },
   "outputs": [
    {
     "name": "stderr",
     "output_type": "stream",
     "text": [
      "\u001b[1mRows: \u001b[22m\u001b[34m2901\u001b[39m \u001b[1mColumns: \u001b[22m\u001b[34m49\u001b[39m\n",
      "\u001b[36m──\u001b[39m \u001b[1mColumn specification\u001b[22m \u001b[36m────────────────────────────────────────────────────────\u001b[39m\n",
      "\u001b[1mDelimiter:\u001b[22m \",\"\n",
      "\u001b[31mchr\u001b[39m (14): tourney_id, tourney_name, surface, tourney_level, winner_entry, wi...\n",
      "\u001b[32mdbl\u001b[39m (35): draw_size, tourney_date, match_num, winner_id, winner_seed, winner...\n",
      "\n",
      "\u001b[36mℹ\u001b[39m Use `spec()` to retrieve the full column specification for this data.\n",
      "\u001b[36mℹ\u001b[39m Specify the column types or set `show_col_types = FALSE` to quiet this message.\n",
      "\u001b[1mRows: \u001b[22m\u001b[34m2943\u001b[39m \u001b[1mColumns: \u001b[22m\u001b[34m49\u001b[39m\n",
      "\u001b[36m──\u001b[39m \u001b[1mColumn specification\u001b[22m \u001b[36m────────────────────────────────────────────────────────\u001b[39m\n",
      "\u001b[1mDelimiter:\u001b[22m \",\"\n",
      "\u001b[31mchr\u001b[39m (14): tourney_id, tourney_name, surface, tourney_level, winner_entry, wi...\n",
      "\u001b[32mdbl\u001b[39m (35): draw_size, tourney_date, match_num, winner_id, winner_seed, winner...\n",
      "\n",
      "\u001b[36mℹ\u001b[39m Use `spec()` to retrieve the full column specification for this data.\n",
      "\u001b[36mℹ\u001b[39m Specify the column types or set `show_col_types = FALSE` to quiet this message.\n",
      "\u001b[1mRows: \u001b[22m\u001b[34m2941\u001b[39m \u001b[1mColumns: \u001b[22m\u001b[34m49\u001b[39m\n",
      "\u001b[36m──\u001b[39m \u001b[1mColumn specification\u001b[22m \u001b[36m────────────────────────────────────────────────────────\u001b[39m\n",
      "\u001b[1mDelimiter:\u001b[22m \",\"\n",
      "\u001b[31mchr\u001b[39m (14): tourney_id, tourney_name, surface, tourney_level, winner_entry, wi...\n",
      "\u001b[32mdbl\u001b[39m (35): draw_size, tourney_date, match_num, winner_id, winner_seed, winner...\n",
      "\n",
      "\u001b[36mℹ\u001b[39m Use `spec()` to retrieve the full column specification for this data.\n",
      "\u001b[36mℹ\u001b[39m Specify the column types or set `show_col_types = FALSE` to quiet this message.\n",
      "\u001b[1mRows: \u001b[22m\u001b[34m2911\u001b[39m \u001b[1mColumns: \u001b[22m\u001b[34m49\u001b[39m\n",
      "\u001b[36m──\u001b[39m \u001b[1mColumn specification\u001b[22m \u001b[36m────────────────────────────────────────────────────────\u001b[39m\n",
      "\u001b[1mDelimiter:\u001b[22m \",\"\n",
      "\u001b[31mchr\u001b[39m (14): tourney_id, tourney_name, surface, tourney_level, winner_entry, wi...\n",
      "\u001b[32mdbl\u001b[39m (35): draw_size, tourney_date, match_num, winner_id, winner_seed, winner...\n",
      "\n",
      "\u001b[36mℹ\u001b[39m Use `spec()` to retrieve the full column specification for this data.\n",
      "\u001b[36mℹ\u001b[39m Specify the column types or set `show_col_types = FALSE` to quiet this message.\n",
      "\u001b[1mRows: \u001b[22m\u001b[34m2897\u001b[39m \u001b[1mColumns: \u001b[22m\u001b[34m49\u001b[39m\n",
      "\u001b[36m──\u001b[39m \u001b[1mColumn specification\u001b[22m \u001b[36m────────────────────────────────────────────────────────\u001b[39m\n",
      "\u001b[1mDelimiter:\u001b[22m \",\"\n",
      "\u001b[31mchr\u001b[39m (14): tourney_id, tourney_name, surface, tourney_level, winner_entry, wi...\n",
      "\u001b[32mdbl\u001b[39m (35): draw_size, tourney_date, match_num, winner_id, winner_seed, winner...\n",
      "\n",
      "\u001b[36mℹ\u001b[39m Use `spec()` to retrieve the full column specification for this data.\n",
      "\u001b[36mℹ\u001b[39m Specify the column types or set `show_col_types = FALSE` to quiet this message.\n",
      "\u001b[1mRows: \u001b[22m\u001b[34m2806\u001b[39m \u001b[1mColumns: \u001b[22m\u001b[34m49\u001b[39m\n",
      "\u001b[36m──\u001b[39m \u001b[1mColumn specification\u001b[22m \u001b[36m────────────────────────────────────────────────────────\u001b[39m\n",
      "\u001b[1mDelimiter:\u001b[22m \",\"\n",
      "\u001b[31mchr\u001b[39m (14): tourney_id, tourney_name, surface, tourney_level, winner_entry, wi...\n",
      "\u001b[32mdbl\u001b[39m (35): draw_size, tourney_date, match_num, winner_id, winner_seed, winner...\n",
      "\n",
      "\u001b[36mℹ\u001b[39m Use `spec()` to retrieve the full column specification for this data.\n",
      "\u001b[36mℹ\u001b[39m Specify the column types or set `show_col_types = FALSE` to quiet this message.\n",
      "\u001b[1mRows: \u001b[22m\u001b[34m1462\u001b[39m \u001b[1mColumns: \u001b[22m\u001b[34m49\u001b[39m\n",
      "\u001b[36m──\u001b[39m \u001b[1mColumn specification\u001b[22m \u001b[36m────────────────────────────────────────────────────────\u001b[39m\n",
      "\u001b[1mDelimiter:\u001b[22m \",\"\n",
      "\u001b[31mchr\u001b[39m (14): tourney_id, tourney_name, surface, tourney_level, winner_entry, wi...\n",
      "\u001b[32mdbl\u001b[39m (35): draw_size, tourney_date, match_num, winner_id, winner_seed, winner...\n",
      "\n",
      "\u001b[36mℹ\u001b[39m Use `spec()` to retrieve the full column specification for this data.\n",
      "\u001b[36mℹ\u001b[39m Specify the column types or set `show_col_types = FALSE` to quiet this message.\n",
      "\u001b[1mRows: \u001b[22m\u001b[34m2733\u001b[39m \u001b[1mColumns: \u001b[22m\u001b[34m49\u001b[39m\n",
      "\u001b[36m──\u001b[39m \u001b[1mColumn specification\u001b[22m \u001b[36m────────────────────────────────────────────────────────\u001b[39m\n",
      "\u001b[1mDelimiter:\u001b[22m \",\"\n",
      "\u001b[31mchr\u001b[39m (14): tourney_id, tourney_name, surface, tourney_level, winner_entry, wi...\n",
      "\u001b[32mdbl\u001b[39m (35): draw_size, tourney_date, match_num, winner_id, winner_seed, winner...\n",
      "\n",
      "\u001b[36mℹ\u001b[39m Use `spec()` to retrieve the full column specification for this data.\n",
      "\u001b[36mℹ\u001b[39m Specify the column types or set `show_col_types = FALSE` to quiet this message.\n",
      "\u001b[1mRows: \u001b[22m\u001b[34m2917\u001b[39m \u001b[1mColumns: \u001b[22m\u001b[34m49\u001b[39m\n",
      "\u001b[36m──\u001b[39m \u001b[1mColumn specification\u001b[22m \u001b[36m────────────────────────────────────────────────────────\u001b[39m\n",
      "\u001b[1mDelimiter:\u001b[22m \",\"\n",
      "\u001b[31mchr\u001b[39m (14): tourney_id, tourney_name, surface, tourney_level, winner_entry, wi...\n",
      "\u001b[32mdbl\u001b[39m (35): draw_size, tourney_date, match_num, winner_id, winner_seed, winner...\n",
      "\n",
      "\u001b[36mℹ\u001b[39m Use `spec()` to retrieve the full column specification for this data.\n",
      "\u001b[36mℹ\u001b[39m Specify the column types or set `show_col_types = FALSE` to quiet this message.\n",
      "\u001b[1mRows: \u001b[22m\u001b[34m2956\u001b[39m \u001b[1mColumns: \u001b[22m\u001b[34m49\u001b[39m\n",
      "\u001b[36m──\u001b[39m \u001b[1mColumn specification\u001b[22m \u001b[36m────────────────────────────────────────────────────────\u001b[39m\n",
      "\u001b[1mDelimiter:\u001b[22m \",\"\n",
      "\u001b[31mchr\u001b[39m (14): tourney_id, tourney_name, surface, tourney_level, winner_entry, wi...\n",
      "\u001b[32mdbl\u001b[39m (35): draw_size, tourney_date, match_num, winner_id, winner_seed, winner...\n",
      "\n",
      "\u001b[36mℹ\u001b[39m Use `spec()` to retrieve the full column specification for this data.\n",
      "\u001b[36mℹ\u001b[39m Specify the column types or set `show_col_types = FALSE` to quiet this message.\n"
     ]
    }
   ],
   "source": [
    "data2014<- read_csv(\"data/data2014.csv\")\n",
    "data2015<- read_csv(\"data/data2015.csv\")\n",
    "data2016<- read_csv(\"data/data2016.csv\")\n",
    "data2017<- read_csv(\"data/data2017.csv\")\n",
    "data2018<- read_csv(\"data/data2018.csv\")\n",
    "data2019<- read_csv(\"data/data2019.csv\")\n",
    "data2020<- read_csv(\"data/data2020.csv\")\n",
    "data2021<- read_csv(\"data/data2021.csv\")\n",
    "data2022<- read_csv(\"data/data2022.csv\")\n",
    "data2023<- read_csv(\"data/data2023.csv\")"
   ]
  },
  {
   "cell_type": "markdown",
   "id": "7318c392-179b-4a7d-9f9c-f4cc914367cf",
   "metadata": {},
   "source": [
    "However, our data set isn't tidy because the categorical factor of \"win\" or \"loss\" is integrated into every column. We first must combine the columns and extract the \"win\" or \"loss\" factor into a new column. \n"
   ]
  },
  {
   "cell_type": "code",
   "execution_count": 4,
   "id": "002fae09-012c-46e4-9bfa-a1de475ec239",
   "metadata": {
    "tags": []
   },
   "outputs": [
    {
     "name": "stdout",
     "output_type": "stream",
     "text": [
      "Rows: 27,467\n",
      "Columns: 49\n",
      "$ tourney_id         \u001b[3m\u001b[90m<chr>\u001b[39m\u001b[23m \"2014-339\", \"2014-339\", \"2014-339\", \"2014-339\", \"20…\n",
      "$ tourney_name       \u001b[3m\u001b[90m<chr>\u001b[39m\u001b[23m \"Brisbane\", \"Brisbane\", \"Brisbane\", \"Brisbane\", \"Br…\n",
      "$ surface            \u001b[3m\u001b[90m<chr>\u001b[39m\u001b[23m \"Hard\", \"Hard\", \"Hard\", \"Hard\", \"Hard\", \"Hard\", \"Ha…\n",
      "$ draw_size          \u001b[3m\u001b[90m<dbl>\u001b[39m\u001b[23m 28, 28, 28, 28, 28, 28, 28, 28, 28, 28, 28, 28, 28,…\n",
      "$ tourney_level      \u001b[3m\u001b[90m<chr>\u001b[39m\u001b[23m \"A\", \"A\", \"A\", \"A\", \"A\", \"A\", \"A\", \"A\", \"A\", \"A\", \"…\n",
      "$ tourney_date       \u001b[3m\u001b[90m<dbl>\u001b[39m\u001b[23m 20131229, 20131229, 20131229, 20131229, 20131229, 2…\n",
      "$ match_num          \u001b[3m\u001b[90m<dbl>\u001b[39m\u001b[23m 1, 2, 3, 4, 5, 6, 7, 8, 9, 10, 11, 12, 13, 14, 15, …\n",
      "$ winner_id          \u001b[3m\u001b[90m<dbl>\u001b[39m\u001b[23m 103813, 104594, 105023, 105032, 103917, 104871, 103…\n",
      "$ winner_seed        \u001b[3m\u001b[90m<dbl>\u001b[39m\u001b[23m NA, NA, NA, NA, NA, 8, 6, NA, NA, 5, NA, NA, 1, NA,…\n",
      "$ winner_entry       \u001b[3m\u001b[90m<chr>\u001b[39m\u001b[23m NA, NA, NA, \"WC\", NA, NA, NA, NA, \"Q\", NA, NA, NA, …\n",
      "$ winner_name        \u001b[3m\u001b[90m<chr>\u001b[39m\u001b[23m \"Jarkko Nieminen\", \"Marinko Matosevic\", \"Sam Querre…\n",
      "$ winner_hand        \u001b[3m\u001b[90m<chr>\u001b[39m\u001b[23m \"L\", \"R\", \"R\", \"R\", \"R\", \"R\", \"L\", \"R\", \"R\", \"R\", \"…\n",
      "$ winner_ht          \u001b[3m\u001b[90m<dbl>\u001b[39m\u001b[23m 185, 194, 198, 193, 190, 188, 188, 180, 193, 188, 1…\n",
      "$ winner_ioc         \u001b[3m\u001b[90m<chr>\u001b[39m\u001b[23m \"FIN\", \"AUS\", \"USA\", \"AUS\", \"FRA\", \"FRA\", \"ESP\", \"A…\n",
      "$ winner_age         \u001b[3m\u001b[90m<dbl>\u001b[39m\u001b[23m 32.4, 28.3, 26.2, 26.1, 31.9, 26.8, 32.2, 32.8, 23.…\n",
      "$ loser_id           \u001b[3m\u001b[90m<dbl>\u001b[39m\u001b[23m 105902, 103898, 104098, 105992, 104997, 105173, 105…\n",
      "$ loser_seed         \u001b[3m\u001b[90m<dbl>\u001b[39m\u001b[23m NA, NA, 7, NA, NA, NA, NA, NA, NA, NA, NA, NA, NA, …\n",
      "$ loser_entry        \u001b[3m\u001b[90m<chr>\u001b[39m\u001b[23m \"WC\", NA, NA, \"Q\", NA, NA, NA, \"Q\", \"Q\", NA, NA, \"L…\n",
      "$ loser_name         \u001b[3m\u001b[90m<chr>\u001b[39m\u001b[23m \"James Duckworth\", \"Julien Benneteau\", \"Dmitry Turs…\n",
      "$ loser_hand         \u001b[3m\u001b[90m<chr>\u001b[39m\u001b[23m \"R\", \"R\", \"R\", \"R\", \"R\", \"L\", \"R\", \"R\", \"R\", \"R\", \"…\n",
      "$ loser_ht           \u001b[3m\u001b[90m<dbl>\u001b[39m\u001b[23m 183, 185, 185, 183, 190, 183, 183, 196, 173, 190, 1…\n",
      "$ loser_ioc          \u001b[3m\u001b[90m<chr>\u001b[39m\u001b[23m \"AUS\", \"FRA\", \"RUS\", \"USA\", \"NED\", \"FRA\", \"KAZ\", \"A…\n",
      "$ loser_age          \u001b[3m\u001b[90m<dbl>\u001b[39m\u001b[23m 21.9, 32.0, 31.0, 21.6, 26.3, 25.5, 26.0, 17.7, 25.…\n",
      "$ score              \u001b[3m\u001b[90m<chr>\u001b[39m\u001b[23m \"6-2 6-3\", \"5-7 6-4 7-6(4)\", \"7-5 6-4\", \"7-6(3) 7-6…\n",
      "$ best_of            \u001b[3m\u001b[90m<dbl>\u001b[39m\u001b[23m 3, 3, 3, 3, 3, 3, 3, 3, 3, 3, 3, 3, 3, 3, 3, 3, 3, …\n",
      "$ round              \u001b[3m\u001b[90m<chr>\u001b[39m\u001b[23m \"R32\", \"R32\", \"R32\", \"R32\", \"R32\", \"R32\", \"R32\", \"R…\n",
      "$ minutes            \u001b[3m\u001b[90m<dbl>\u001b[39m\u001b[23m 72, 161, 77, 95, 107, 109, 75, 101, 174, 58, 142, 7…\n",
      "$ w_ace              \u001b[3m\u001b[90m<dbl>\u001b[39m\u001b[23m 5, 11, 18, 23, 15, 10, 13, 4, 31, 6, 14, 5, 9, 4, 1…\n",
      "$ w_df               \u001b[3m\u001b[90m<dbl>\u001b[39m\u001b[23m 3, 3, 1, 2, 4, 2, 3, 1, 2, 1, 7, 7, 0, 3, 7, 3, 2, …\n",
      "$ w_svpt             \u001b[3m\u001b[90m<dbl>\u001b[39m\u001b[23m 71, 112, 58, 70, 100, 76, 55, 62, 128, 43, 111, 61,…\n",
      "$ w_1stIn            \u001b[3m\u001b[90m<dbl>\u001b[39m\u001b[23m 54, 68, 40, 51, 59, 50, 30, 32, 75, 23, 59, 40, 34,…\n",
      "$ w_1stWon           \u001b[3m\u001b[90m<dbl>\u001b[39m\u001b[23m 36, 43, 36, 46, 46, 34, 24, 27, 66, 21, 51, 32, 27,…\n",
      "$ w_2ndWon           \u001b[3m\u001b[90m<dbl>\u001b[39m\u001b[23m 9, 26, 7, 10, 18, 15, 14, 16, 27, 15, 27, 6, 14, 26…\n",
      "$ w_SvGms            \u001b[3m\u001b[90m<dbl>\u001b[39m\u001b[23m 9, 17, 11, 12, 15, 12, 10, 10, 18, 9, 17, 10, 9, 17…\n",
      "$ w_bpSaved          \u001b[3m\u001b[90m<dbl>\u001b[39m\u001b[23m 5, 5, 2, 1, 4, 4, 1, 3, 2, 0, 2, 1, 4, 9, 5, 1, 9, …\n",
      "$ w_bpFaced          \u001b[3m\u001b[90m<dbl>\u001b[39m\u001b[23m 5, 9, 3, 1, 6, 7, 3, 4, 2, 0, 2, 3, 4, 12, 8, 3, 10…\n",
      "$ l_ace              \u001b[3m\u001b[90m<dbl>\u001b[39m\u001b[23m 9, 14, 4, 5, 13, 4, 4, 8, 4, 2, 8, 4, 1, 19, 8, 12,…\n",
      "$ l_df               \u001b[3m\u001b[90m<dbl>\u001b[39m\u001b[23m 7, 1, 0, 4, 2, 3, 2, 5, 1, 1, 2, 1, 4, 2, 6, 6, 8, …\n",
      "$ l_svpt             \u001b[3m\u001b[90m<dbl>\u001b[39m\u001b[23m 51, 117, 63, 86, 78, 88, 58, 76, 126, 56, 100, 56, …\n",
      "$ l_1stIn            \u001b[3m\u001b[90m<dbl>\u001b[39m\u001b[23m 29, 76, 40, 59, 50, 54, 28, 45, 90, 39, 56, 43, 35,…\n",
      "$ l_1stWon           \u001b[3m\u001b[90m<dbl>\u001b[39m\u001b[23m 23, 51, 26, 43, 43, 31, 12, 29, 71, 24, 45, 24, 21,…\n",
      "$ l_2ndWon           \u001b[3m\u001b[90m<dbl>\u001b[39m\u001b[23m 6, 18, 12, 15, 12, 17, 19, 15, 22, 8, 29, 7, 14, 23…\n",
      "$ l_SvGms            \u001b[3m\u001b[90m<dbl>\u001b[39m\u001b[23m 8, 17, 11, 12, 14, 12, 10, 11, 18, 8, 17, 9, 9, 17,…\n",
      "$ l_bpSaved          \u001b[3m\u001b[90m<dbl>\u001b[39m\u001b[23m 2, 7, 6, 4, 2, 5, 2, 11, 8, 5, 2, 6, 1, 3, 3, 4, 3,…\n",
      "$ l_bpFaced          \u001b[3m\u001b[90m<dbl>\u001b[39m\u001b[23m 5, 11, 9, 4, 4, 9, 6, 15, 8, 8, 3, 10, 4, 6, 5, 8, …\n",
      "$ winner_rank        \u001b[3m\u001b[90m<dbl>\u001b[39m\u001b[23m 39, 61, 46, 172, 50, 34, 28, 60, 147, 23, 37, 68, 6…\n",
      "$ winner_rank_points \u001b[3m\u001b[90m<dbl>\u001b[39m\u001b[23m 1090, 774, 960, 307, 918, 1175, 1310, 780, 369, 152…\n",
      "$ loser_rank         \u001b[3m\u001b[90m<dbl>\u001b[39m\u001b[23m 136, 35, 29, 100, 70, 59, 67, 628, 170, 43, 45, 142…\n",
      "$ loser_rank_points  \u001b[3m\u001b[90m<dbl>\u001b[39m\u001b[23m 425, 1160, 1244, 549, 697, 784, 721, 41, 310, 977, …\n"
     ]
    }
   ],
   "source": [
    "gigadata <- rbind(data2014, data2015, data2016, data2017, data2018, data2019, data2020, data2021, data2022, data2023) \n",
    "\n",
    "glimpse(gigadata)\n",
    "\n",
    "\n",
    "selected_gigadata<- select(gigadata, w_ace, l_ace, winner_rank_points, loser_rank_points, loser_rank, winner_rank, winner_ht, loser_ht, winner_age, loser_age, l_df, w_df )\n"
   ]
  },
  {
   "cell_type": "code",
   "execution_count": 5,
   "id": "2b4e347b-4611-4221-8a62-c551e87dcfa7",
   "metadata": {
    "tags": []
   },
   "outputs": [
    {
     "name": "stdout",
     "output_type": "stream",
     "text": [
      "Rows: 27,467\n",
      "Columns: 6\n",
      "$ w_ace              \u001b[3m\u001b[90m<dbl>\u001b[39m\u001b[23m 5, 11, 18, 23, 15, 10, 13, 4, 31, 6, 14, 5, 9, 4, 1…\n",
      "$ winner_rank_points \u001b[3m\u001b[90m<dbl>\u001b[39m\u001b[23m 1090, 774, 960, 307, 918, 1175, 1310, 780, 369, 152…\n",
      "$ winner_rank        \u001b[3m\u001b[90m<dbl>\u001b[39m\u001b[23m 39, 61, 46, 172, 50, 34, 28, 60, 147, 23, 37, 68, 6…\n",
      "$ w_df               \u001b[3m\u001b[90m<dbl>\u001b[39m\u001b[23m 3, 3, 1, 2, 4, 2, 3, 1, 2, 1, 7, 7, 0, 3, 7, 3, 2, …\n",
      "$ winner_age         \u001b[3m\u001b[90m<dbl>\u001b[39m\u001b[23m 32.4, 28.3, 26.2, 26.1, 31.9, 26.8, 32.2, 32.8, 23.…\n",
      "$ winner_ht          \u001b[3m\u001b[90m<dbl>\u001b[39m\u001b[23m 185, 194, 198, 193, 190, 188, 188, 180, 193, 188, 1…\n"
     ]
    }
   ],
   "source": [
    "\n",
    "w_gigadata<- select(selected_gigadata, w_ace, winner_rank_points, winner_rank, w_df, winner_age, winner_ht)\n",
    "l_gigadata<- select(selected_gigadata, l_ace, loser_rank_points, loser_rank, l_df, loser_age, loser_ht)\n",
    "\n",
    "glimpse(w_gigadata)\n"
   ]
  },
  {
   "cell_type": "code",
   "execution_count": 6,
   "id": "2c3e00b7-7929-4bc7-9a33-da406678b30c",
   "metadata": {
    "tags": []
   },
   "outputs": [
    {
     "name": "stdout",
     "output_type": "stream",
     "text": [
      "Rows: 27,467\n",
      "Columns: 7\n",
      "$ ace         \u001b[3m\u001b[90m<dbl>\u001b[39m\u001b[23m 5, 11, 18, 23, 15, 10, 13, 4, 31, 6, 14, 5, 9, 4, 18, 10, …\n",
      "$ rank_points \u001b[3m\u001b[90m<dbl>\u001b[39m\u001b[23m 1090, 774, 960, 307, 918, 1175, 1310, 780, 369, 1520, 1130…\n",
      "$ rank        \u001b[3m\u001b[90m<dbl>\u001b[39m\u001b[23m 39, 61, 46, 172, 50, 34, 28, 60, 147, 23, 37, 68, 6, 61, 1…\n",
      "$ dbl_fault   \u001b[3m\u001b[90m<dbl>\u001b[39m\u001b[23m 3, 3, 1, 2, 4, 2, 3, 1, 2, 1, 7, 7, 0, 3, 7, 3, 2, 0, 4, 1…\n",
      "$ age         \u001b[3m\u001b[90m<dbl>\u001b[39m\u001b[23m 32.4, 28.3, 26.2, 26.1, 31.9, 26.8, 32.2, 32.8, 23.2, 22.6…\n",
      "$ height      \u001b[3m\u001b[90m<dbl>\u001b[39m\u001b[23m 185, 194, 198, 193, 190, 188, 188, 180, 193, 188, 198, 188…\n",
      "$ status      \u001b[3m\u001b[90m<fct>\u001b[39m\u001b[23m win, win, win, win, win, win, win, win, win, win, win, win…\n",
      "Rows: 27,467\n",
      "Columns: 7\n",
      "$ ace         \u001b[3m\u001b[90m<dbl>\u001b[39m\u001b[23m 9, 14, 4, 5, 13, 4, 4, 8, 4, 2, 8, 4, 1, 19, 8, 12, 8, 2, …\n",
      "$ rank_points \u001b[3m\u001b[90m<dbl>\u001b[39m\u001b[23m 425, 1160, 1244, 549, 697, 784, 721, 41, 310, 977, 965, 39…\n",
      "$ rank        \u001b[3m\u001b[90m<dbl>\u001b[39m\u001b[23m 136, 35, 29, 100, 70, 59, 67, 628, 170, 43, 45, 142, 39, 4…\n",
      "$ dbl_fault   \u001b[3m\u001b[90m<dbl>\u001b[39m\u001b[23m 7, 1, 0, 4, 2, 3, 2, 5, 1, 1, 2, 1, 4, 2, 6, 6, 8, 2, 1, 2…\n",
      "$ age         \u001b[3m\u001b[90m<dbl>\u001b[39m\u001b[23m 21.9, 32.0, 31.0, 21.6, 26.3, 25.5, 26.0, 17.7, 25.2, 26.7…\n",
      "$ height      \u001b[3m\u001b[90m<dbl>\u001b[39m\u001b[23m 183, 185, 185, 183, 190, 183, 183, 196, 173, 190, 188, 183…\n",
      "$ status      \u001b[3m\u001b[90m<fct>\u001b[39m\u001b[23m loss, loss, loss, loss, loss, loss, loss, loss, loss, loss…\n"
     ]
    }
   ],
   "source": [
    "w_gigadata<- mutate(w_gigadata, status = \"win\") |>\n",
    "                mutate(status = as.factor(status)) |>\n",
    "                rename(\"ace\" = w_ace, \"rank_points\" = winner_rank_points, \"rank\" = winner_rank, \"age\" = winner_age, \"height\" = winner_ht, \"dbl_fault\" = w_df)\n",
    "glimpse(w_gigadata)\n",
    "\n",
    "l_gigadata<- mutate(l_gigadata, status = \"loss\") |>\n",
    "                mutate(status = as.factor(status)) |>\n",
    "                rename(\"ace\" = l_ace, \"rank_points\" = loser_rank_points, \"rank\" = loser_rank, \"age\" = loser_age, \"height\" = loser_ht, \"dbl_fault\" = l_df)\n",
    "glimpse(l_gigadata)"
   ]
  },
  {
   "cell_type": "code",
   "execution_count": 7,
   "id": "b60f1cb9-3804-4f52-8dcf-54118e35d108",
   "metadata": {
    "tags": []
   },
   "outputs": [
    {
     "name": "stdout",
     "output_type": "stream",
     "text": [
      "Rows: 54,934\n",
      "Columns: 7\n",
      "$ ace         \u001b[3m\u001b[90m<dbl>\u001b[39m\u001b[23m 5, 11, 18, 23, 15, 10, 13, 4, 31, 6, 14, 5, 9, 4, 18, 10, …\n",
      "$ rank_points \u001b[3m\u001b[90m<dbl>\u001b[39m\u001b[23m 1090, 774, 960, 307, 918, 1175, 1310, 780, 369, 1520, 1130…\n",
      "$ rank        \u001b[3m\u001b[90m<dbl>\u001b[39m\u001b[23m 39, 61, 46, 172, 50, 34, 28, 60, 147, 23, 37, 68, 6, 61, 1…\n",
      "$ dbl_fault   \u001b[3m\u001b[90m<dbl>\u001b[39m\u001b[23m 3, 3, 1, 2, 4, 2, 3, 1, 2, 1, 7, 7, 0, 3, 7, 3, 2, 0, 4, 1…\n",
      "$ age         \u001b[3m\u001b[90m<dbl>\u001b[39m\u001b[23m 32.4, 28.3, 26.2, 26.1, 31.9, 26.8, 32.2, 32.8, 23.2, 22.6…\n",
      "$ height      \u001b[3m\u001b[90m<dbl>\u001b[39m\u001b[23m 185, 194, 198, 193, 190, 188, 188, 180, 193, 188, 198, 188…\n",
      "$ status      \u001b[3m\u001b[90m<fct>\u001b[39m\u001b[23m win, win, win, win, win, win, win, win, win, win, win, win…\n"
     ]
    }
   ],
   "source": [
    "new_data<- rbind(w_gigadata, l_gigadata)\n",
    "glimpse(new_data)"
   ]
  },
  {
   "cell_type": "code",
   "execution_count": 8,
   "id": "de6e0b21-a3ce-4274-b87e-5babcb8786c3",
   "metadata": {
    "tags": []
   },
   "outputs": [
    {
     "data": {
      "text/html": [
       "<table class=\"dataframe\">\n",
       "<caption>A tibble: 6 × 7</caption>\n",
       "<thead>\n",
       "\t<tr><th scope=col>ace</th><th scope=col>rank_points</th><th scope=col>rank</th><th scope=col>dbl_fault</th><th scope=col>age</th><th scope=col>height</th><th scope=col>status</th></tr>\n",
       "\t<tr><th scope=col>&lt;dbl&gt;</th><th scope=col>&lt;dbl&gt;</th><th scope=col>&lt;dbl&gt;</th><th scope=col>&lt;dbl&gt;</th><th scope=col>&lt;dbl&gt;</th><th scope=col>&lt;dbl&gt;</th><th scope=col>&lt;fct&gt;</th></tr>\n",
       "</thead>\n",
       "<tbody>\n",
       "\t<tr><td> 9</td><td> 425</td><td>136</td><td>7</td><td>21.9</td><td>183</td><td>loss</td></tr>\n",
       "\t<tr><td>14</td><td>1160</td><td> 35</td><td>1</td><td>32.0</td><td>185</td><td>loss</td></tr>\n",
       "\t<tr><td> 4</td><td>1244</td><td> 29</td><td>0</td><td>31.0</td><td>185</td><td>loss</td></tr>\n",
       "\t<tr><td> 5</td><td> 549</td><td>100</td><td>4</td><td>21.6</td><td>183</td><td>loss</td></tr>\n",
       "\t<tr><td>13</td><td> 697</td><td> 70</td><td>2</td><td>26.3</td><td>190</td><td>loss</td></tr>\n",
       "\t<tr><td> 4</td><td> 784</td><td> 59</td><td>3</td><td>25.5</td><td>183</td><td>loss</td></tr>\n",
       "</tbody>\n",
       "</table>\n"
      ],
      "text/latex": [
       "A tibble: 6 × 7\n",
       "\\begin{tabular}{lllllll}\n",
       " ace & rank\\_points & rank & dbl\\_fault & age & height & status\\\\\n",
       " <dbl> & <dbl> & <dbl> & <dbl> & <dbl> & <dbl> & <fct>\\\\\n",
       "\\hline\n",
       "\t  9 &  425 & 136 & 7 & 21.9 & 183 & loss\\\\\n",
       "\t 14 & 1160 &  35 & 1 & 32.0 & 185 & loss\\\\\n",
       "\t  4 & 1244 &  29 & 0 & 31.0 & 185 & loss\\\\\n",
       "\t  5 &  549 & 100 & 4 & 21.6 & 183 & loss\\\\\n",
       "\t 13 &  697 &  70 & 2 & 26.3 & 190 & loss\\\\\n",
       "\t  4 &  784 &  59 & 3 & 25.5 & 183 & loss\\\\\n",
       "\\end{tabular}\n"
      ],
      "text/markdown": [
       "\n",
       "A tibble: 6 × 7\n",
       "\n",
       "| ace &lt;dbl&gt; | rank_points &lt;dbl&gt; | rank &lt;dbl&gt; | dbl_fault &lt;dbl&gt; | age &lt;dbl&gt; | height &lt;dbl&gt; | status &lt;fct&gt; |\n",
       "|---|---|---|---|---|---|---|\n",
       "|  9 |  425 | 136 | 7 | 21.9 | 183 | loss |\n",
       "| 14 | 1160 |  35 | 1 | 32.0 | 185 | loss |\n",
       "|  4 | 1244 |  29 | 0 | 31.0 | 185 | loss |\n",
       "|  5 |  549 | 100 | 4 | 21.6 | 183 | loss |\n",
       "| 13 |  697 |  70 | 2 | 26.3 | 190 | loss |\n",
       "|  4 |  784 |  59 | 3 | 25.5 | 183 | loss |\n",
       "\n"
      ],
      "text/plain": [
       "  ace rank_points rank dbl_fault age  height status\n",
       "1  9   425        136  7         21.9 183    loss  \n",
       "2 14  1160         35  1         32.0 185    loss  \n",
       "3  4  1244         29  0         31.0 185    loss  \n",
       "4  5   549        100  4         21.6 183    loss  \n",
       "5 13   697         70  2         26.3 190    loss  \n",
       "6  4   784         59  3         25.5 183    loss  "
      ]
     },
     "metadata": {},
     "output_type": "display_data"
    },
    {
     "data": {
      "text/html": [
       "41200"
      ],
      "text/latex": [
       "41200"
      ],
      "text/markdown": [
       "41200"
      ],
      "text/plain": [
       "[1] 41200"
      ]
     },
     "metadata": {},
     "output_type": "display_data"
    }
   ],
   "source": [
    "tennis_split <- initial_split(new_data, prop = 0.75, strata = status)\n",
    "tennis_train <- training(tennis_split)\n",
    "tennis_test <- testing(tennis_split) \n",
    "\n",
    "head(tennis_train)\n",
    "nrow(tennis_train)"
   ]
  },
  {
   "cell_type": "code",
   "execution_count": 11,
   "id": "36788e1b-8f06-44bf-a098-c591e305efbb",
   "metadata": {
    "tags": []
   },
   "outputs": [
    {
     "name": "stderr",
     "output_type": "stream",
     "text": [
      "\u001b[31mx\u001b[39m \u001b[31mFold1: preprocessor 1/1, model 1/1 (predictions):\n",
      "  \u001b[1m\u001b[33mError\u001b[31m in `mutate()`:\u001b[22m\n",
      "  \u001b[1m\u001b[22m\u001b[36mℹ\u001b[31m In argument: `.row = orig_rows`.\n",
      "  \u001b[1mCaused by error:\u001b[22m\n",
      "  \u001b[1m\u001b[22m\u001b[33m!\u001b[31m `.row` must be size 7666 or 1, not 8240.\u001b[39m\n",
      "\n",
      "\u001b[31mx\u001b[39m \u001b[31mFold2: preprocessor 1/1, model 1/1 (predictions):\n",
      "  \u001b[1m\u001b[33mError\u001b[31m in `mutate()`:\u001b[22m\n",
      "  \u001b[1m\u001b[22m\u001b[36mℹ\u001b[31m In argument: `.row = orig_rows`.\n",
      "  \u001b[1mCaused by error:\u001b[22m\n",
      "  \u001b[1m\u001b[22m\u001b[33m!\u001b[31m `.row` must be size 7656 or 1, not 8240.\u001b[39m\n",
      "\n",
      "\u001b[31mx\u001b[39m \u001b[31mFold3: preprocessor 1/1, model 1/1 (predictions):\n",
      "  \u001b[1m\u001b[33mError\u001b[31m in `mutate()`:\u001b[22m\n",
      "  \u001b[1m\u001b[22m\u001b[36mℹ\u001b[31m In argument: `.row = orig_rows`.\n",
      "  \u001b[1mCaused by error:\u001b[22m\n",
      "  \u001b[1m\u001b[22m\u001b[33m!\u001b[31m `.row` must be size 7678 or 1, not 8240.\u001b[39m\n",
      "\n",
      "\u001b[31mx\u001b[39m \u001b[31mFold4: preprocessor 1/1, model 1/1 (predictions):\n",
      "  \u001b[1m\u001b[33mError\u001b[31m in `mutate()`:\u001b[22m\n",
      "  \u001b[1m\u001b[22m\u001b[36mℹ\u001b[31m In argument: `.row = orig_rows`.\n",
      "  \u001b[1mCaused by error:\u001b[22m\n",
      "  \u001b[1m\u001b[22m\u001b[33m!\u001b[31m `.row` must be size 7667 or 1, not 8240.\u001b[39m\n",
      "\n",
      "\u001b[31mx\u001b[39m \u001b[31mFold5: preprocessor 1/1, model 1/1 (predictions):\n",
      "  \u001b[1m\u001b[33mError\u001b[31m in `mutate()`:\u001b[22m\n",
      "  \u001b[1m\u001b[22m\u001b[36mℹ\u001b[31m In argument: `.row = orig_rows`.\n",
      "  \u001b[1mCaused by error:\u001b[22m\n",
      "  \u001b[1m\u001b[22m\u001b[33m!\u001b[31m `.row` must be size 7668 or 1, not 8240.\u001b[39m\n",
      "\n",
      "Warning message:\n",
      "“All models failed. Run `show_notes(.Last.tune.result)` for more information.”\n"
     ]
    },
    {
     "ename": "ERROR",
     "evalue": "\u001b[1m\u001b[33mError\u001b[39m in `estimate_tune_results()`:\u001b[22m\n\u001b[33m!\u001b[39m All of the models failed. See the .notes column.\n",
     "output_type": "error",
     "traceback": [
      "\u001b[1m\u001b[33mError\u001b[39m in `estimate_tune_results()`:\u001b[22m\n\u001b[33m!\u001b[39m All of the models failed. See the .notes column.\nTraceback:\n",
      "1. collect_metrics(tune_grid(add_model(add_recipe(workflow(), tennis_recipe), \n .     knn_spec), resamples = tennis_vfold, grid = tibble(neighbors = c(2, \n .     3, 4, 5, 6))))",
      "2. collect_metrics.tune_results(tune_grid(add_model(add_recipe(workflow(), \n .     tennis_recipe), knn_spec), resamples = tennis_vfold, grid = tibble(neighbors = c(2, \n .     3, 4, 5, 6))))",
      "3. estimate_tune_results(x)",
      "4. rlang::abort(\"All of the models failed. See the .notes column.\")",
      "5. signal_abort(cnd, .file)"
     ]
    }
   ],
   "source": [
    "set.seed(10)\n",
    "\n",
    "options(repr.plot.height = 5, repr.plot.width = 6)\n",
    "\n",
    "knn_spec <- nearest_neighbor(weight_func = \"rectangular\", neighbors = tune()) |>\n",
    "            set_engine(\"kknn\") |>\n",
    "            set_mode(\"classification\")\n",
    "\n",
    "tennis_recipe <- recipe(status ~., data = tennis_train)\n",
    "\n",
    "tennis_vfold <- vfold_cv(tennis_train, v = 5, strata = status)\n",
    "\n",
    "knn_results <- workflow() |>\n",
    "                 add_recipe(tennis_recipe) |>\n",
    "                 add_model(knn_spec) |>\n",
    "                 tune_grid(resamples = tennis_vfold, grid = tibble(neighbors = c(2,3,4,5,6))) |>\n",
    "                 collect_metrics()\n",
    "\n",
    "accuracy <- knn_results |>\n",
    "                 filter(.metric == 'accuracy')\n",
    "\n",
    "cross_val_plot <- ggplot(accuracy, aes(x = neighbors, y = mean)) +\n",
    "                  geom_point() +\n",
    "                  geom_line() +\n",
    "                  labs(x = 'Neighbors', y = 'Accuracy Estimate') +\n",
    "                  theme(text = element_text(size = 20)) +\n",
    "                  scale_x_continuous(breaks = seq(0, 20, 2)) +\n",
    "                  scale_y_continuous(limits = c(0.7, 0.85))\n",
    "\n",
    "cross_val_plot"
   ]
  },
  {
   "cell_type": "code",
   "execution_count": 10,
   "id": "3a596277-7044-4834-88e3-8d85dc5943d5",
   "metadata": {
    "tags": []
   },
   "outputs": [
    {
     "name": "stdout",
     "output_type": "stream",
     "text": [
      "unique notes:\n",
      "─────────────────────────────────────────────────────────────\n",
      "\u001b[1m\u001b[33mError\u001b[39m in `mutate()`:\u001b[22m\n",
      "\u001b[1m\u001b[22m\u001b[36mℹ\u001b[39m In argument: `.row = orig_rows`.\n",
      "\u001b[1mCaused by error:\u001b[22m\n",
      "\u001b[1m\u001b[22m\u001b[33m!\u001b[39m `.row` must be size 7666 or 1, not 8240.\n",
      "─────────────────────────────────────────────────────────────\n",
      "\u001b[1m\u001b[33mError\u001b[39m in `mutate()`:\u001b[22m\n",
      "\u001b[1m\u001b[22m\u001b[36mℹ\u001b[39m In argument: `.row = orig_rows`.\n",
      "\u001b[1mCaused by error:\u001b[22m\n",
      "\u001b[1m\u001b[22m\u001b[33m!\u001b[39m `.row` must be size 7656 or 1, not 8240.\n",
      "─────────────────────────────────────────────────────────────\n",
      "\u001b[1m\u001b[33mError\u001b[39m in `mutate()`:\u001b[22m\n",
      "\u001b[1m\u001b[22m\u001b[36mℹ\u001b[39m In argument: `.row = orig_rows`.\n",
      "\u001b[1mCaused by error:\u001b[22m\n",
      "\u001b[1m\u001b[22m\u001b[33m!\u001b[39m `.row` must be size 7678 or 1, not 8240.\n",
      "─────────────────────────────────────────────────────────────\n",
      "\u001b[1m\u001b[33mError\u001b[39m in `mutate()`:\u001b[22m\n",
      "\u001b[1m\u001b[22m\u001b[36mℹ\u001b[39m In argument: `.row = orig_rows`.\n",
      "\u001b[1mCaused by error:\u001b[22m\n",
      "\u001b[1m\u001b[22m\u001b[33m!\u001b[39m `.row` must be size 7667 or 1, not 8240.\n",
      "─────────────────────────────────────────────────────────────\n",
      "\u001b[1m\u001b[33mError\u001b[39m in `mutate()`:\u001b[22m\n",
      "\u001b[1m\u001b[22m\u001b[36mℹ\u001b[39m In argument: `.row = orig_rows`.\n",
      "\u001b[1mCaused by error:\u001b[22m\n",
      "\u001b[1m\u001b[22m\u001b[33m!\u001b[39m `.row` must be size 7668 or 1, not 8240.\n"
     ]
    }
   ],
   "source": []
  },
  {
   "cell_type": "code",
   "execution_count": null,
   "id": "4226259a-6c2b-4d50-bc9a-4da884691a97",
   "metadata": {
    "tags": []
   },
   "outputs": [],
   "source": [
    "tennis_recipe <- recipe(status ~ rank_points + rank + ace, \n",
    "                        data = tennis_train) |>\n",
    "  step_scale(all_predictors()) |>\n",
    "  step_center(all_predictors())"
   ]
  },
  {
   "cell_type": "code",
   "execution_count": null,
   "id": "0f9ce9a4-07d7-4903-9d40-73a615436487",
   "metadata": {
    "tags": []
   },
   "outputs": [],
   "source": [
    "knn_spec <- nearest_neighbor(weight_func = \"rectangular\", \n",
    "                             neighbors = 5) |>\n",
    "  set_engine(\"kknn\") |>\n",
    "  set_mode(\"classification\")"
   ]
  },
  {
   "cell_type": "code",
   "execution_count": null,
   "id": "d72da198-2f22-4cf9-ad0a-194516ad3df0",
   "metadata": {
    "tags": []
   },
   "outputs": [],
   "source": [
    "knn_fit <- workflow() |>\n",
    "  add_recipe(tennis_recipe) |>\n",
    "  add_model(knn_spec) |>\n",
    "  fit(data = tennis_train)\n",
    "\n",
    "knn_fit"
   ]
  },
  {
   "cell_type": "code",
   "execution_count": null,
   "id": "1dea05d2-7a02-4ff6-bc02-889ffc0085e0",
   "metadata": {
    "tags": []
   },
   "outputs": [],
   "source": [
    "new_observation <- tibble(rank = 48, rank_points = 1500, ace = 10)\n",
    "prediction <- predict(knn_fit, new_observation)\n",
    "\n",
    "prediction"
   ]
  },
  {
   "cell_type": "code",
   "execution_count": null,
   "id": "9526c8f4-9c7a-4d13-8911-d36da17b3696",
   "metadata": {
    "tags": []
   },
   "outputs": [],
   "source": [
    "prediction <- predict(knn_fit, tennis_test)"
   ]
  },
  {
   "cell_type": "code",
   "execution_count": null,
   "id": "a64203eb-684f-43ca-860e-debaf7ee60a1",
   "metadata": {
    "tags": []
   },
   "outputs": [],
   "source": [
    "tennis_vfold <- vfold_cv(tennis_train, v = 10, strata = status)\n",
    "\n",
    "k_vals <- tibble(neighbors = seq(from = 1, to = 100, by = 5))\n",
    "\n",
    "knn_results <- workflow() |>\n",
    "  add_recipe(tennis_recipe) |>\n",
    "  add_model(knn_spec) |>\n",
    "  tune_grid(resamples = tennis_vfold, grid = k_vals) |>\n",
    "  collect_metrics() \n",
    "\n",
    "accuracies <- knn_results |>\n",
    "  filter(.metric == \"accuracy\")\n",
    "\n",
    "accuracies\n"
   ]
  },
  {
   "cell_type": "code",
   "execution_count": null,
   "id": "34d08b31-dc66-4079-84a6-77e2dd5feffa",
   "metadata": {
    "tags": []
   },
   "outputs": [],
   "source": [
    "rank_points_double<- mutate(tennis_train, rank_points= as.numeric(rank_points))\n",
    "double_graph<- mutate(rank_points_double, rank= as.numeric(rank))\n",
    "double_graph<- mutate(double_graph, ace= as.numeric(ace))\n",
    "head(double_graph)"
   ]
  },
  {
   "cell_type": "markdown",
   "id": "7b71bd01-ec52-4f05-a3c4-89611ead4f17",
   "metadata": {
    "tags": []
   },
   "source": [
    "## **Preliminary exploratory data analysis**\n",
    "\n",
    "    Our basic tables summarizes the average number of aces, rank points and ranking per the status of winning and losing a game. We can use these summary tables to visualize this in a simple bar graph. These visualization shows that the average number of aces and rank points are higher for winning games than losing. This tells us that a higher number of average aces, as well as higher rank points can be used to predict a winning tennis game. Surprisingly, we noticed that average ranking of a player is higher for losing games rather than winning. Further analysis needs to be done in order to explore this seemingly contradictory result. That being said, we will use ace, rank points, and player ranking as a predictor variable when creating our classification model. \n",
    "    \n"
   ]
  },
  {
   "cell_type": "code",
   "execution_count": null,
   "id": "9fd4f210-1e98-43fe-95c0-3c7502709582",
   "metadata": {
    "tags": []
   },
   "outputs": [],
   "source": [
    "ace_tbl<- double_graph|> \n",
    "            group_by(status)|>\n",
    "            summarize( average_aces = mean(ace, na.rm= TRUE))\n",
    "\n",
    "ace_tbl\n",
    "\n",
    "ace_bar<- ggplot(ace_tbl, aes(x= status, y = average_aces, fill=status)) + \n",
    "    geom_bar(stat=\"identity\") +\n",
    "    labs(x = \"Winner or Loser\", y = \"Average Number of Aces\", fill = \"Winner or Loser\") +\n",
    "    ggtitle(\"Average Number of Aces in Winning and Losing Matches\")\n",
    "\n",
    "ace_bar\n",
    "\n"
   ]
  },
  {
   "cell_type": "code",
   "execution_count": null,
   "id": "e743dd20-8fe4-47cd-a814-8982c699a008",
   "metadata": {
    "tags": []
   },
   "outputs": [],
   "source": [
    "ranking_points_data <- double_graph|>\n",
    "    group_by(status) |>\n",
    "    summarize( average_rank_points = mean(rank_points, na.rm = TRUE))\n",
    "\n",
    "ranking_points_data |> \n",
    "\n",
    "ggplot(aes(x=status, y =average_rank_points, fill = status)) + \n",
    "    geom_bar(stat=\"identity\") + \n",
    "    labs(x = \"Win or Loss\", y = \"Average Rank Points of Player\", fill = \"Win or Loss\") + \n",
    "    ggtitle(\"Average Rank Points of Winners and Losers of Tennis Matches\")"
   ]
  },
  {
   "cell_type": "code",
   "execution_count": null,
   "id": "a7e49f94-e53e-457b-bc25-bb1c3744ecd2",
   "metadata": {
    "tags": []
   },
   "outputs": [],
   "source": [
    "ranking_data <- double_graph|>\n",
    "    group_by(status) |>\n",
    "    summarize(average_rank = mean(rank, na.rm = TRUE))\n",
    "\n",
    "ranking_data |> \n",
    "ggplot(aes(x=status, y =average_rank, fill = status)) + \n",
    "    geom_bar(stat=\"identity\") + \n",
    "    labs(x = \"Win or Loss\", y = \"Average Rank of Player\", fill = \"Win or Loss\") + \n",
    "    ggtitle(\"Average Rank of Winners and Losers of Tennis Matches\")"
   ]
  },
  {
   "cell_type": "markdown",
   "id": "c82971e6-492b-4a63-9024-79d84bdf43b9",
   "metadata": {},
   "source": [
    "## **Methods** \n",
    "\n",
    "    We believe that a tennis player's rank points, rank, and number of aces will have an impact on a player's wins and losses. So after combining the data from previous years, we mainly choose aces, rank points and rank as explanatory variables. We also choose status as a response variable.\n",
    "    \n",
    "    In order to improve the accuracy of our classification, we decided to use a KNN classification model. We will split the organized data into 75% training data and 25% testing data. This will randomly extract the data without the influence of sorting and stratify the data by status label so that status has the same proportion in the training and testing sets. Next we'll pre-process the data, making sure that our test data doesn't affect any aspect of the model training. We then can create our K-nearest neighbor classifier into the workflow to make our prediction of status. Additionally, in order to avoid bias due to random selection, we will further split our training data into validation and training sets in order to cross-validate. We will also fine-tune our model by testing multiple K values and selecting the one with the highest accuracy by plotting K against accuracy for multiple K values. Finally, we will visualize the data by constructing multiple scatterplots, classifying values by distance to the nearest neighbor, which should predict status with high recall and precision. \n",
    "\n"
   ]
  },
  {
   "cell_type": "markdown",
   "id": "3c9cd570-1f7d-485c-8ac8-65728bce8963",
   "metadata": {},
   "source": [
    "## **Expected outcomes and significance**\n",
    "\n",
    "    We expect to find that predictors such as aces and rank points to have a significant impact on the probability of winning. This could be because the players that are more likely to win tend to have more aces. Aces are also a good indicator of a significant skill gap between players, as they are single round victories that are determined by the server. Therefore, players with more aces should theoretically be more skilled than those who have less, predicting a win. Additionally, players that have higher rank points are more likely to win a game, as rank points are a direct quantitative measure of skill. \n",
    "    \n",
    "    Some potential outcomes of our model could be its usage by tennis organizations and coaches, who could analyze these attributes in players in order to predict certain players' success rates in the sport. Furthermore, tennis players themselves could use this data for self-improvement. For example, if a higher number of aces is a predictor of winning, players may choose to focus a larger portion of their training on improving their ability to ace. \n",
    "    \n",
    "    An additional question we may have is if a player's age affects the relationship between aces, rankings, and rank points and their performance? Do these predictors have different effects on players when they are younger vs older? Age is a potentially important variable that could be useful in our model. Additionally, there could be other predictors of winning and losing matches that we have not covered in our proposal. What other variables can be used to predict a win or a loss in tennis matches? \n",
    "\n",
    "    "
   ]
  },
  {
   "cell_type": "code",
   "execution_count": null,
   "id": "8128e7a2-c4d9-43e7-817d-6184492649de",
   "metadata": {},
   "outputs": [],
   "source": []
  }
 ],
 "metadata": {
  "kernelspec": {
   "display_name": "R",
   "language": "R",
   "name": "ir"
  },
  "language_info": {
   "codemirror_mode": "r",
   "file_extension": ".r",
   "mimetype": "text/x-r-source",
   "name": "R",
   "pygments_lexer": "r",
   "version": "4.2.2"
  }
 },
 "nbformat": 4,
 "nbformat_minor": 5
}
