{
 "cells": [
  {
   "cell_type": "markdown",
   "id": "6add68ca-3472-420f-9cb0-81c4f478fe7b",
   "metadata": {},
   "source": [
    "\n",
    " ## **Predicting A Tennis Match Outcome Based On Player Rank Points, Rank and Number Of Aces.**\n",
    " \n",
    "### **Introduction** \n",
    "    The Association of Tennis Professionals (ATP) uses a computer ranking system to determine who can enter their tournaments and provide an unbiased analysis of the performance of the tennis players.The tennis match data was originally collected by the Association of Tennis Professionals, and were compiled into datasets by Jeff Sackmann, which we will be using. While the data includes statistics from all ATP matches since 1968, we will only be using the most relevant data from the past ten years (2014-2023). Our project will be answering the question of how a tennis player's rank points, rank, and number of aces in a match can be used to predict their likelihood of winning a tennis match. Our main argument is that we believe that a tennis player will be more likely to win a match if they have higher rank points, a higher rank, and more aces than their competitor. Because rank points and rank are calculated based off of player performance in previous matches, we will predict that a higher rank, as well as higher rank points are likely to predict the outcome of a match as a win. Additionally, we predict that victory can also be predicted by a higher number of aces. Aces are a dominant type of round victory that is determined by the outcome of a single rally. We predict that a higher number of aces will reflect a more skilled player, and thus predict victory. \n"
   ]
  },
  {
   "cell_type": "markdown",
   "id": "9a63740c-7833-46d4-9512-c87a9e1ab59a",
   "metadata": {},
   "source": [
    "(A note to the grader that the TA Eros gave us code for this proposal to help separate the data so there is a categorical variable in our dataset. He used a for loop to execute this and it takes **3-4 minutes to run**.)  "
   ]
  },
  {
   "cell_type": "code",
   "execution_count": 2,
   "id": "99b8ba3d-0bce-465c-abdf-8a8e96680914",
   "metadata": {
    "tags": []
   },
   "outputs": [
    {
     "name": "stderr",
     "output_type": "stream",
     "text": [
      "── \u001b[1mAttaching packages\u001b[22m ─────────────────────────────────────── tidyverse 1.3.2 ──\n",
      "\u001b[32m✔\u001b[39m \u001b[34mggplot2\u001b[39m 3.4.2     \u001b[32m✔\u001b[39m \u001b[34mpurrr  \u001b[39m 1.0.1\n",
      "\u001b[32m✔\u001b[39m \u001b[34mtibble \u001b[39m 3.2.1     \u001b[32m✔\u001b[39m \u001b[34mdplyr  \u001b[39m 1.1.1\n",
      "\u001b[32m✔\u001b[39m \u001b[34mtidyr  \u001b[39m 1.3.0     \u001b[32m✔\u001b[39m \u001b[34mstringr\u001b[39m 1.5.0\n",
      "\u001b[32m✔\u001b[39m \u001b[34mreadr  \u001b[39m 2.1.3     \u001b[32m✔\u001b[39m \u001b[34mforcats\u001b[39m 0.5.2\n",
      "── \u001b[1mConflicts\u001b[22m ────────────────────────────────────────── tidyverse_conflicts() ──\n",
      "\u001b[31m✖\u001b[39m \u001b[34mdplyr\u001b[39m::\u001b[32mfilter()\u001b[39m masks \u001b[34mstats\u001b[39m::filter()\n",
      "\u001b[31m✖\u001b[39m \u001b[34mdplyr\u001b[39m::\u001b[32mlag()\u001b[39m    masks \u001b[34mstats\u001b[39m::lag()\n",
      "── \u001b[1mAttaching packages\u001b[22m ────────────────────────────────────── tidymodels 1.0.0 ──\n",
      "\n",
      "\u001b[32m✔\u001b[39m \u001b[34mbroom       \u001b[39m 1.0.2     \u001b[32m✔\u001b[39m \u001b[34mrsample     \u001b[39m 1.1.1\n",
      "\u001b[32m✔\u001b[39m \u001b[34mdials       \u001b[39m 1.1.0     \u001b[32m✔\u001b[39m \u001b[34mtune        \u001b[39m 1.0.1\n",
      "\u001b[32m✔\u001b[39m \u001b[34minfer       \u001b[39m 1.0.4     \u001b[32m✔\u001b[39m \u001b[34mworkflows   \u001b[39m 1.1.2\n",
      "\u001b[32m✔\u001b[39m \u001b[34mmodeldata   \u001b[39m 1.0.1     \u001b[32m✔\u001b[39m \u001b[34mworkflowsets\u001b[39m 1.0.0\n",
      "\u001b[32m✔\u001b[39m \u001b[34mparsnip     \u001b[39m 1.0.3     \u001b[32m✔\u001b[39m \u001b[34myardstick   \u001b[39m 1.1.0\n",
      "\u001b[32m✔\u001b[39m \u001b[34mrecipes     \u001b[39m 1.0.4     \n",
      "\n",
      "── \u001b[1mConflicts\u001b[22m ───────────────────────────────────────── tidymodels_conflicts() ──\n",
      "\u001b[31m✖\u001b[39m \u001b[34mscales\u001b[39m::\u001b[32mdiscard()\u001b[39m masks \u001b[34mpurrr\u001b[39m::discard()\n",
      "\u001b[31m✖\u001b[39m \u001b[34mdplyr\u001b[39m::\u001b[32mfilter()\u001b[39m   masks \u001b[34mstats\u001b[39m::filter()\n",
      "\u001b[31m✖\u001b[39m \u001b[34mrecipes\u001b[39m::\u001b[32mfixed()\u001b[39m  masks \u001b[34mstringr\u001b[39m::fixed()\n",
      "\u001b[31m✖\u001b[39m \u001b[34mdplyr\u001b[39m::\u001b[32mlag()\u001b[39m      masks \u001b[34mstats\u001b[39m::lag()\n",
      "\u001b[31m✖\u001b[39m \u001b[34myardstick\u001b[39m::\u001b[32mspec()\u001b[39m masks \u001b[34mreadr\u001b[39m::spec()\n",
      "\u001b[31m✖\u001b[39m \u001b[34mrecipes\u001b[39m::\u001b[32mstep()\u001b[39m   masks \u001b[34mstats\u001b[39m::step()\n",
      "\u001b[34m•\u001b[39m Learn how to get started at \u001b[32mhttps://www.tidymodels.org/start/\u001b[39m\n",
      "\n",
      "Updating HTML index of packages in '.Library'\n",
      "\n",
      "Making 'packages.html' ...\n",
      " done\n",
      "\n"
     ]
    }
   ],
   "source": [
    "library(tidyverse)\n",
    "library(tidymodels)\n",
    "set.seed(1)\n",
    "install.packages(\"kknn\")"
   ]
  },
  {
   "cell_type": "code",
   "execution_count": 3,
   "id": "7a612423-1c11-4023-86cd-23669b5337f6",
   "metadata": {
    "tags": []
   },
   "outputs": [],
   "source": [
    "download.file('https://raw.githubusercontent.com/JeffSackmann/tennis_atp/master/atp_matches_2014.csv', \"data/data2014.csv\")\n",
    "download.file('https://raw.githubusercontent.com/JeffSackmann/tennis_atp/master/atp_matches_2015.csv', \"data/data2015.csv\")\n",
    "download.file('https://raw.githubusercontent.com/JeffSackmann/tennis_atp/master/atp_matches_2016.csv', \"data/data2016.csv\")\n",
    "download.file('https://raw.githubusercontent.com/JeffSackmann/tennis_atp/master/atp_matches_2017.csv', \"data/data2017.csv\")\n",
    "download.file('https://raw.githubusercontent.com/JeffSackmann/tennis_atp/master/atp_matches_2018.csv', \"data/data2018.csv\")\n",
    "download.file('https://raw.githubusercontent.com/JeffSackmann/tennis_atp/master/atp_matches_2019.csv', \"data/data2019.csv\")\n",
    "download.file('https://raw.githubusercontent.com/JeffSackmann/tennis_atp/master/atp_matches_2020.csv', \"data/data2020.csv\")\n",
    "download.file('https://raw.githubusercontent.com/JeffSackmann/tennis_atp/master/atp_matches_2021.csv', \"data/data2021.csv\")\n",
    "download.file('https://raw.githubusercontent.com/JeffSackmann/tennis_atp/master/atp_matches_2022.csv', \"data/data2022.csv\")\n",
    "download.file('https://raw.githubusercontent.com/JeffSackmann/tennis_atp/master/atp_matches_2023.csv', \"data/data2023.csv\")"
   ]
  },
  {
   "cell_type": "code",
   "execution_count": 3,
   "id": "59b7010d-9fa7-47da-8e47-bd948eea511b",
   "metadata": {
    "tags": []
   },
   "outputs": [
    {
     "name": "stderr",
     "output_type": "stream",
     "text": [
      "\u001b[1mRows: \u001b[22m\u001b[34m2901\u001b[39m \u001b[1mColumns: \u001b[22m\u001b[34m49\u001b[39m\n",
      "\u001b[36m──\u001b[39m \u001b[1mColumn specification\u001b[22m \u001b[36m────────────────────────────────────────────────────────\u001b[39m\n",
      "\u001b[1mDelimiter:\u001b[22m \",\"\n",
      "\u001b[31mchr\u001b[39m (14): tourney_id, tourney_name, surface, tourney_level, winner_entry, wi...\n",
      "\u001b[32mdbl\u001b[39m (35): draw_size, tourney_date, match_num, winner_id, winner_seed, winner...\n",
      "\n",
      "\u001b[36mℹ\u001b[39m Use `spec()` to retrieve the full column specification for this data.\n",
      "\u001b[36mℹ\u001b[39m Specify the column types or set `show_col_types = FALSE` to quiet this message.\n",
      "\u001b[1mRows: \u001b[22m\u001b[34m2943\u001b[39m \u001b[1mColumns: \u001b[22m\u001b[34m49\u001b[39m\n",
      "\u001b[36m──\u001b[39m \u001b[1mColumn specification\u001b[22m \u001b[36m────────────────────────────────────────────────────────\u001b[39m\n",
      "\u001b[1mDelimiter:\u001b[22m \",\"\n",
      "\u001b[31mchr\u001b[39m (14): tourney_id, tourney_name, surface, tourney_level, winner_entry, wi...\n",
      "\u001b[32mdbl\u001b[39m (35): draw_size, tourney_date, match_num, winner_id, winner_seed, winner...\n",
      "\n",
      "\u001b[36mℹ\u001b[39m Use `spec()` to retrieve the full column specification for this data.\n",
      "\u001b[36mℹ\u001b[39m Specify the column types or set `show_col_types = FALSE` to quiet this message.\n",
      "\u001b[1mRows: \u001b[22m\u001b[34m2941\u001b[39m \u001b[1mColumns: \u001b[22m\u001b[34m49\u001b[39m\n",
      "\u001b[36m──\u001b[39m \u001b[1mColumn specification\u001b[22m \u001b[36m────────────────────────────────────────────────────────\u001b[39m\n",
      "\u001b[1mDelimiter:\u001b[22m \",\"\n",
      "\u001b[31mchr\u001b[39m (14): tourney_id, tourney_name, surface, tourney_level, winner_entry, wi...\n",
      "\u001b[32mdbl\u001b[39m (35): draw_size, tourney_date, match_num, winner_id, winner_seed, winner...\n",
      "\n",
      "\u001b[36mℹ\u001b[39m Use `spec()` to retrieve the full column specification for this data.\n",
      "\u001b[36mℹ\u001b[39m Specify the column types or set `show_col_types = FALSE` to quiet this message.\n",
      "\u001b[1mRows: \u001b[22m\u001b[34m2911\u001b[39m \u001b[1mColumns: \u001b[22m\u001b[34m49\u001b[39m\n",
      "\u001b[36m──\u001b[39m \u001b[1mColumn specification\u001b[22m \u001b[36m────────────────────────────────────────────────────────\u001b[39m\n",
      "\u001b[1mDelimiter:\u001b[22m \",\"\n",
      "\u001b[31mchr\u001b[39m (14): tourney_id, tourney_name, surface, tourney_level, winner_entry, wi...\n",
      "\u001b[32mdbl\u001b[39m (35): draw_size, tourney_date, match_num, winner_id, winner_seed, winner...\n",
      "\n",
      "\u001b[36mℹ\u001b[39m Use `spec()` to retrieve the full column specification for this data.\n",
      "\u001b[36mℹ\u001b[39m Specify the column types or set `show_col_types = FALSE` to quiet this message.\n",
      "\u001b[1mRows: \u001b[22m\u001b[34m2897\u001b[39m \u001b[1mColumns: \u001b[22m\u001b[34m49\u001b[39m\n",
      "\u001b[36m──\u001b[39m \u001b[1mColumn specification\u001b[22m \u001b[36m────────────────────────────────────────────────────────\u001b[39m\n",
      "\u001b[1mDelimiter:\u001b[22m \",\"\n",
      "\u001b[31mchr\u001b[39m (14): tourney_id, tourney_name, surface, tourney_level, winner_entry, wi...\n",
      "\u001b[32mdbl\u001b[39m (35): draw_size, tourney_date, match_num, winner_id, winner_seed, winner...\n",
      "\n",
      "\u001b[36mℹ\u001b[39m Use `spec()` to retrieve the full column specification for this data.\n",
      "\u001b[36mℹ\u001b[39m Specify the column types or set `show_col_types = FALSE` to quiet this message.\n",
      "\u001b[1mRows: \u001b[22m\u001b[34m2806\u001b[39m \u001b[1mColumns: \u001b[22m\u001b[34m49\u001b[39m\n",
      "\u001b[36m──\u001b[39m \u001b[1mColumn specification\u001b[22m \u001b[36m────────────────────────────────────────────────────────\u001b[39m\n",
      "\u001b[1mDelimiter:\u001b[22m \",\"\n",
      "\u001b[31mchr\u001b[39m (14): tourney_id, tourney_name, surface, tourney_level, winner_entry, wi...\n",
      "\u001b[32mdbl\u001b[39m (35): draw_size, tourney_date, match_num, winner_id, winner_seed, winner...\n",
      "\n",
      "\u001b[36mℹ\u001b[39m Use `spec()` to retrieve the full column specification for this data.\n",
      "\u001b[36mℹ\u001b[39m Specify the column types or set `show_col_types = FALSE` to quiet this message.\n",
      "\u001b[1mRows: \u001b[22m\u001b[34m1462\u001b[39m \u001b[1mColumns: \u001b[22m\u001b[34m49\u001b[39m\n",
      "\u001b[36m──\u001b[39m \u001b[1mColumn specification\u001b[22m \u001b[36m────────────────────────────────────────────────────────\u001b[39m\n",
      "\u001b[1mDelimiter:\u001b[22m \",\"\n",
      "\u001b[31mchr\u001b[39m (14): tourney_id, tourney_name, surface, tourney_level, winner_entry, wi...\n",
      "\u001b[32mdbl\u001b[39m (35): draw_size, tourney_date, match_num, winner_id, winner_seed, winner...\n",
      "\n",
      "\u001b[36mℹ\u001b[39m Use `spec()` to retrieve the full column specification for this data.\n",
      "\u001b[36mℹ\u001b[39m Specify the column types or set `show_col_types = FALSE` to quiet this message.\n",
      "\u001b[1mRows: \u001b[22m\u001b[34m2733\u001b[39m \u001b[1mColumns: \u001b[22m\u001b[34m49\u001b[39m\n",
      "\u001b[36m──\u001b[39m \u001b[1mColumn specification\u001b[22m \u001b[36m────────────────────────────────────────────────────────\u001b[39m\n",
      "\u001b[1mDelimiter:\u001b[22m \",\"\n",
      "\u001b[31mchr\u001b[39m (14): tourney_id, tourney_name, surface, tourney_level, winner_entry, wi...\n",
      "\u001b[32mdbl\u001b[39m (35): draw_size, tourney_date, match_num, winner_id, winner_seed, winner...\n",
      "\n",
      "\u001b[36mℹ\u001b[39m Use `spec()` to retrieve the full column specification for this data.\n",
      "\u001b[36mℹ\u001b[39m Specify the column types or set `show_col_types = FALSE` to quiet this message.\n",
      "\u001b[1mRows: \u001b[22m\u001b[34m2917\u001b[39m \u001b[1mColumns: \u001b[22m\u001b[34m49\u001b[39m\n",
      "\u001b[36m──\u001b[39m \u001b[1mColumn specification\u001b[22m \u001b[36m────────────────────────────────────────────────────────\u001b[39m\n",
      "\u001b[1mDelimiter:\u001b[22m \",\"\n",
      "\u001b[31mchr\u001b[39m (14): tourney_id, tourney_name, surface, tourney_level, winner_entry, wi...\n",
      "\u001b[32mdbl\u001b[39m (35): draw_size, tourney_date, match_num, winner_id, winner_seed, winner...\n",
      "\n",
      "\u001b[36mℹ\u001b[39m Use `spec()` to retrieve the full column specification for this data.\n",
      "\u001b[36mℹ\u001b[39m Specify the column types or set `show_col_types = FALSE` to quiet this message.\n",
      "\u001b[1mRows: \u001b[22m\u001b[34m2956\u001b[39m \u001b[1mColumns: \u001b[22m\u001b[34m49\u001b[39m\n",
      "\u001b[36m──\u001b[39m \u001b[1mColumn specification\u001b[22m \u001b[36m────────────────────────────────────────────────────────\u001b[39m\n",
      "\u001b[1mDelimiter:\u001b[22m \",\"\n",
      "\u001b[31mchr\u001b[39m (14): tourney_id, tourney_name, surface, tourney_level, winner_entry, wi...\n",
      "\u001b[32mdbl\u001b[39m (35): draw_size, tourney_date, match_num, winner_id, winner_seed, winner...\n",
      "\n",
      "\u001b[36mℹ\u001b[39m Use `spec()` to retrieve the full column specification for this data.\n",
      "\u001b[36mℹ\u001b[39m Specify the column types or set `show_col_types = FALSE` to quiet this message.\n"
     ]
    }
   ],
   "source": [
    "data2014<- read_csv(\"data/data2014.csv\")\n",
    "data2015<- read_csv(\"data/data2015.csv\")\n",
    "data2016<- read_csv(\"data/data2016.csv\")\n",
    "data2017<- read_csv(\"data/data2017.csv\")\n",
    "data2018<- read_csv(\"data/data2018.csv\")\n",
    "data2019<- read_csv(\"data/data2019.csv\")\n",
    "data2020<- read_csv(\"data/data2020.csv\")\n",
    "data2021<- read_csv(\"data/data2021.csv\")\n",
    "data2022<- read_csv(\"data/data2022.csv\")\n",
    "data2023<- read_csv(\"data/data2023.csv\")"
   ]
  },
  {
   "cell_type": "markdown",
   "id": "7318c392-179b-4a7d-9f9c-f4cc914367cf",
   "metadata": {},
   "source": [
    "However, our data set isn't tidy because the categorical factor of \"win\" or \"loss\" is integrated into every column. We first must combine the columns and extract the \"win\" or \"loss\" factor into a new column. \n"
   ]
  },
  {
   "cell_type": "code",
   "execution_count": 4,
   "id": "002fae09-012c-46e4-9bfa-a1de475ec239",
   "metadata": {
    "tags": []
   },
   "outputs": [],
   "source": [
    "gigadata <- rbind(data2014, data2015, data2016, data2017, data2018, data2019, data2020, data2021, data2022, data2023) \n",
    "\n",
    "selected_gigadata<- select(gigadata, w_ace, l_ace, winner_rank_points, loser_rank_points, loser_rank, winner_rank, winner_ht, loser_ht, winner_age, loser_age, l_df, w_df )\n"
   ]
  },
  {
   "cell_type": "code",
   "execution_count": 5,
   "id": "2b4e347b-4611-4221-8a62-c551e87dcfa7",
   "metadata": {
    "tags": []
   },
   "outputs": [
    {
     "name": "stdout",
     "output_type": "stream",
     "text": [
      "Rows: 27,467\n",
      "Columns: 6\n",
      "$ w_ace              \u001b[3m\u001b[90m<dbl>\u001b[39m\u001b[23m 5, 11, 18, 23, 15, 10, 13, 4, 31, 6, 14, 5, 9, 4, 1…\n",
      "$ winner_rank_points \u001b[3m\u001b[90m<dbl>\u001b[39m\u001b[23m 1090, 774, 960, 307, 918, 1175, 1310, 780, 369, 152…\n",
      "$ winner_rank        \u001b[3m\u001b[90m<dbl>\u001b[39m\u001b[23m 39, 61, 46, 172, 50, 34, 28, 60, 147, 23, 37, 68, 6…\n",
      "$ w_df               \u001b[3m\u001b[90m<dbl>\u001b[39m\u001b[23m 3, 3, 1, 2, 4, 2, 3, 1, 2, 1, 7, 7, 0, 3, 7, 3, 2, …\n",
      "$ winner_age         \u001b[3m\u001b[90m<dbl>\u001b[39m\u001b[23m 32.4, 28.3, 26.2, 26.1, 31.9, 26.8, 32.2, 32.8, 23.…\n",
      "$ winner_ht          \u001b[3m\u001b[90m<dbl>\u001b[39m\u001b[23m 185, 194, 198, 193, 190, 188, 188, 180, 193, 188, 1…\n"
     ]
    }
   ],
   "source": [
    "\n",
    "w_gigadata<- select(selected_gigadata, w_ace, winner_rank_points, winner_rank, w_df, winner_age, winner_ht)\n",
    "l_gigadata<- select(selected_gigadata, l_ace, loser_rank_points, loser_rank, l_df, loser_age, loser_ht)\n",
    "\n",
    "glimpse(w_gigadata)\n"
   ]
  },
  {
   "cell_type": "code",
   "execution_count": 6,
   "id": "2c3e00b7-7929-4bc7-9a33-da406678b30c",
   "metadata": {
    "tags": []
   },
   "outputs": [
    {
     "name": "stdout",
     "output_type": "stream",
     "text": [
      "Rows: 27,467\n",
      "Columns: 7\n",
      "$ ace         \u001b[3m\u001b[90m<dbl>\u001b[39m\u001b[23m 5, 11, 18, 23, 15, 10, 13, 4, 31, 6, 14, 5, 9, 4, 18, 10, …\n",
      "$ rank_points \u001b[3m\u001b[90m<dbl>\u001b[39m\u001b[23m 1090, 774, 960, 307, 918, 1175, 1310, 780, 369, 1520, 1130…\n",
      "$ rank        \u001b[3m\u001b[90m<dbl>\u001b[39m\u001b[23m 39, 61, 46, 172, 50, 34, 28, 60, 147, 23, 37, 68, 6, 61, 1…\n",
      "$ dbl_fault   \u001b[3m\u001b[90m<dbl>\u001b[39m\u001b[23m 3, 3, 1, 2, 4, 2, 3, 1, 2, 1, 7, 7, 0, 3, 7, 3, 2, 0, 4, 1…\n",
      "$ age         \u001b[3m\u001b[90m<dbl>\u001b[39m\u001b[23m 32.4, 28.3, 26.2, 26.1, 31.9, 26.8, 32.2, 32.8, 23.2, 22.6…\n",
      "$ height      \u001b[3m\u001b[90m<dbl>\u001b[39m\u001b[23m 185, 194, 198, 193, 190, 188, 188, 180, 193, 188, 198, 188…\n",
      "$ status      \u001b[3m\u001b[90m<fct>\u001b[39m\u001b[23m win, win, win, win, win, win, win, win, win, win, win, win…\n",
      "Rows: 27,467\n",
      "Columns: 7\n",
      "$ ace         \u001b[3m\u001b[90m<dbl>\u001b[39m\u001b[23m 9, 14, 4, 5, 13, 4, 4, 8, 4, 2, 8, 4, 1, 19, 8, 12, 8, 2, …\n",
      "$ rank_points \u001b[3m\u001b[90m<dbl>\u001b[39m\u001b[23m 425, 1160, 1244, 549, 697, 784, 721, 41, 310, 977, 965, 39…\n",
      "$ rank        \u001b[3m\u001b[90m<dbl>\u001b[39m\u001b[23m 136, 35, 29, 100, 70, 59, 67, 628, 170, 43, 45, 142, 39, 4…\n",
      "$ dbl_fault   \u001b[3m\u001b[90m<dbl>\u001b[39m\u001b[23m 7, 1, 0, 4, 2, 3, 2, 5, 1, 1, 2, 1, 4, 2, 6, 6, 8, 2, 1, 2…\n",
      "$ age         \u001b[3m\u001b[90m<dbl>\u001b[39m\u001b[23m 21.9, 32.0, 31.0, 21.6, 26.3, 25.5, 26.0, 17.7, 25.2, 26.7…\n",
      "$ height      \u001b[3m\u001b[90m<dbl>\u001b[39m\u001b[23m 183, 185, 185, 183, 190, 183, 183, 196, 173, 190, 188, 183…\n",
      "$ status      \u001b[3m\u001b[90m<fct>\u001b[39m\u001b[23m loss, loss, loss, loss, loss, loss, loss, loss, loss, loss…\n"
     ]
    }
   ],
   "source": [
    "w_gigadata<- mutate(w_gigadata, status = \"win\") |>\n",
    "                mutate(status = as.factor(status)) |>\n",
    "                rename(\"ace\" = w_ace, \"rank_points\" = winner_rank_points, \"rank\" = winner_rank, \"age\" = winner_age, \"height\" = winner_ht, \"dbl_fault\" = w_df)\n",
    "glimpse(w_gigadata)\n",
    "\n",
    "l_gigadata<- mutate(l_gigadata, status = \"loss\") |>\n",
    "                mutate(status = as.factor(status)) |>\n",
    "                rename(\"ace\" = l_ace, \"rank_points\" = loser_rank_points, \"rank\" = loser_rank, \"age\" = loser_age, \"height\" = loser_ht, \"dbl_fault\" = l_df)\n",
    "glimpse(l_gigadata)"
   ]
  },
  {
   "cell_type": "code",
   "execution_count": 7,
   "id": "b60f1cb9-3804-4f52-8dcf-54118e35d108",
   "metadata": {
    "tags": []
   },
   "outputs": [
    {
     "name": "stdout",
     "output_type": "stream",
     "text": [
      "Rows: 54,934\n",
      "Columns: 7\n",
      "$ ace         \u001b[3m\u001b[90m<dbl>\u001b[39m\u001b[23m 5, 11, 18, 23, 15, 10, 13, 4, 31, 6, 14, 5, 9, 4, 18, 10, …\n",
      "$ rank_points \u001b[3m\u001b[90m<dbl>\u001b[39m\u001b[23m 1090, 774, 960, 307, 918, 1175, 1310, 780, 369, 1520, 1130…\n",
      "$ rank        \u001b[3m\u001b[90m<dbl>\u001b[39m\u001b[23m 39, 61, 46, 172, 50, 34, 28, 60, 147, 23, 37, 68, 6, 61, 1…\n",
      "$ dbl_fault   \u001b[3m\u001b[90m<dbl>\u001b[39m\u001b[23m 3, 3, 1, 2, 4, 2, 3, 1, 2, 1, 7, 7, 0, 3, 7, 3, 2, 0, 4, 1…\n",
      "$ age         \u001b[3m\u001b[90m<dbl>\u001b[39m\u001b[23m 32.4, 28.3, 26.2, 26.1, 31.9, 26.8, 32.2, 32.8, 23.2, 22.6…\n",
      "$ height      \u001b[3m\u001b[90m<dbl>\u001b[39m\u001b[23m 185, 194, 198, 193, 190, 188, 188, 180, 193, 188, 198, 188…\n",
      "$ status      \u001b[3m\u001b[90m<fct>\u001b[39m\u001b[23m win, win, win, win, win, win, win, win, win, win, win, win…\n"
     ]
    }
   ],
   "source": [
    "new_data<- rbind(w_gigadata, l_gigadata)\n",
    "glimpse(new_data)"
   ]
  },
  {
   "cell_type": "code",
   "execution_count": 8,
   "id": "de6e0b21-a3ce-4274-b87e-5babcb8786c3",
   "metadata": {
    "tags": []
   },
   "outputs": [
    {
     "data": {
      "text/html": [
       "<table class=\"dataframe\">\n",
       "<caption>A tibble: 6 × 7</caption>\n",
       "<thead>\n",
       "\t<tr><th scope=col>ace</th><th scope=col>rank_points</th><th scope=col>rank</th><th scope=col>dbl_fault</th><th scope=col>age</th><th scope=col>height</th><th scope=col>status</th></tr>\n",
       "\t<tr><th scope=col>&lt;dbl&gt;</th><th scope=col>&lt;dbl&gt;</th><th scope=col>&lt;dbl&gt;</th><th scope=col>&lt;dbl&gt;</th><th scope=col>&lt;dbl&gt;</th><th scope=col>&lt;dbl&gt;</th><th scope=col>&lt;fct&gt;</th></tr>\n",
       "</thead>\n",
       "<tbody>\n",
       "\t<tr><td> 9</td><td> 425</td><td>136</td><td>7</td><td>21.9</td><td>183</td><td>loss</td></tr>\n",
       "\t<tr><td>14</td><td>1160</td><td> 35</td><td>1</td><td>32.0</td><td>185</td><td>loss</td></tr>\n",
       "\t<tr><td> 4</td><td>1244</td><td> 29</td><td>0</td><td>31.0</td><td>185</td><td>loss</td></tr>\n",
       "\t<tr><td> 5</td><td> 549</td><td>100</td><td>4</td><td>21.6</td><td>183</td><td>loss</td></tr>\n",
       "\t<tr><td>13</td><td> 697</td><td> 70</td><td>2</td><td>26.3</td><td>190</td><td>loss</td></tr>\n",
       "\t<tr><td> 4</td><td> 784</td><td> 59</td><td>3</td><td>25.5</td><td>183</td><td>loss</td></tr>\n",
       "</tbody>\n",
       "</table>\n"
      ],
      "text/latex": [
       "A tibble: 6 × 7\n",
       "\\begin{tabular}{lllllll}\n",
       " ace & rank\\_points & rank & dbl\\_fault & age & height & status\\\\\n",
       " <dbl> & <dbl> & <dbl> & <dbl> & <dbl> & <dbl> & <fct>\\\\\n",
       "\\hline\n",
       "\t  9 &  425 & 136 & 7 & 21.9 & 183 & loss\\\\\n",
       "\t 14 & 1160 &  35 & 1 & 32.0 & 185 & loss\\\\\n",
       "\t  4 & 1244 &  29 & 0 & 31.0 & 185 & loss\\\\\n",
       "\t  5 &  549 & 100 & 4 & 21.6 & 183 & loss\\\\\n",
       "\t 13 &  697 &  70 & 2 & 26.3 & 190 & loss\\\\\n",
       "\t  4 &  784 &  59 & 3 & 25.5 & 183 & loss\\\\\n",
       "\\end{tabular}\n"
      ],
      "text/markdown": [
       "\n",
       "A tibble: 6 × 7\n",
       "\n",
       "| ace &lt;dbl&gt; | rank_points &lt;dbl&gt; | rank &lt;dbl&gt; | dbl_fault &lt;dbl&gt; | age &lt;dbl&gt; | height &lt;dbl&gt; | status &lt;fct&gt; |\n",
       "|---|---|---|---|---|---|---|\n",
       "|  9 |  425 | 136 | 7 | 21.9 | 183 | loss |\n",
       "| 14 | 1160 |  35 | 1 | 32.0 | 185 | loss |\n",
       "|  4 | 1244 |  29 | 0 | 31.0 | 185 | loss |\n",
       "|  5 |  549 | 100 | 4 | 21.6 | 183 | loss |\n",
       "| 13 |  697 |  70 | 2 | 26.3 | 190 | loss |\n",
       "|  4 |  784 |  59 | 3 | 25.5 | 183 | loss |\n",
       "\n"
      ],
      "text/plain": [
       "  ace rank_points rank dbl_fault age  height status\n",
       "1  9   425        136  7         21.9 183    loss  \n",
       "2 14  1160         35  1         32.0 185    loss  \n",
       "3  4  1244         29  0         31.0 185    loss  \n",
       "4  5   549        100  4         21.6 183    loss  \n",
       "5 13   697         70  2         26.3 190    loss  \n",
       "6  4   784         59  3         25.5 183    loss  "
      ]
     },
     "metadata": {},
     "output_type": "display_data"
    },
    {
     "data": {
      "text/html": [
       "41200"
      ],
      "text/latex": [
       "41200"
      ],
      "text/markdown": [
       "41200"
      ],
      "text/plain": [
       "[1] 41200"
      ]
     },
     "metadata": {},
     "output_type": "display_data"
    }
   ],
   "source": [
    "tennis_split <- initial_split(new_data, prop = 0.75, strata = status)\n",
    "tennis_train <- training(tennis_split)\n",
    "tennis_test <- testing(tennis_split)\n",
    "\n",
    "\n",
    "head(tennis_train)\n",
    "nrow(tennis_train)"
   ]
  },
  {
   "cell_type": "code",
   "execution_count": 9,
   "id": "438f5620-251d-4104-ae73-5d745072e682",
   "metadata": {
    "tags": []
   },
   "outputs": [],
   "source": [
    "tennis_train <- tennis_train |>\n",
    "    na.omit()"
   ]
  },
  {
   "cell_type": "code",
   "execution_count": 10,
   "id": "36788e1b-8f06-44bf-a098-c591e305efbb",
   "metadata": {
    "tags": []
   },
   "outputs": [],
   "source": [
    "set.seed(10)\n",
    "\n",
    "options(repr.plot.height = 5, repr.plot.width = 6)\n",
    "\n",
    "knn_spec <- nearest_neighbor(weight_func = \"rectangular\", neighbors = tune()) |>\n",
    "            set_engine(\"kknn\") |>\n",
    "            set_mode(\"classification\")\n",
    "\n",
    "\n",
    "tennis_vfold <- vfold_cv(tennis_train, v = 5, strata = status)\n",
    "\n",
    "\n",
    "tennis_recipe <- recipe(status ~ ., data = tennis_train)\n",
    "tennis_recipe2 <- recipe(status ~ ace + rank_points + age + height, data= tennis_train)\n",
    "tennis_recipe3 <- recipe(status ~ ace + rank_points + dbl_fault + age, data= tennis_train)"
   ]
  },
  {
   "cell_type": "code",
   "execution_count": 11,
   "id": "a6748ebe-035a-4a49-a2b1-ac229d35274d",
   "metadata": {
    "tags": []
   },
   "outputs": [],
   "source": [
    "knn_results <- workflow() |>\n",
    "                 add_recipe(tennis_recipe3) |>\n",
    "                 add_model(knn_spec) |>\n",
    "                 tune_grid(resamples = tennis_vfold, grid = tibble(neighbors = c(10, 25, 50, 125, 300))) |>\n",
    "                 collect_metrics()\n",
    "\n"
   ]
  },
  {
   "cell_type": "code",
   "execution_count": 12,
   "id": "75cfe539-b11d-4e4c-be05-3a6c65d9fa1c",
   "metadata": {
    "tags": []
   },
   "outputs": [
    {
     "data": {
      "application/pdf": "[encoded data removed]",
      "image/jpeg": "[encoded data removed]",
      "image/png": "[encoded data removed]",
      "image/svg+xml": [
       "<?xml version=\"1.0\" encoding=\"UTF-8\"?>\n",
       "<svg xmlns=\"http://www.w3.org/2000/svg\" xmlns:xlink=\"http://www.w3.org/1999/xlink\" width=\"432pt\" height=\"360pt\" viewBox=\"0 0 432 360\" version=\"1.1\">\n",
       "<defs>\n",
       "<g>\n",
       "<symbol overflow=\"visible\" id=\"glyph0-0\">\n",
       "<path style=\"stroke:none;\" d=\"M 0.53125 0 L 0.53125 -10.671875 L 4.78125 -10.671875 L 4.78125 0 Z M 1.0625 -0.53125 L 4.25 -0.53125 L 4.25 -10.140625 L 1.0625 -10.140625 Z M 1.0625 -0.53125 \"/>\n",
       "</symbol>\n",
       "<symbol overflow=\"visible\" id=\"glyph0-1\">\n",
       "<path style=\"stroke:none;\" d=\"M 8.28125 -5.515625 C 8.28125 -4.453125 8.175781 -3.5625 7.96875 -2.84375 C 7.769531 -2.125 7.5 -1.539062 7.15625 -1.09375 C 6.8125 -0.644531 6.40625 -0.320312 5.9375 -0.125 C 5.46875 0.0625 4.96875 0.15625 4.4375 0.15625 C 3.894531 0.15625 3.390625 0.0625 2.921875 -0.125 C 2.460938 -0.320312 2.0625 -0.640625 1.71875 -1.078125 C 1.382812 -1.523438 1.117188 -2.109375 0.921875 -2.828125 C 0.722656 -3.554688 0.625 -4.453125 0.625 -5.515625 C 0.625 -6.617188 0.722656 -7.535156 0.921875 -8.265625 C 1.117188 -8.992188 1.390625 -9.570312 1.734375 -10 C 2.078125 -10.4375 2.484375 -10.738281 2.953125 -10.90625 C 3.421875 -11.082031 3.929688 -11.171875 4.484375 -11.171875 C 5.003906 -11.171875 5.492188 -11.082031 5.953125 -10.90625 C 6.421875 -10.738281 6.828125 -10.4375 7.171875 -10 C 7.515625 -9.570312 7.785156 -8.992188 7.984375 -8.265625 C 8.179688 -7.535156 8.28125 -6.617188 8.28125 -5.515625 Z M 6.84375 -5.515625 C 6.84375 -6.390625 6.789062 -7.113281 6.6875 -7.6875 C 6.582031 -8.269531 6.425781 -8.734375 6.21875 -9.078125 C 6.019531 -9.429688 5.773438 -9.675781 5.484375 -9.8125 C 5.191406 -9.957031 4.859375 -10.03125 4.484375 -10.03125 C 4.085938 -10.03125 3.738281 -9.957031 3.4375 -9.8125 C 3.132812 -9.664062 2.878906 -9.421875 2.671875 -9.078125 C 2.460938 -8.734375 2.304688 -8.269531 2.203125 -7.6875 C 2.097656 -7.101562 2.046875 -6.378906 2.046875 -5.515625 C 2.046875 -4.671875 2.097656 -3.957031 2.203125 -3.375 C 2.316406 -2.800781 2.472656 -2.335938 2.671875 -1.984375 C 2.878906 -1.628906 3.128906 -1.375 3.421875 -1.21875 C 3.722656 -1.070312 4.066406 -1 4.453125 -1 C 4.816406 -1 5.144531 -1.070312 5.4375 -1.21875 C 5.738281 -1.375 5.992188 -1.628906 6.203125 -1.984375 C 6.410156 -2.335938 6.566406 -2.800781 6.671875 -3.375 C 6.785156 -3.957031 6.84375 -4.671875 6.84375 -5.515625 Z M 6.84375 -5.515625 \"/>\n",
       "</symbol>\n",
       "<symbol overflow=\"visible\" id=\"glyph0-2\">\n",
       "<path style=\"stroke:none;\" d=\"M 1.46875 0 L 1.46875 -1.71875 L 2.984375 -1.71875 L 2.984375 0 Z M 1.46875 0 \"/>\n",
       "</symbol>\n",
       "<symbol overflow=\"visible\" id=\"glyph0-3\">\n",
       "<path style=\"stroke:none;\" d=\"M 0.8125 0 L 0.8125 -1 C 1.070312 -1.601562 1.394531 -2.140625 1.78125 -2.609375 C 2.164062 -3.078125 2.566406 -3.5 2.984375 -3.875 C 3.410156 -4.25 3.828125 -4.597656 4.234375 -4.921875 C 4.648438 -5.242188 5.023438 -5.566406 5.359375 -5.890625 C 5.691406 -6.210938 5.960938 -6.550781 6.171875 -6.90625 C 6.378906 -7.257812 6.484375 -7.660156 6.484375 -8.109375 C 6.484375 -8.421875 6.4375 -8.695312 6.34375 -8.9375 C 6.25 -9.175781 6.113281 -9.375 5.9375 -9.53125 C 5.757812 -9.695312 5.546875 -9.816406 5.296875 -9.890625 C 5.046875 -9.972656 4.769531 -10.015625 4.46875 -10.015625 C 4.1875 -10.015625 3.921875 -9.972656 3.671875 -9.890625 C 3.429688 -9.816406 3.210938 -9.703125 3.015625 -9.546875 C 2.828125 -9.390625 2.671875 -9.195312 2.546875 -8.96875 C 2.421875 -8.738281 2.34375 -8.46875 2.3125 -8.15625 L 0.875 -8.296875 C 0.914062 -8.691406 1.019531 -9.0625 1.1875 -9.40625 C 1.363281 -9.757812 1.601562 -10.066406 1.90625 -10.328125 C 2.207031 -10.585938 2.570312 -10.789062 3 -10.9375 C 3.425781 -11.09375 3.914062 -11.171875 4.46875 -11.171875 C 5.019531 -11.171875 5.507812 -11.101562 5.9375 -10.96875 C 6.363281 -10.84375 6.722656 -10.648438 7.015625 -10.390625 C 7.304688 -10.140625 7.53125 -9.828125 7.6875 -9.453125 C 7.84375 -9.078125 7.921875 -8.644531 7.921875 -8.15625 C 7.921875 -7.789062 7.851562 -7.441406 7.71875 -7.109375 C 7.59375 -6.773438 7.414062 -6.457031 7.1875 -6.15625 C 6.96875 -5.851562 6.710938 -5.5625 6.421875 -5.28125 C 6.128906 -5 5.820312 -4.722656 5.5 -4.453125 C 5.1875 -4.179688 4.867188 -3.914062 4.546875 -3.65625 C 4.222656 -3.394531 3.921875 -3.128906 3.640625 -2.859375 C 3.359375 -2.597656 3.101562 -2.328125 2.875 -2.046875 C 2.65625 -1.773438 2.484375 -1.492188 2.359375 -1.203125 L 8.09375 -1.203125 L 8.09375 0 Z M 0.8125 0 \"/>\n",
       "</symbol>\n",
       "<symbol overflow=\"visible\" id=\"glyph0-4\">\n",
       "<path style=\"stroke:none;\" d=\"M 6.890625 -2.5 L 6.890625 0 L 5.5625 0 L 5.5625 -2.5 L 0.375 -2.5 L 0.375 -3.59375 L 5.40625 -11.015625 L 6.890625 -11.015625 L 6.890625 -3.609375 L 8.4375 -3.609375 L 8.4375 -2.5 Z M 5.5625 -9.421875 C 5.550781 -9.398438 5.523438 -9.347656 5.484375 -9.265625 C 5.441406 -9.191406 5.394531 -9.109375 5.34375 -9.015625 C 5.289062 -8.921875 5.234375 -8.828125 5.171875 -8.734375 C 5.117188 -8.640625 5.070312 -8.5625 5.03125 -8.5 L 2.21875 -4.34375 C 2.1875 -4.300781 2.144531 -4.242188 2.09375 -4.171875 C 2.050781 -4.109375 2.003906 -4.039062 1.953125 -3.96875 C 1.898438 -3.894531 1.847656 -3.820312 1.796875 -3.75 C 1.742188 -3.6875 1.703125 -3.640625 1.671875 -3.609375 L 5.5625 -3.609375 Z M 5.5625 -9.421875 \"/>\n",
       "</symbol>\n",
       "<symbol overflow=\"visible\" id=\"glyph0-5\">\n",
       "<path style=\"stroke:none;\" d=\"M 8.203125 -3.609375 C 8.203125 -3.054688 8.125 -2.546875 7.96875 -2.078125 C 7.8125 -1.617188 7.582031 -1.222656 7.28125 -0.890625 C 6.988281 -0.566406 6.617188 -0.3125 6.171875 -0.125 C 5.734375 0.0625 5.222656 0.15625 4.640625 0.15625 C 4.003906 0.15625 3.445312 0.0351562 2.96875 -0.203125 C 2.488281 -0.453125 2.085938 -0.804688 1.765625 -1.265625 C 1.453125 -1.734375 1.210938 -2.300781 1.046875 -2.96875 C 0.890625 -3.632812 0.8125 -4.394531 0.8125 -5.25 C 0.8125 -6.226562 0.898438 -7.085938 1.078125 -7.828125 C 1.265625 -8.566406 1.523438 -9.179688 1.859375 -9.671875 C 2.203125 -10.171875 2.613281 -10.546875 3.09375 -10.796875 C 3.582031 -11.046875 4.132812 -11.171875 4.75 -11.171875 C 5.125 -11.171875 5.472656 -11.128906 5.796875 -11.046875 C 6.128906 -10.972656 6.429688 -10.847656 6.703125 -10.671875 C 6.972656 -10.503906 7.207031 -10.273438 7.40625 -9.984375 C 7.613281 -9.703125 7.773438 -9.351562 7.890625 -8.9375 L 6.546875 -8.6875 C 6.398438 -9.164062 6.164062 -9.507812 5.84375 -9.71875 C 5.53125 -9.925781 5.160156 -10.03125 4.734375 -10.03125 C 4.347656 -10.03125 4 -9.9375 3.6875 -9.75 C 3.375 -9.570312 3.109375 -9.300781 2.890625 -8.9375 C 2.671875 -8.582031 2.503906 -8.128906 2.390625 -7.578125 C 2.273438 -7.035156 2.21875 -6.398438 2.21875 -5.671875 C 2.46875 -6.140625 2.820312 -6.5 3.28125 -6.75 C 3.75 -7 4.285156 -7.125 4.890625 -7.125 C 5.390625 -7.125 5.84375 -7.039062 6.25 -6.875 C 6.65625 -6.71875 7 -6.484375 7.28125 -6.171875 C 7.570312 -5.867188 7.796875 -5.5 7.953125 -5.0625 C 8.117188 -4.632812 8.203125 -4.148438 8.203125 -3.609375 Z M 6.765625 -3.546875 C 6.765625 -3.921875 6.71875 -4.257812 6.625 -4.5625 C 6.53125 -4.875 6.390625 -5.140625 6.203125 -5.359375 C 6.015625 -5.578125 5.78125 -5.742188 5.5 -5.859375 C 5.226562 -5.972656 4.910156 -6.03125 4.546875 -6.03125 C 4.296875 -6.03125 4.039062 -5.992188 3.78125 -5.921875 C 3.519531 -5.847656 3.28125 -5.722656 3.0625 -5.546875 C 2.851562 -5.378906 2.679688 -5.15625 2.546875 -4.875 C 2.421875 -4.601562 2.359375 -4.269531 2.359375 -3.875 C 2.359375 -3.46875 2.410156 -3.085938 2.515625 -2.734375 C 2.617188 -2.390625 2.765625 -2.085938 2.953125 -1.828125 C 3.148438 -1.566406 3.382812 -1.359375 3.65625 -1.203125 C 3.9375 -1.054688 4.25 -0.984375 4.59375 -0.984375 C 4.9375 -0.984375 5.238281 -1.039062 5.5 -1.15625 C 5.769531 -1.269531 6 -1.4375 6.1875 -1.65625 C 6.375 -1.882812 6.515625 -2.15625 6.609375 -2.46875 C 6.710938 -2.789062 6.765625 -3.148438 6.765625 -3.546875 Z M 6.765625 -3.546875 \"/>\n",
       "</symbol>\n",
       "<symbol overflow=\"visible\" id=\"glyph0-6\">\n",
       "<path style=\"stroke:none;\" d=\"M 8.203125 -3.078125 C 8.203125 -2.609375 8.128906 -2.175781 7.984375 -1.78125 C 7.835938 -1.382812 7.609375 -1.039062 7.296875 -0.75 C 6.992188 -0.46875 6.601562 -0.242188 6.125 -0.078125 C 5.65625 0.078125 5.097656 0.15625 4.453125 0.15625 C 3.804688 0.15625 3.25 0.078125 2.78125 -0.078125 C 2.3125 -0.242188 1.921875 -0.46875 1.609375 -0.75 C 1.296875 -1.039062 1.066406 -1.378906 0.921875 -1.765625 C 0.773438 -2.160156 0.703125 -2.59375 0.703125 -3.0625 C 0.703125 -3.457031 0.757812 -3.8125 0.875 -4.125 C 1 -4.4375 1.164062 -4.707031 1.375 -4.9375 C 1.582031 -5.164062 1.816406 -5.347656 2.078125 -5.484375 C 2.335938 -5.617188 2.609375 -5.710938 2.890625 -5.765625 L 2.890625 -5.796875 C 2.585938 -5.867188 2.3125 -5.984375 2.0625 -6.140625 C 1.820312 -6.304688 1.617188 -6.5 1.453125 -6.71875 C 1.296875 -6.945312 1.171875 -7.195312 1.078125 -7.46875 C 0.992188 -7.75 0.953125 -8.046875 0.953125 -8.359375 C 0.953125 -8.742188 1.023438 -9.101562 1.171875 -9.4375 C 1.328125 -9.78125 1.550781 -10.082031 1.84375 -10.34375 C 2.132812 -10.601562 2.492188 -10.804688 2.921875 -10.953125 C 3.359375 -11.097656 3.859375 -11.171875 4.421875 -11.171875 C 5.023438 -11.171875 5.546875 -11.09375 5.984375 -10.9375 C 6.421875 -10.789062 6.785156 -10.585938 7.078125 -10.328125 C 7.367188 -10.078125 7.582031 -9.78125 7.71875 -9.4375 C 7.863281 -9.09375 7.9375 -8.726562 7.9375 -8.34375 C 7.9375 -8.039062 7.890625 -7.75 7.796875 -7.46875 C 7.710938 -7.195312 7.585938 -6.945312 7.421875 -6.71875 C 7.265625 -6.488281 7.0625 -6.296875 6.8125 -6.140625 C 6.570312 -5.984375 6.296875 -5.875 5.984375 -5.8125 L 5.984375 -5.78125 C 6.296875 -5.726562 6.585938 -5.628906 6.859375 -5.484375 C 7.128906 -5.347656 7.363281 -5.164062 7.5625 -4.9375 C 7.757812 -4.71875 7.914062 -4.453125 8.03125 -4.140625 C 8.144531 -3.828125 8.203125 -3.472656 8.203125 -3.078125 Z M 6.46875 -8.265625 C 6.46875 -8.535156 6.429688 -8.785156 6.359375 -9.015625 C 6.296875 -9.242188 6.179688 -9.441406 6.015625 -9.609375 C 5.859375 -9.773438 5.648438 -9.898438 5.390625 -9.984375 C 5.128906 -10.078125 4.804688 -10.125 4.421875 -10.125 C 4.054688 -10.125 3.742188 -10.078125 3.484375 -9.984375 C 3.234375 -9.898438 3.023438 -9.773438 2.859375 -9.609375 C 2.691406 -9.441406 2.570312 -9.242188 2.5 -9.015625 C 2.425781 -8.785156 2.390625 -8.535156 2.390625 -8.265625 C 2.390625 -8.046875 2.414062 -7.820312 2.46875 -7.59375 C 2.53125 -7.363281 2.632812 -7.15625 2.78125 -6.96875 C 2.9375 -6.78125 3.144531 -6.625 3.40625 -6.5 C 3.675781 -6.382812 4.019531 -6.328125 4.4375 -6.328125 C 4.882812 -6.328125 5.238281 -6.382812 5.5 -6.5 C 5.769531 -6.625 5.976562 -6.78125 6.125 -6.96875 C 6.269531 -7.15625 6.363281 -7.363281 6.40625 -7.59375 C 6.445312 -7.820312 6.46875 -8.046875 6.46875 -8.265625 Z M 6.75 -3.203125 C 6.75 -3.472656 6.710938 -3.726562 6.640625 -3.96875 C 6.566406 -4.21875 6.441406 -4.4375 6.265625 -4.625 C 6.085938 -4.820312 5.847656 -4.976562 5.546875 -5.09375 C 5.242188 -5.207031 4.867188 -5.265625 4.421875 -5.265625 C 4.015625 -5.265625 3.664062 -5.207031 3.375 -5.09375 C 3.082031 -4.976562 2.847656 -4.820312 2.671875 -4.625 C 2.492188 -4.4375 2.363281 -4.210938 2.28125 -3.953125 C 2.195312 -3.703125 2.15625 -3.441406 2.15625 -3.171875 C 2.15625 -2.835938 2.195312 -2.53125 2.28125 -2.25 C 2.363281 -1.96875 2.492188 -1.726562 2.671875 -1.53125 C 2.859375 -1.332031 3.097656 -1.175781 3.390625 -1.0625 C 3.691406 -0.957031 4.050781 -0.90625 4.46875 -0.90625 C 4.894531 -0.90625 5.253906 -0.957031 5.546875 -1.0625 C 5.835938 -1.175781 6.070312 -1.332031 6.25 -1.53125 C 6.425781 -1.726562 6.550781 -1.96875 6.625 -2.25 C 6.707031 -2.539062 6.75 -2.859375 6.75 -3.203125 Z M 6.75 -3.203125 \"/>\n",
       "</symbol>\n",
       "<symbol overflow=\"visible\" id=\"glyph0-7\">\n",
       "<path style=\"stroke:none;\" d=\"M 1.21875 0 L 1.21875 -1.203125 L 4.03125 -1.203125 L 4.03125 -9.671875 L 1.546875 -7.890625 L 1.546875 -9.21875 L 4.140625 -11.015625 L 5.4375 -11.015625 L 5.4375 -1.203125 L 8.125 -1.203125 L 8.125 0 Z M 1.21875 0 \"/>\n",
       "</symbol>\n",
       "<symbol overflow=\"visible\" id=\"glyph1-0\">\n",
       "<path style=\"stroke:none;\" d=\"M 0.671875 0 L 0.671875 -13.328125 L 5.984375 -13.328125 L 5.984375 0 Z M 1.328125 -0.671875 L 5.3125 -0.671875 L 5.3125 -12.671875 L 1.328125 -12.671875 Z M 1.328125 -0.671875 \"/>\n",
       "</symbol>\n",
       "<symbol overflow=\"visible\" id=\"glyph1-1\">\n",
       "<path style=\"stroke:none;\" d=\"M 10.5625 0 L 3.203125 -11.71875 C 3.210938 -11.394531 3.226562 -11.078125 3.25 -10.765625 C 3.257812 -10.503906 3.269531 -10.222656 3.28125 -9.921875 C 3.289062 -9.628906 3.296875 -9.367188 3.296875 -9.140625 L 3.296875 0 L 1.640625 0 L 1.640625 -13.765625 L 3.8125 -13.765625 L 11.25 -1.96875 C 11.226562 -2.28125 11.207031 -2.597656 11.1875 -2.921875 C 11.175781 -3.191406 11.164062 -3.488281 11.15625 -3.8125 C 11.144531 -4.132812 11.140625 -4.441406 11.140625 -4.734375 L 11.140625 -13.765625 L 12.8125 -13.765625 L 12.8125 0 Z M 10.5625 0 \"/>\n",
       "</symbol>\n",
       "<symbol overflow=\"visible\" id=\"glyph1-2\">\n",
       "<path style=\"stroke:none;\" d=\"M 2.703125 -4.90625 C 2.703125 -4.351562 2.753906 -3.84375 2.859375 -3.375 C 2.972656 -2.914062 3.148438 -2.519531 3.390625 -2.1875 C 3.628906 -1.851562 3.929688 -1.59375 4.296875 -1.40625 C 4.671875 -1.21875 5.117188 -1.125 5.640625 -1.125 C 6.398438 -1.125 7.007812 -1.273438 7.46875 -1.578125 C 7.9375 -1.890625 8.25 -2.28125 8.40625 -2.75 L 9.953125 -2.3125 C 9.835938 -2.007812 9.679688 -1.710938 9.484375 -1.421875 C 9.285156 -1.128906 9.019531 -0.863281 8.6875 -0.625 C 8.351562 -0.382812 7.9375 -0.1875 7.4375 -0.03125 C 6.945312 0.125 6.347656 0.203125 5.640625 0.203125 C 4.078125 0.203125 2.882812 -0.257812 2.0625 -1.1875 C 1.25 -2.125 0.84375 -3.515625 0.84375 -5.359375 C 0.84375 -6.347656 0.96875 -7.179688 1.21875 -7.859375 C 1.46875 -8.546875 1.804688 -9.101562 2.234375 -9.53125 C 2.660156 -9.96875 3.160156 -10.28125 3.734375 -10.46875 C 4.304688 -10.664062 4.921875 -10.765625 5.578125 -10.765625 C 6.460938 -10.765625 7.203125 -10.617188 7.796875 -10.328125 C 8.390625 -10.046875 8.867188 -9.648438 9.234375 -9.140625 C 9.597656 -8.640625 9.851562 -8.046875 10 -7.359375 C 10.15625 -6.679688 10.234375 -5.941406 10.234375 -5.140625 L 10.234375 -4.90625 Z M 8.421875 -6.265625 C 8.316406 -7.378906 8.03125 -8.191406 7.5625 -8.703125 C 7.09375 -9.210938 6.421875 -9.46875 5.546875 -9.46875 C 5.253906 -9.46875 4.945312 -9.421875 4.625 -9.328125 C 4.300781 -9.234375 4.003906 -9.0625 3.734375 -8.8125 C 3.460938 -8.570312 3.226562 -8.242188 3.03125 -7.828125 C 2.84375 -7.421875 2.738281 -6.898438 2.71875 -6.265625 Z M 8.421875 -6.265625 \"/>\n",
       "</symbol>\n",
       "<symbol overflow=\"visible\" id=\"glyph1-3\">\n",
       "<path style=\"stroke:none;\" d=\"M 1.34375 -12.8125 L 1.34375 -14.5 L 3.09375 -14.5 L 3.09375 -12.8125 Z M 1.34375 0 L 1.34375 -10.5625 L 3.09375 -10.5625 L 3.09375 0 Z M 1.34375 0 \"/>\n",
       "</symbol>\n",
       "<symbol overflow=\"visible\" id=\"glyph1-4\">\n",
       "<path style=\"stroke:none;\" d=\"M 5.359375 4.15625 C 4.742188 4.15625 4.203125 4.09375 3.734375 3.96875 C 3.265625 3.84375 2.863281 3.664062 2.53125 3.4375 C 2.207031 3.207031 1.941406 2.929688 1.734375 2.609375 C 1.523438 2.285156 1.375 1.929688 1.28125 1.546875 L 3.046875 1.296875 C 3.160156 1.773438 3.414062 2.144531 3.8125 2.40625 C 4.21875 2.675781 4.75 2.8125 5.40625 2.8125 C 5.800781 2.8125 6.160156 2.753906 6.484375 2.640625 C 6.804688 2.535156 7.082031 2.359375 7.3125 2.109375 C 7.539062 1.867188 7.71875 1.550781 7.84375 1.15625 C 7.96875 0.769531 8.03125 0.296875 8.03125 -0.265625 L 8.03125 -1.96875 L 8.015625 -1.96875 C 7.878906 -1.695312 7.710938 -1.4375 7.515625 -1.1875 C 7.328125 -0.945312 7.09375 -0.734375 6.8125 -0.546875 C 6.539062 -0.359375 6.222656 -0.207031 5.859375 -0.09375 C 5.492188 0.0195312 5.078125 0.078125 4.609375 0.078125 C 3.941406 0.078125 3.367188 -0.03125 2.890625 -0.25 C 2.410156 -0.476562 2.019531 -0.816406 1.71875 -1.265625 C 1.414062 -1.710938 1.191406 -2.269531 1.046875 -2.9375 C 0.910156 -3.613281 0.84375 -4.390625 0.84375 -5.265625 C 0.84375 -6.109375 0.910156 -6.867188 1.046875 -7.546875 C 1.191406 -8.222656 1.421875 -8.796875 1.734375 -9.265625 C 2.046875 -9.742188 2.453125 -10.109375 2.953125 -10.359375 C 3.460938 -10.609375 4.082031 -10.734375 4.8125 -10.734375 C 5.550781 -10.734375 6.195312 -10.5625 6.75 -10.21875 C 7.300781 -9.875 7.726562 -9.390625 8.03125 -8.765625 L 8.046875 -8.765625 C 8.046875 -8.921875 8.050781 -9.097656 8.0625 -9.296875 C 8.070312 -9.503906 8.082031 -9.695312 8.09375 -9.875 C 8.101562 -10.050781 8.113281 -10.203125 8.125 -10.328125 C 8.132812 -10.460938 8.148438 -10.539062 8.171875 -10.5625 L 9.828125 -10.5625 C 9.828125 -10.507812 9.820312 -10.410156 9.8125 -10.265625 C 9.8125 -10.128906 9.804688 -9.960938 9.796875 -9.765625 C 9.785156 -9.566406 9.78125 -9.347656 9.78125 -9.109375 C 9.78125 -8.878906 9.78125 -8.632812 9.78125 -8.375 L 9.78125 -0.296875 C 9.78125 1.179688 9.414062 2.289062 8.6875 3.03125 C 7.957031 3.78125 6.847656 4.15625 5.359375 4.15625 Z M 8.03125 -5.28125 C 8.03125 -6.019531 7.945312 -6.648438 7.78125 -7.171875 C 7.625 -7.691406 7.414062 -8.117188 7.15625 -8.453125 C 6.894531 -8.785156 6.597656 -9.03125 6.265625 -9.1875 C 5.929688 -9.34375 5.585938 -9.421875 5.234375 -9.421875 C 4.785156 -9.421875 4.398438 -9.34375 4.078125 -9.1875 C 3.753906 -9.03125 3.484375 -8.785156 3.265625 -8.453125 C 3.054688 -8.117188 2.898438 -7.6875 2.796875 -7.15625 C 2.703125 -6.632812 2.65625 -6.007812 2.65625 -5.28125 C 2.65625 -4.519531 2.703125 -3.878906 2.796875 -3.359375 C 2.898438 -2.847656 3.054688 -2.429688 3.265625 -2.109375 C 3.472656 -1.785156 3.738281 -1.554688 4.0625 -1.421875 C 4.382812 -1.285156 4.765625 -1.21875 5.203125 -1.21875 C 5.554688 -1.21875 5.898438 -1.289062 6.234375 -1.4375 C 6.566406 -1.59375 6.867188 -1.832031 7.140625 -2.15625 C 7.410156 -2.476562 7.625 -2.894531 7.78125 -3.40625 C 7.945312 -3.925781 8.03125 -4.550781 8.03125 -5.28125 Z M 8.03125 -5.28125 \"/>\n",
       "</symbol>\n",
       "<symbol overflow=\"visible\" id=\"glyph1-5\">\n",
       "<path style=\"stroke:none;\" d=\"M 3.09375 -8.765625 C 3.289062 -9.117188 3.503906 -9.421875 3.734375 -9.671875 C 3.960938 -9.921875 4.210938 -10.125 4.484375 -10.28125 C 4.753906 -10.445312 5.050781 -10.566406 5.375 -10.640625 C 5.707031 -10.722656 6.070312 -10.765625 6.46875 -10.765625 C 7.144531 -10.765625 7.703125 -10.671875 8.140625 -10.484375 C 8.578125 -10.304688 8.921875 -10.050781 9.171875 -9.71875 C 9.421875 -9.394531 9.59375 -9.003906 9.6875 -8.546875 C 9.78125 -8.085938 9.828125 -7.585938 9.828125 -7.046875 L 9.828125 0 L 8.0625 0 L 8.0625 -6.703125 C 8.0625 -7.148438 8.03125 -7.539062 7.96875 -7.875 C 7.914062 -8.21875 7.8125 -8.5 7.65625 -8.71875 C 7.5 -8.945312 7.273438 -9.117188 6.984375 -9.234375 C 6.703125 -9.347656 6.332031 -9.40625 5.875 -9.40625 C 5.457031 -9.40625 5.082031 -9.328125 4.75 -9.171875 C 4.414062 -9.023438 4.128906 -8.816406 3.890625 -8.546875 C 3.648438 -8.273438 3.460938 -7.941406 3.328125 -7.546875 C 3.203125 -7.160156 3.140625 -6.722656 3.140625 -6.234375 L 3.140625 0 L 1.390625 0 L 1.390625 -14.5 L 3.140625 -14.5 L 3.140625 -10.71875 C 3.140625 -10.507812 3.132812 -10.296875 3.125 -10.078125 C 3.125 -9.859375 3.117188 -9.65625 3.109375 -9.46875 C 3.097656 -9.289062 3.085938 -9.140625 3.078125 -9.015625 C 3.078125 -8.890625 3.070312 -8.804688 3.0625 -8.765625 Z M 3.09375 -8.765625 \"/>\n",
       "</symbol>\n",
       "<symbol overflow=\"visible\" id=\"glyph1-6\">\n",
       "<path style=\"stroke:none;\" d=\"M 10.28125 -5.328125 C 10.28125 -1.640625 8.984375 0.203125 6.390625 0.203125 C 5.597656 0.203125 4.9375 0.0546875 4.40625 -0.234375 C 3.875 -0.523438 3.441406 -0.992188 3.109375 -1.640625 L 3.09375 -1.640625 C 3.09375 -1.472656 3.085938 -1.296875 3.078125 -1.109375 C 3.066406 -0.929688 3.054688 -0.765625 3.046875 -0.609375 C 3.035156 -0.453125 3.023438 -0.316406 3.015625 -0.203125 C 3.003906 -0.0976562 2.992188 -0.03125 2.984375 0 L 1.296875 0 C 1.296875 -0.0625 1.296875 -0.160156 1.296875 -0.296875 C 1.304688 -0.441406 1.316406 -0.609375 1.328125 -0.796875 C 1.335938 -0.992188 1.34375 -1.207031 1.34375 -1.4375 C 1.34375 -1.675781 1.34375 -1.921875 1.34375 -2.171875 L 1.34375 -14.5 L 3.109375 -14.5 L 3.109375 -10.359375 C 3.109375 -10.160156 3.101562 -9.972656 3.09375 -9.796875 C 3.09375 -9.617188 3.09375 -9.460938 3.09375 -9.328125 C 3.082031 -9.160156 3.070312 -9.007812 3.0625 -8.875 L 3.109375 -8.875 C 3.429688 -9.550781 3.859375 -10.035156 4.390625 -10.328125 C 4.929688 -10.617188 5.597656 -10.765625 6.390625 -10.765625 C 7.734375 -10.765625 8.71875 -10.3125 9.34375 -9.40625 C 9.96875 -8.507812 10.28125 -7.148438 10.28125 -5.328125 Z M 8.4375 -5.28125 C 8.4375 -6.007812 8.390625 -6.632812 8.296875 -7.15625 C 8.210938 -7.675781 8.066406 -8.101562 7.859375 -8.4375 C 7.660156 -8.769531 7.40625 -9.015625 7.09375 -9.171875 C 6.78125 -9.328125 6.398438 -9.40625 5.953125 -9.40625 C 5.484375 -9.40625 5.070312 -9.328125 4.71875 -9.171875 C 4.363281 -9.023438 4.066406 -8.785156 3.828125 -8.453125 C 3.597656 -8.117188 3.421875 -7.679688 3.296875 -7.140625 C 3.171875 -6.609375 3.109375 -5.953125 3.109375 -5.171875 C 3.109375 -4.410156 3.171875 -3.769531 3.296875 -3.25 C 3.421875 -2.738281 3.597656 -2.320312 3.828125 -2 C 4.066406 -1.6875 4.363281 -1.457031 4.71875 -1.3125 C 5.070312 -1.175781 5.472656 -1.109375 5.921875 -1.109375 C 6.359375 -1.109375 6.734375 -1.179688 7.046875 -1.328125 C 7.359375 -1.472656 7.617188 -1.710938 7.828125 -2.046875 C 8.035156 -2.378906 8.1875 -2.8125 8.28125 -3.34375 C 8.382812 -3.875 8.4375 -4.519531 8.4375 -5.28125 Z M 8.4375 -5.28125 \"/>\n",
       "</symbol>\n",
       "<symbol overflow=\"visible\" id=\"glyph1-7\">\n",
       "<path style=\"stroke:none;\" d=\"M 10.28125 -5.296875 C 10.28125 -3.441406 9.875 -2.0625 9.0625 -1.15625 C 8.25 -0.25 7.066406 0.203125 5.515625 0.203125 C 4.785156 0.203125 4.128906 0.09375 3.546875 -0.125 C 2.960938 -0.351562 2.46875 -0.695312 2.0625 -1.15625 C 1.664062 -1.613281 1.363281 -2.179688 1.15625 -2.859375 C 0.945312 -3.546875 0.84375 -4.359375 0.84375 -5.296875 C 0.84375 -8.941406 2.421875 -10.765625 5.578125 -10.765625 C 6.398438 -10.765625 7.109375 -10.648438 7.703125 -10.421875 C 8.296875 -10.191406 8.78125 -9.847656 9.15625 -9.390625 C 9.539062 -8.941406 9.820312 -8.375 10 -7.6875 C 10.1875 -7 10.28125 -6.203125 10.28125 -5.296875 Z M 8.4375 -5.296875 C 8.4375 -6.117188 8.375 -6.796875 8.25 -7.328125 C 8.125 -7.859375 7.9375 -8.28125 7.6875 -8.59375 C 7.445312 -8.914062 7.148438 -9.140625 6.796875 -9.265625 C 6.441406 -9.398438 6.046875 -9.46875 5.609375 -9.46875 C 5.160156 -9.46875 4.753906 -9.398438 4.390625 -9.265625 C 4.023438 -9.128906 3.71875 -8.898438 3.46875 -8.578125 C 3.21875 -8.253906 3.023438 -7.828125 2.890625 -7.296875 C 2.753906 -6.765625 2.6875 -6.097656 2.6875 -5.296875 C 2.6875 -4.472656 2.753906 -3.789062 2.890625 -3.25 C 3.035156 -2.71875 3.234375 -2.289062 3.484375 -1.96875 C 3.742188 -1.65625 4.039062 -1.429688 4.375 -1.296875 C 4.71875 -1.171875 5.09375 -1.109375 5.5 -1.109375 C 5.945312 -1.109375 6.351562 -1.171875 6.71875 -1.296875 C 7.082031 -1.421875 7.390625 -1.640625 7.640625 -1.953125 C 7.898438 -2.273438 8.097656 -2.707031 8.234375 -3.25 C 8.367188 -3.789062 8.4375 -4.472656 8.4375 -5.296875 Z M 8.4375 -5.296875 \"/>\n",
       "</symbol>\n",
       "<symbol overflow=\"visible\" id=\"glyph1-8\">\n",
       "<path style=\"stroke:none;\" d=\"M 1.390625 0 L 1.390625 -8.109375 C 1.390625 -8.328125 1.382812 -8.550781 1.375 -8.78125 C 1.375 -9.007812 1.367188 -9.234375 1.359375 -9.453125 C 1.359375 -9.671875 1.351562 -9.875 1.34375 -10.0625 C 1.34375 -10.25 1.335938 -10.414062 1.328125 -10.5625 L 2.984375 -10.5625 C 2.992188 -10.414062 3.003906 -10.242188 3.015625 -10.046875 C 3.023438 -9.859375 3.035156 -9.660156 3.046875 -9.453125 C 3.054688 -9.253906 3.0625 -9.0625 3.0625 -8.875 C 3.0625 -8.695312 3.0625 -8.539062 3.0625 -8.40625 L 3.109375 -8.40625 C 3.234375 -8.8125 3.363281 -9.160156 3.5 -9.453125 C 3.644531 -9.753906 3.8125 -10 4 -10.1875 C 4.1875 -10.382812 4.410156 -10.53125 4.671875 -10.625 C 4.929688 -10.71875 5.242188 -10.765625 5.609375 -10.765625 C 5.753906 -10.765625 5.890625 -10.75 6.015625 -10.71875 C 6.148438 -10.695312 6.253906 -10.679688 6.328125 -10.671875 L 6.328125 -9.046875 C 6.210938 -9.085938 6.078125 -9.113281 5.921875 -9.125 C 5.765625 -9.144531 5.585938 -9.15625 5.390625 -9.15625 C 4.984375 -9.15625 4.640625 -9.0625 4.359375 -8.875 C 4.078125 -8.695312 3.847656 -8.445312 3.671875 -8.125 C 3.492188 -7.800781 3.359375 -7.414062 3.265625 -6.96875 C 3.179688 -6.519531 3.140625 -6.035156 3.140625 -5.515625 L 3.140625 0 Z M 1.390625 0 \"/>\n",
       "</symbol>\n",
       "<symbol overflow=\"visible\" id=\"glyph1-9\">\n",
       "<path style=\"stroke:none;\" d=\"M 9.28125 -2.921875 C 9.28125 -2.421875 9.179688 -1.976562 8.984375 -1.59375 C 8.796875 -1.207031 8.519531 -0.878906 8.15625 -0.609375 C 7.789062 -0.347656 7.34375 -0.144531 6.8125 0 C 6.28125 0.132812 5.671875 0.203125 4.984375 0.203125 C 4.378906 0.203125 3.828125 0.148438 3.328125 0.046875 C 2.835938 -0.046875 2.40625 -0.195312 2.03125 -0.40625 C 1.664062 -0.613281 1.359375 -0.882812 1.109375 -1.21875 C 0.859375 -1.5625 0.675781 -1.984375 0.5625 -2.484375 L 2.109375 -2.78125 C 2.253906 -2.21875 2.5625 -1.800781 3.03125 -1.53125 C 3.5 -1.269531 4.148438 -1.140625 4.984375 -1.140625 C 5.367188 -1.140625 5.71875 -1.164062 6.03125 -1.21875 C 6.34375 -1.269531 6.613281 -1.359375 6.84375 -1.484375 C 7.070312 -1.617188 7.25 -1.789062 7.375 -2 C 7.5 -2.207031 7.5625 -2.46875 7.5625 -2.78125 C 7.5625 -3.101562 7.488281 -3.363281 7.34375 -3.5625 C 7.195312 -3.769531 6.988281 -3.941406 6.71875 -4.078125 C 6.445312 -4.210938 6.117188 -4.332031 5.734375 -4.4375 C 5.359375 -4.539062 4.945312 -4.65625 4.5 -4.78125 C 4.070312 -4.882812 3.648438 -5.003906 3.234375 -5.140625 C 2.816406 -5.285156 2.441406 -5.46875 2.109375 -5.6875 C 1.773438 -5.914062 1.503906 -6.191406 1.296875 -6.515625 C 1.085938 -6.847656 0.984375 -7.269531 0.984375 -7.78125 C 0.984375 -8.738281 1.320312 -9.46875 2 -9.96875 C 2.6875 -10.476562 3.691406 -10.734375 5.015625 -10.734375 C 6.179688 -10.734375 7.101562 -10.523438 7.78125 -10.109375 C 8.46875 -9.703125 8.90625 -9.046875 9.09375 -8.140625 L 7.515625 -7.953125 C 7.453125 -8.222656 7.34375 -8.453125 7.1875 -8.640625 C 7.03125 -8.828125 6.84375 -8.976562 6.625 -9.09375 C 6.40625 -9.207031 6.15625 -9.285156 5.875 -9.328125 C 5.59375 -9.378906 5.304688 -9.40625 5.015625 -9.40625 C 4.210938 -9.40625 3.625 -9.285156 3.25 -9.046875 C 2.875 -8.804688 2.6875 -8.441406 2.6875 -7.953125 C 2.6875 -7.660156 2.753906 -7.421875 2.890625 -7.234375 C 3.035156 -7.054688 3.234375 -6.898438 3.484375 -6.765625 C 3.734375 -6.640625 4.03125 -6.53125 4.375 -6.4375 C 4.726562 -6.34375 5.117188 -6.242188 5.546875 -6.140625 C 5.828125 -6.066406 6.113281 -5.988281 6.40625 -5.90625 C 6.695312 -5.832031 6.976562 -5.738281 7.25 -5.625 C 7.53125 -5.507812 7.789062 -5.375 8.03125 -5.21875 C 8.28125 -5.0625 8.492188 -4.875 8.671875 -4.65625 C 8.859375 -4.445312 9.003906 -4.195312 9.109375 -3.90625 C 9.222656 -3.625 9.28125 -3.296875 9.28125 -2.921875 Z M 9.28125 -2.921875 \"/>\n",
       "</symbol>\n",
       "<symbol overflow=\"visible\" id=\"glyph2-0\">\n",
       "<path style=\"stroke:none;\" d=\"M 0 -0.671875 L -13.328125 -0.671875 L -13.328125 -5.984375 L 0 -5.984375 Z M -0.671875 -1.328125 L -0.671875 -5.3125 L -12.671875 -5.3125 L -12.671875 -1.328125 Z M -0.671875 -1.328125 \"/>\n",
       "</symbol>\n",
       "<symbol overflow=\"visible\" id=\"glyph2-1\">\n",
       "<path style=\"stroke:none;\" d=\"M 0 -11.390625 L -4.03125 -9.828125 L -4.03125 -3.5625 L 0 -1.96875 L 0 -0.046875 L -13.765625 -5.65625 L -13.765625 -7.78125 L 0 -13.296875 Z M -10.015625 -7.5 C -10.273438 -7.394531 -10.539062 -7.296875 -10.8125 -7.203125 C -11.082031 -7.109375 -11.320312 -7.023438 -11.53125 -6.953125 C -11.75 -6.878906 -11.929688 -6.816406 -12.078125 -6.765625 C -12.234375 -6.722656 -12.328125 -6.695312 -12.359375 -6.6875 C -12.328125 -6.675781 -12.234375 -6.644531 -12.078125 -6.59375 C -11.929688 -6.550781 -11.742188 -6.492188 -11.515625 -6.421875 C -11.296875 -6.347656 -11.050781 -6.265625 -10.78125 -6.171875 C -10.519531 -6.078125 -10.257812 -5.976562 -10 -5.875 L -5.484375 -4.125 L -5.484375 -9.265625 Z M -10.015625 -7.5 \"/>\n",
       "</symbol>\n",
       "<symbol overflow=\"visible\" id=\"glyph2-2\">\n",
       "<path style=\"stroke:none;\" d=\"M -5.328125 -2.6875 C -4.722656 -2.6875 -4.164062 -2.726562 -3.65625 -2.8125 C -3.15625 -2.90625 -2.71875 -3.054688 -2.34375 -3.265625 C -1.976562 -3.472656 -1.691406 -3.742188 -1.484375 -4.078125 C -1.285156 -4.421875 -1.1875 -4.847656 -1.1875 -5.359375 C -1.1875 -5.984375 -1.351562 -6.503906 -1.6875 -6.921875 C -2.03125 -7.335938 -2.554688 -7.597656 -3.265625 -7.703125 L -3.140625 -9.46875 C -2.703125 -9.414062 -2.28125 -9.289062 -1.875 -9.09375 C -1.476562 -8.894531 -1.125 -8.628906 -0.8125 -8.296875 C -0.507812 -7.960938 -0.265625 -7.550781 -0.078125 -7.0625 C 0.109375 -6.582031 0.203125 -6.03125 0.203125 -5.40625 C 0.203125 -4.570312 0.0625 -3.863281 -0.21875 -3.28125 C -0.5 -2.707031 -0.882812 -2.238281 -1.375 -1.875 C -1.875 -1.519531 -2.457031 -1.257812 -3.125 -1.09375 C -3.789062 -0.925781 -4.515625 -0.84375 -5.296875 -0.84375 C -6.003906 -0.84375 -6.628906 -0.898438 -7.171875 -1.015625 C -7.710938 -1.140625 -8.1875 -1.304688 -8.59375 -1.515625 C -9 -1.734375 -9.34375 -1.984375 -9.625 -2.265625 C -9.90625 -2.554688 -10.125 -2.867188 -10.28125 -3.203125 C -10.445312 -3.535156 -10.566406 -3.882812 -10.640625 -4.25 C -10.722656 -4.625 -10.765625 -5 -10.765625 -5.375 C -10.765625 -5.96875 -10.679688 -6.492188 -10.515625 -6.953125 C -10.359375 -7.421875 -10.132812 -7.820312 -9.84375 -8.15625 C -9.5625 -8.488281 -9.226562 -8.757812 -8.84375 -8.96875 C -8.457031 -9.175781 -8.046875 -9.328125 -7.609375 -9.421875 L -7.46875 -7.609375 C -8.050781 -7.515625 -8.515625 -7.28125 -8.859375 -6.90625 C -9.210938 -6.539062 -9.390625 -6.015625 -9.390625 -5.328125 C -9.390625 -4.828125 -9.304688 -4.410156 -9.140625 -4.078125 C -8.972656 -3.742188 -8.71875 -3.472656 -8.375 -3.265625 C -8.039062 -3.054688 -7.617188 -2.90625 -7.109375 -2.8125 C -6.609375 -2.726562 -6.015625 -2.6875 -5.328125 -2.6875 Z M -5.328125 -2.6875 \"/>\n",
       "</symbol>\n",
       "<symbol overflow=\"visible\" id=\"glyph2-3\">\n",
       "<path style=\"stroke:none;\" d=\"M -10.5625 -3.0625 L -3.875 -3.0625 C -3.351562 -3.0625 -2.921875 -3.097656 -2.578125 -3.171875 C -2.234375 -3.253906 -1.953125 -3.378906 -1.734375 -3.546875 C -1.523438 -3.710938 -1.375 -3.929688 -1.28125 -4.203125 C -1.195312 -4.484375 -1.15625 -4.832031 -1.15625 -5.25 C -1.15625 -5.664062 -1.226562 -6.039062 -1.375 -6.375 C -1.53125 -6.707031 -1.742188 -6.992188 -2.015625 -7.234375 C -2.296875 -7.472656 -2.640625 -7.65625 -3.046875 -7.78125 C -3.453125 -7.914062 -3.914062 -7.984375 -4.4375 -7.984375 L -10.5625 -7.984375 L -10.5625 -9.734375 L -2.25 -9.734375 C -2.03125 -9.734375 -1.796875 -9.734375 -1.546875 -9.734375 C -1.304688 -9.742188 -1.078125 -9.75 -0.859375 -9.75 C -0.640625 -9.757812 -0.453125 -9.765625 -0.296875 -9.765625 C -0.140625 -9.773438 -0.0390625 -9.785156 0 -9.796875 L 0 -8.140625 C -0.03125 -8.128906 -0.117188 -8.117188 -0.265625 -8.109375 C -0.410156 -8.109375 -0.570312 -8.101562 -0.75 -8.09375 C -0.9375 -8.082031 -1.125 -8.070312 -1.3125 -8.0625 C -1.507812 -8.0625 -1.675781 -8.0625 -1.8125 -8.0625 L -1.8125 -8.03125 C -1.5 -7.863281 -1.21875 -7.675781 -0.96875 -7.46875 C -0.726562 -7.269531 -0.519531 -7.035156 -0.34375 -6.765625 C -0.175781 -6.503906 -0.046875 -6.195312 0.046875 -5.84375 C 0.148438 -5.5 0.203125 -5.101562 0.203125 -4.65625 C 0.203125 -4.0625 0.128906 -3.550781 -0.015625 -3.125 C -0.160156 -2.707031 -0.382812 -2.363281 -0.6875 -2.09375 C -0.988281 -1.820312 -1.375 -1.617188 -1.84375 -1.484375 C -2.3125 -1.359375 -2.875 -1.296875 -3.53125 -1.296875 L -10.5625 -1.296875 Z M -10.5625 -3.0625 \"/>\n",
       "</symbol>\n",
       "<symbol overflow=\"visible\" id=\"glyph2-4\">\n",
       "<path style=\"stroke:none;\" d=\"M 0 -1.390625 L -8.109375 -1.390625 C -8.328125 -1.390625 -8.550781 -1.382812 -8.78125 -1.375 C -9.007812 -1.375 -9.234375 -1.367188 -9.453125 -1.359375 C -9.671875 -1.359375 -9.875 -1.351562 -10.0625 -1.34375 C -10.25 -1.34375 -10.414062 -1.335938 -10.5625 -1.328125 L -10.5625 -2.984375 C -10.414062 -2.992188 -10.242188 -3.003906 -10.046875 -3.015625 C -9.859375 -3.023438 -9.660156 -3.035156 -9.453125 -3.046875 C -9.253906 -3.054688 -9.0625 -3.0625 -8.875 -3.0625 C -8.695312 -3.0625 -8.539062 -3.0625 -8.40625 -3.0625 L -8.40625 -3.109375 C -8.8125 -3.234375 -9.160156 -3.363281 -9.453125 -3.5 C -9.753906 -3.644531 -10 -3.8125 -10.1875 -4 C -10.382812 -4.1875 -10.53125 -4.410156 -10.625 -4.671875 C -10.71875 -4.929688 -10.765625 -5.242188 -10.765625 -5.609375 C -10.765625 -5.753906 -10.75 -5.890625 -10.71875 -6.015625 C -10.695312 -6.148438 -10.679688 -6.253906 -10.671875 -6.328125 L -9.046875 -6.328125 C -9.085938 -6.210938 -9.113281 -6.078125 -9.125 -5.921875 C -9.144531 -5.765625 -9.15625 -5.585938 -9.15625 -5.390625 C -9.15625 -4.984375 -9.0625 -4.640625 -8.875 -4.359375 C -8.695312 -4.078125 -8.445312 -3.847656 -8.125 -3.671875 C -7.800781 -3.492188 -7.414062 -3.359375 -6.96875 -3.265625 C -6.519531 -3.179688 -6.035156 -3.140625 -5.515625 -3.140625 L 0 -3.140625 Z M 0 -1.390625 \"/>\n",
       "</symbol>\n",
       "<symbol overflow=\"visible\" id=\"glyph2-5\">\n",
       "<path style=\"stroke:none;\" d=\"M 0.203125 -4.046875 C 0.203125 -2.984375 -0.078125 -2.179688 -0.640625 -1.640625 C -1.203125 -1.109375 -1.972656 -0.84375 -2.953125 -0.84375 C -3.648438 -0.84375 -4.21875 -0.972656 -4.65625 -1.234375 C -5.101562 -1.503906 -5.453125 -1.851562 -5.703125 -2.28125 C -5.960938 -2.707031 -6.140625 -3.191406 -6.234375 -3.734375 C -6.335938 -4.285156 -6.394531 -4.84375 -6.40625 -5.40625 L -6.453125 -7.78125 L -7.015625 -7.78125 C -7.453125 -7.78125 -7.820312 -7.734375 -8.125 -7.640625 C -8.4375 -7.554688 -8.6875 -7.414062 -8.875 -7.21875 C -9.0625 -7.03125 -9.195312 -6.796875 -9.28125 -6.515625 C -9.375 -6.234375 -9.421875 -5.898438 -9.421875 -5.515625 C -9.421875 -5.179688 -9.394531 -4.875 -9.34375 -4.59375 C -9.300781 -4.320312 -9.210938 -4.082031 -9.078125 -3.875 C -8.953125 -3.675781 -8.78125 -3.515625 -8.5625 -3.390625 C -8.351562 -3.273438 -8.082031 -3.195312 -7.75 -3.15625 L -7.90625 -1.3125 C -8.320312 -1.382812 -8.703125 -1.507812 -9.046875 -1.6875 C -9.398438 -1.875 -9.703125 -2.132812 -9.953125 -2.46875 C -10.210938 -2.800781 -10.410156 -3.21875 -10.546875 -3.71875 C -10.691406 -4.226562 -10.765625 -4.84375 -10.765625 -5.5625 C -10.765625 -6.882812 -10.457031 -7.878906 -9.84375 -8.546875 C -9.238281 -9.222656 -8.359375 -9.5625 -7.203125 -9.5625 L -2.65625 -9.5625 C -2.132812 -9.5625 -1.738281 -9.628906 -1.46875 -9.765625 C -1.207031 -9.898438 -1.078125 -10.160156 -1.078125 -10.546875 C -1.078125 -10.640625 -1.082031 -10.734375 -1.09375 -10.828125 C -1.113281 -10.929688 -1.132812 -11.03125 -1.15625 -11.125 L -0.0625 -11.125 C -0.0078125 -10.90625 0.0234375 -10.6875 0.046875 -10.46875 C 0.078125 -10.25 0.09375 -10.015625 0.09375 -9.765625 C 0.09375 -9.429688 0.0507812 -9.144531 -0.03125 -8.90625 C -0.125 -8.675781 -0.257812 -8.484375 -0.4375 -8.328125 C -0.613281 -8.179688 -0.832031 -8.066406 -1.09375 -7.984375 C -1.363281 -7.910156 -1.671875 -7.863281 -2.015625 -7.84375 L -2.015625 -7.78125 C -1.679688 -7.59375 -1.375 -7.382812 -1.09375 -7.15625 C -0.820312 -6.9375 -0.59375 -6.675781 -0.40625 -6.375 C -0.21875 -6.070312 -0.0703125 -5.726562 0.03125 -5.34375 C 0.144531 -4.96875 0.203125 -4.535156 0.203125 -4.046875 Z M -1.125 -4.4375 C -1.125 -5 -1.222656 -5.488281 -1.421875 -5.90625 C -1.628906 -6.332031 -1.894531 -6.679688 -2.21875 -6.953125 C -2.539062 -7.234375 -2.890625 -7.441406 -3.265625 -7.578125 C -3.640625 -7.710938 -4 -7.78125 -4.34375 -7.78125 L -5.21875 -7.78125 L -5.171875 -5.859375 C -5.171875 -5.429688 -5.140625 -5.019531 -5.078125 -4.625 C -5.023438 -4.238281 -4.914062 -3.898438 -4.75 -3.609375 C -4.59375 -3.316406 -4.367188 -3.082031 -4.078125 -2.90625 C -3.785156 -2.738281 -3.398438 -2.65625 -2.921875 -2.65625 C -2.347656 -2.65625 -1.90625 -2.804688 -1.59375 -3.109375 C -1.28125 -3.421875 -1.125 -3.863281 -1.125 -4.4375 Z M -1.125 -4.4375 \"/>\n",
       "</symbol>\n",
       "<symbol overflow=\"visible\" id=\"glyph2-6\">\n",
       "<path style=\"stroke:none;\" d=\"M 0 -5.90625 C 0.632812 -5.65625 1.207031 -5.398438 1.71875 -5.140625 C 2.226562 -4.878906 2.664062 -4.585938 3.03125 -4.265625 C 3.394531 -3.953125 3.671875 -3.597656 3.859375 -3.203125 C 4.054688 -2.816406 4.15625 -2.367188 4.15625 -1.859375 C 4.15625 -1.640625 4.144531 -1.4375 4.125 -1.25 C 4.113281 -1.0625 4.085938 -0.863281 4.046875 -0.65625 L 2.71875 -0.65625 C 2.738281 -0.78125 2.753906 -0.921875 2.765625 -1.078125 C 2.773438 -1.234375 2.78125 -1.363281 2.78125 -1.46875 C 2.78125 -1.988281 2.585938 -2.46875 2.203125 -2.90625 C 1.816406 -3.351562 1.207031 -3.742188 0.375 -4.078125 L -0.046875 -4.234375 L -10.5625 -0.046875 L -10.5625 -1.921875 L -4.734375 -4.15625 C -4.554688 -4.21875 -4.316406 -4.296875 -4.015625 -4.390625 C -3.722656 -4.492188 -3.429688 -4.597656 -3.140625 -4.703125 C -2.847656 -4.804688 -2.582031 -4.894531 -2.34375 -4.96875 C -2.113281 -5.050781 -1.972656 -5.097656 -1.921875 -5.109375 C -1.984375 -5.128906 -2.117188 -5.175781 -2.328125 -5.25 C -2.546875 -5.320312 -2.785156 -5.40625 -3.046875 -5.5 C -3.304688 -5.59375 -3.566406 -5.6875 -3.828125 -5.78125 C -4.097656 -5.882812 -4.332031 -5.96875 -4.53125 -6.03125 L -10.5625 -8.109375 L -10.5625 -9.96875 Z M 0 -5.90625 \"/>\n",
       "</symbol>\n",
       "<symbol overflow=\"visible\" id=\"glyph2-7\">\n",
       "<path style=\"stroke:none;\" d=\"\"/>\n",
       "</symbol>\n",
       "<symbol overflow=\"visible\" id=\"glyph2-8\">\n",
       "<path style=\"stroke:none;\" d=\"M 0 -1.640625 L -13.765625 -1.640625 L -13.765625 -12.078125 L -12.234375 -12.078125 L -12.234375 -3.5 L -7.828125 -3.5 L -7.828125 -11.5 L -6.3125 -11.5 L -6.3125 -3.5 L -1.53125 -3.5 L -1.53125 -12.484375 L 0 -12.484375 Z M 0 -1.640625 \"/>\n",
       "</symbol>\n",
       "<symbol overflow=\"visible\" id=\"glyph2-9\">\n",
       "<path style=\"stroke:none;\" d=\"M -2.921875 -9.28125 C -2.421875 -9.28125 -1.976562 -9.179688 -1.59375 -8.984375 C -1.207031 -8.796875 -0.878906 -8.519531 -0.609375 -8.15625 C -0.347656 -7.789062 -0.144531 -7.34375 0 -6.8125 C 0.132812 -6.28125 0.203125 -5.671875 0.203125 -4.984375 C 0.203125 -4.378906 0.148438 -3.828125 0.046875 -3.328125 C -0.046875 -2.835938 -0.195312 -2.40625 -0.40625 -2.03125 C -0.613281 -1.664062 -0.882812 -1.359375 -1.21875 -1.109375 C -1.5625 -0.859375 -1.984375 -0.675781 -2.484375 -0.5625 L -2.78125 -2.109375 C -2.21875 -2.253906 -1.800781 -2.5625 -1.53125 -3.03125 C -1.269531 -3.5 -1.140625 -4.148438 -1.140625 -4.984375 C -1.140625 -5.367188 -1.164062 -5.71875 -1.21875 -6.03125 C -1.269531 -6.34375 -1.359375 -6.613281 -1.484375 -6.84375 C -1.617188 -7.070312 -1.789062 -7.25 -2 -7.375 C -2.207031 -7.5 -2.46875 -7.5625 -2.78125 -7.5625 C -3.101562 -7.5625 -3.363281 -7.488281 -3.5625 -7.34375 C -3.769531 -7.195312 -3.941406 -6.988281 -4.078125 -6.71875 C -4.210938 -6.445312 -4.332031 -6.117188 -4.4375 -5.734375 C -4.539062 -5.359375 -4.65625 -4.945312 -4.78125 -4.5 C -4.882812 -4.070312 -5.003906 -3.648438 -5.140625 -3.234375 C -5.285156 -2.816406 -5.46875 -2.441406 -5.6875 -2.109375 C -5.914062 -1.773438 -6.191406 -1.503906 -6.515625 -1.296875 C -6.847656 -1.085938 -7.269531 -0.984375 -7.78125 -0.984375 C -8.738281 -0.984375 -9.46875 -1.320312 -9.96875 -2 C -10.476562 -2.6875 -10.734375 -3.691406 -10.734375 -5.015625 C -10.734375 -6.179688 -10.523438 -7.101562 -10.109375 -7.78125 C -9.703125 -8.46875 -9.046875 -8.90625 -8.140625 -9.09375 L -7.953125 -7.515625 C -8.222656 -7.453125 -8.453125 -7.34375 -8.640625 -7.1875 C -8.828125 -7.03125 -8.976562 -6.84375 -9.09375 -6.625 C -9.207031 -6.40625 -9.285156 -6.15625 -9.328125 -5.875 C -9.378906 -5.59375 -9.40625 -5.304688 -9.40625 -5.015625 C -9.40625 -4.210938 -9.285156 -3.625 -9.046875 -3.25 C -8.804688 -2.875 -8.441406 -2.6875 -7.953125 -2.6875 C -7.660156 -2.6875 -7.421875 -2.753906 -7.234375 -2.890625 C -7.054688 -3.035156 -6.898438 -3.234375 -6.765625 -3.484375 C -6.640625 -3.734375 -6.53125 -4.03125 -6.4375 -4.375 C -6.34375 -4.726562 -6.242188 -5.117188 -6.140625 -5.546875 C -6.066406 -5.828125 -5.988281 -6.113281 -5.90625 -6.40625 C -5.832031 -6.695312 -5.738281 -6.976562 -5.625 -7.25 C -5.507812 -7.53125 -5.375 -7.789062 -5.21875 -8.03125 C -5.0625 -8.28125 -4.875 -8.492188 -4.65625 -8.671875 C -4.445312 -8.859375 -4.195312 -9.003906 -3.90625 -9.109375 C -3.625 -9.222656 -3.296875 -9.28125 -2.921875 -9.28125 Z M -2.921875 -9.28125 \"/>\n",
       "</symbol>\n",
       "<symbol overflow=\"visible\" id=\"glyph2-10\">\n",
       "<path style=\"stroke:none;\" d=\"M -0.078125 -5.40625 C -0.00390625 -5.144531 0.0507812 -4.875 0.09375 -4.59375 C 0.132812 -4.320312 0.15625 -4.003906 0.15625 -3.640625 C 0.15625 -2.234375 -0.640625 -1.53125 -2.234375 -1.53125 L -9.28125 -1.53125 L -9.28125 -0.296875 L -10.5625 -0.296875 L -10.5625 -1.59375 L -12.9375 -2.109375 L -12.9375 -3.28125 L -10.5625 -3.28125 L -10.5625 -5.234375 L -9.28125 -5.234375 L -9.28125 -3.28125 L -2.625 -3.28125 C -2.113281 -3.28125 -1.753906 -3.363281 -1.546875 -3.53125 C -1.335938 -3.695312 -1.234375 -3.984375 -1.234375 -4.390625 C -1.234375 -4.566406 -1.242188 -4.734375 -1.265625 -4.890625 C -1.296875 -5.046875 -1.332031 -5.21875 -1.375 -5.40625 Z M -0.078125 -5.40625 \"/>\n",
       "</symbol>\n",
       "<symbol overflow=\"visible\" id=\"glyph2-11\">\n",
       "<path style=\"stroke:none;\" d=\"M -12.8125 -1.34375 L -14.5 -1.34375 L -14.5 -3.09375 L -12.8125 -3.09375 Z M 0 -1.34375 L -10.5625 -1.34375 L -10.5625 -3.09375 L 0 -3.09375 Z M 0 -1.34375 \"/>\n",
       "</symbol>\n",
       "<symbol overflow=\"visible\" id=\"glyph2-12\">\n",
       "<path style=\"stroke:none;\" d=\"M 0 -7.5 L -6.703125 -7.5 C -7.210938 -7.5 -7.640625 -7.46875 -7.984375 -7.40625 C -8.328125 -7.34375 -8.601562 -7.234375 -8.8125 -7.078125 C -9.03125 -6.921875 -9.179688 -6.71875 -9.265625 -6.46875 C -9.359375 -6.226562 -9.40625 -5.925781 -9.40625 -5.5625 C -9.40625 -5.195312 -9.332031 -4.863281 -9.1875 -4.5625 C -9.039062 -4.257812 -8.828125 -4.003906 -8.546875 -3.796875 C -8.273438 -3.585938 -7.9375 -3.425781 -7.53125 -3.3125 C -7.125 -3.195312 -6.65625 -3.140625 -6.125 -3.140625 L 0 -3.140625 L 0 -1.390625 L -8.3125 -1.390625 C -8.53125 -1.390625 -8.757812 -1.382812 -9 -1.375 C -9.25 -1.375 -9.484375 -1.367188 -9.703125 -1.359375 C -9.921875 -1.359375 -10.109375 -1.351562 -10.265625 -1.34375 C -10.421875 -1.34375 -10.519531 -1.335938 -10.5625 -1.328125 L -10.5625 -2.984375 C -10.53125 -2.992188 -10.441406 -3 -10.296875 -3 C -10.160156 -3.007812 -10 -3.019531 -9.8125 -3.03125 C -9.625 -3.039062 -9.429688 -3.046875 -9.234375 -3.046875 C -9.046875 -3.054688 -8.890625 -3.0625 -8.765625 -3.0625 L -8.765625 -3.09375 C -9.066406 -3.25 -9.34375 -3.414062 -9.59375 -3.59375 C -9.84375 -3.78125 -10.050781 -3.992188 -10.21875 -4.234375 C -10.394531 -4.484375 -10.53125 -4.765625 -10.625 -5.078125 C -10.71875 -5.398438 -10.765625 -5.769531 -10.765625 -6.1875 C -10.765625 -6.988281 -10.601562 -7.617188 -10.28125 -8.078125 C -9.96875 -8.546875 -9.460938 -8.867188 -8.765625 -9.046875 L -8.765625 -9.078125 C -9.066406 -9.234375 -9.34375 -9.410156 -9.59375 -9.609375 C -9.84375 -9.804688 -10.050781 -10.035156 -10.21875 -10.296875 C -10.394531 -10.554688 -10.53125 -10.847656 -10.625 -11.171875 C -10.71875 -11.492188 -10.765625 -11.863281 -10.765625 -12.28125 C -10.765625 -12.820312 -10.691406 -13.285156 -10.546875 -13.671875 C -10.398438 -14.054688 -10.175781 -14.367188 -9.875 -14.609375 C -9.582031 -14.859375 -9.195312 -15.039062 -8.71875 -15.15625 C -8.25 -15.28125 -7.691406 -15.34375 -7.046875 -15.34375 L 0 -15.34375 L 0 -13.609375 L -6.703125 -13.609375 C -7.210938 -13.609375 -7.640625 -13.570312 -7.984375 -13.5 C -8.328125 -13.4375 -8.601562 -13.328125 -8.8125 -13.171875 C -9.03125 -13.023438 -9.179688 -12.828125 -9.265625 -12.578125 C -9.359375 -12.328125 -9.40625 -12.023438 -9.40625 -11.671875 C -9.40625 -11.296875 -9.332031 -10.957031 -9.1875 -10.65625 C -9.050781 -10.363281 -8.847656 -10.109375 -8.578125 -9.890625 C -8.304688 -9.679688 -7.960938 -9.519531 -7.546875 -9.40625 C -7.140625 -9.289062 -6.664062 -9.234375 -6.125 -9.234375 L 0 -9.234375 Z M 0 -7.5 \"/>\n",
       "</symbol>\n",
       "<symbol overflow=\"visible\" id=\"glyph2-13\">\n",
       "<path style=\"stroke:none;\" d=\"M -4.90625 -2.703125 C -4.351562 -2.703125 -3.84375 -2.753906 -3.375 -2.859375 C -2.914062 -2.972656 -2.519531 -3.148438 -2.1875 -3.390625 C -1.851562 -3.628906 -1.59375 -3.929688 -1.40625 -4.296875 C -1.21875 -4.671875 -1.125 -5.117188 -1.125 -5.640625 C -1.125 -6.398438 -1.273438 -7.007812 -1.578125 -7.46875 C -1.890625 -7.9375 -2.28125 -8.25 -2.75 -8.40625 L -2.3125 -9.953125 C -2.007812 -9.835938 -1.710938 -9.679688 -1.421875 -9.484375 C -1.128906 -9.285156 -0.863281 -9.019531 -0.625 -8.6875 C -0.382812 -8.351562 -0.1875 -7.9375 -0.03125 -7.4375 C 0.125 -6.945312 0.203125 -6.347656 0.203125 -5.640625 C 0.203125 -4.078125 -0.257812 -2.882812 -1.1875 -2.0625 C -2.125 -1.25 -3.515625 -0.84375 -5.359375 -0.84375 C -6.347656 -0.84375 -7.179688 -0.96875 -7.859375 -1.21875 C -8.546875 -1.46875 -9.101562 -1.804688 -9.53125 -2.234375 C -9.96875 -2.660156 -10.28125 -3.160156 -10.46875 -3.734375 C -10.664062 -4.304688 -10.765625 -4.921875 -10.765625 -5.578125 C -10.765625 -6.460938 -10.617188 -7.203125 -10.328125 -7.796875 C -10.046875 -8.390625 -9.648438 -8.867188 -9.140625 -9.234375 C -8.640625 -9.597656 -8.046875 -9.851562 -7.359375 -10 C -6.679688 -10.15625 -5.941406 -10.234375 -5.140625 -10.234375 L -4.90625 -10.234375 Z M -6.265625 -8.421875 C -7.378906 -8.316406 -8.191406 -8.03125 -8.703125 -7.5625 C -9.210938 -7.09375 -9.46875 -6.421875 -9.46875 -5.546875 C -9.46875 -5.253906 -9.421875 -4.945312 -9.328125 -4.625 C -9.234375 -4.300781 -9.0625 -4.003906 -8.8125 -3.734375 C -8.570312 -3.460938 -8.242188 -3.226562 -7.828125 -3.03125 C -7.421875 -2.84375 -6.898438 -2.738281 -6.265625 -2.71875 Z M -6.265625 -8.421875 \"/>\n",
       "</symbol>\n",
       "</g>\n",
       "<clipPath id=\"clip1\">\n",
       "  <path d=\"M 53.152344 5.480469 L 426.523438 5.480469 L 426.523438 313.851562 L 53.152344 313.851562 Z M 53.152344 5.480469 \"/>\n",
       "</clipPath>\n",
       "<clipPath id=\"clip2\">\n",
       "  <path d=\"M 53.152344 264 L 426.523438 264 L 426.523438 266 L 53.152344 266 Z M 53.152344 264 \"/>\n",
       "</clipPath>\n",
       "<clipPath id=\"clip3\">\n",
       "  <path d=\"M 53.152344 194 L 426.523438 194 L 426.523438 195 L 53.152344 195 Z M 53.152344 194 \"/>\n",
       "</clipPath>\n",
       "<clipPath id=\"clip4\">\n",
       "  <path d=\"M 53.152344 124 L 426.523438 124 L 426.523438 125 L 53.152344 125 Z M 53.152344 124 \"/>\n",
       "</clipPath>\n",
       "<clipPath id=\"clip5\">\n",
       "  <path d=\"M 53.152344 54 L 426.523438 54 L 426.523438 55 L 53.152344 55 Z M 53.152344 54 \"/>\n",
       "</clipPath>\n",
       "<clipPath id=\"clip6\">\n",
       "  <path d=\"M 55 5.480469 L 57 5.480469 L 57 313.851562 L 55 313.851562 Z M 55 5.480469 \"/>\n",
       "</clipPath>\n",
       "<clipPath id=\"clip7\">\n",
       "  <path d=\"M 56 5.480469 L 58 5.480469 L 58 313.851562 L 56 313.851562 Z M 56 5.480469 \"/>\n",
       "</clipPath>\n",
       "<clipPath id=\"clip8\">\n",
       "  <path d=\"M 59 5.480469 L 60 5.480469 L 60 313.851562 L 59 313.851562 Z M 59 5.480469 \"/>\n",
       "</clipPath>\n",
       "<clipPath id=\"clip9\">\n",
       "  <path d=\"M 61 5.480469 L 63 5.480469 L 63 313.851562 L 61 313.851562 Z M 61 5.480469 \"/>\n",
       "</clipPath>\n",
       "<clipPath id=\"clip10\">\n",
       "  <path d=\"M 64 5.480469 L 65 5.480469 L 65 313.851562 L 64 313.851562 Z M 64 5.480469 \"/>\n",
       "</clipPath>\n",
       "<clipPath id=\"clip11\">\n",
       "  <path d=\"M 66 5.480469 L 67 5.480469 L 67 313.851562 L 66 313.851562 Z M 66 5.480469 \"/>\n",
       "</clipPath>\n",
       "<clipPath id=\"clip12\">\n",
       "  <path d=\"M 68 5.480469 L 70 5.480469 L 70 313.851562 L 68 313.851562 Z M 68 5.480469 \"/>\n",
       "</clipPath>\n",
       "<clipPath id=\"clip13\">\n",
       "  <path d=\"M 71 5.480469 L 72 5.480469 L 72 313.851562 L 71 313.851562 Z M 71 5.480469 \"/>\n",
       "</clipPath>\n",
       "<clipPath id=\"clip14\">\n",
       "  <path d=\"M 73 5.480469 L 74 5.480469 L 74 313.851562 L 73 313.851562 Z M 73 5.480469 \"/>\n",
       "</clipPath>\n",
       "<clipPath id=\"clip15\">\n",
       "  <path d=\"M 75 5.480469 L 77 5.480469 L 77 313.851562 L 75 313.851562 Z M 75 5.480469 \"/>\n",
       "</clipPath>\n",
       "<clipPath id=\"clip16\">\n",
       "  <path d=\"M 78 5.480469 L 79 5.480469 L 79 313.851562 L 78 313.851562 Z M 78 5.480469 \"/>\n",
       "</clipPath>\n",
       "<clipPath id=\"clip17\">\n",
       "  <path d=\"M 80 5.480469 L 81 5.480469 L 81 313.851562 L 80 313.851562 Z M 80 5.480469 \"/>\n",
       "</clipPath>\n",
       "<clipPath id=\"clip18\">\n",
       "  <path d=\"M 82 5.480469 L 84 5.480469 L 84 313.851562 L 82 313.851562 Z M 82 5.480469 \"/>\n",
       "</clipPath>\n",
       "<clipPath id=\"clip19\">\n",
       "  <path d=\"M 83 5.480469 L 85 5.480469 L 85 313.851562 L 83 313.851562 Z M 83 5.480469 \"/>\n",
       "</clipPath>\n",
       "<clipPath id=\"clip20\">\n",
       "  <path d=\"M 53.152344 299 L 426.523438 299 L 426.523438 301 L 53.152344 301 Z M 53.152344 299 \"/>\n",
       "</clipPath>\n",
       "<clipPath id=\"clip21\">\n",
       "  <path d=\"M 53.152344 229 L 426.523438 229 L 426.523438 231 L 53.152344 231 Z M 53.152344 229 \"/>\n",
       "</clipPath>\n",
       "<clipPath id=\"clip22\">\n",
       "  <path d=\"M 53.152344 159 L 426.523438 159 L 426.523438 161 L 53.152344 161 Z M 53.152344 159 \"/>\n",
       "</clipPath>\n",
       "<clipPath id=\"clip23\">\n",
       "  <path d=\"M 53.152344 89 L 426.523438 89 L 426.523438 91 L 53.152344 91 Z M 53.152344 89 \"/>\n",
       "</clipPath>\n",
       "<clipPath id=\"clip24\">\n",
       "  <path d=\"M 53.152344 18 L 426.523438 18 L 426.523438 21 L 53.152344 21 Z M 53.152344 18 \"/>\n",
       "</clipPath>\n",
       "<clipPath id=\"clip25\">\n",
       "  <path d=\"M 57 5.480469 L 59 5.480469 L 59 313.851562 L 57 313.851562 Z M 57 5.480469 \"/>\n",
       "</clipPath>\n",
       "<clipPath id=\"clip26\">\n",
       "  <path d=\"M 60 5.480469 L 62 5.480469 L 62 313.851562 L 60 313.851562 Z M 60 5.480469 \"/>\n",
       "</clipPath>\n",
       "<clipPath id=\"clip27\">\n",
       "  <path d=\"M 62 5.480469 L 64 5.480469 L 64 313.851562 L 62 313.851562 Z M 62 5.480469 \"/>\n",
       "</clipPath>\n",
       "<clipPath id=\"clip28\">\n",
       "  <path d=\"M 64 5.480469 L 66 5.480469 L 66 313.851562 L 64 313.851562 Z M 64 5.480469 \"/>\n",
       "</clipPath>\n",
       "<clipPath id=\"clip29\">\n",
       "  <path d=\"M 67 5.480469 L 69 5.480469 L 69 313.851562 L 67 313.851562 Z M 67 5.480469 \"/>\n",
       "</clipPath>\n",
       "<clipPath id=\"clip30\">\n",
       "  <path d=\"M 69 5.480469 L 71 5.480469 L 71 313.851562 L 69 313.851562 Z M 69 5.480469 \"/>\n",
       "</clipPath>\n",
       "<clipPath id=\"clip31\">\n",
       "  <path d=\"M 71 5.480469 L 73 5.480469 L 73 313.851562 L 71 313.851562 Z M 71 5.480469 \"/>\n",
       "</clipPath>\n",
       "<clipPath id=\"clip32\">\n",
       "  <path d=\"M 74 5.480469 L 76 5.480469 L 76 313.851562 L 74 313.851562 Z M 74 5.480469 \"/>\n",
       "</clipPath>\n",
       "<clipPath id=\"clip33\">\n",
       "  <path d=\"M 76 5.480469 L 78 5.480469 L 78 313.851562 L 76 313.851562 Z M 76 5.480469 \"/>\n",
       "</clipPath>\n",
       "<clipPath id=\"clip34\">\n",
       "  <path d=\"M 78 5.480469 L 81 5.480469 L 81 313.851562 L 78 313.851562 Z M 78 5.480469 \"/>\n",
       "</clipPath>\n",
       "<clipPath id=\"clip35\">\n",
       "  <path d=\"M 81 5.480469 L 83 5.480469 L 83 313.851562 L 81 313.851562 Z M 81 5.480469 \"/>\n",
       "</clipPath>\n",
       "</defs>\n",
       "<g id=\"surface139\">\n",
       "<rect x=\"0\" y=\"0\" width=\"432\" height=\"360\" style=\"fill:rgb(100%,100%,100%);fill-opacity:1;stroke:none;\"/>\n",
       "<rect x=\"0\" y=\"0\" width=\"432\" height=\"360\" style=\"fill:rgb(100%,100%,100%);fill-opacity:1;stroke:none;\"/>\n",
       "<path style=\"fill:none;stroke-width:1.066978;stroke-linecap:round;stroke-linejoin:round;stroke:rgb(100%,100%,100%);stroke-opacity:1;stroke-miterlimit:10;\" d=\"M 0 360 L 432 360 L 432 0 L 0 0 Z M 0 360 \"/>\n",
       "<g clip-path=\"url(#clip1)\" clip-rule=\"nonzero\">\n",
       "<path style=\" stroke:none;fill-rule:nonzero;fill:rgb(92.156863%,92.156863%,92.156863%);fill-opacity:1;\" d=\"M 53.152344 313.847656 L 426.523438 313.847656 L 426.523438 5.476562 L 53.152344 5.476562 Z M 53.152344 313.847656 \"/>\n",
       "</g>\n",
       "<g clip-path=\"url(#clip2)\" clip-rule=\"nonzero\">\n",
       "<path style=\"fill:none;stroke-width:0.533489;stroke-linecap:butt;stroke-linejoin:round;stroke:rgb(100%,100%,100%);stroke-opacity:1;stroke-miterlimit:10;\" d=\"M 53.152344 264.789062 L 426.519531 264.789062 \"/>\n",
       "</g>\n",
       "<g clip-path=\"url(#clip3)\" clip-rule=\"nonzero\">\n",
       "<path style=\"fill:none;stroke-width:0.533489;stroke-linecap:butt;stroke-linejoin:round;stroke:rgb(100%,100%,100%);stroke-opacity:1;stroke-miterlimit:10;\" d=\"M 53.152344 194.707031 L 426.519531 194.707031 \"/>\n",
       "</g>\n",
       "<g clip-path=\"url(#clip4)\" clip-rule=\"nonzero\">\n",
       "<path style=\"fill:none;stroke-width:0.533489;stroke-linecap:butt;stroke-linejoin:round;stroke:rgb(100%,100%,100%);stroke-opacity:1;stroke-miterlimit:10;\" d=\"M 53.152344 124.621094 L 426.519531 124.621094 \"/>\n",
       "</g>\n",
       "<g clip-path=\"url(#clip5)\" clip-rule=\"nonzero\">\n",
       "<path style=\"fill:none;stroke-width:0.533489;stroke-linecap:butt;stroke-linejoin:round;stroke:rgb(100%,100%,100%);stroke-opacity:1;stroke-miterlimit:10;\" d=\"M 53.152344 54.539062 L 426.519531 54.539062 \"/>\n",
       "</g>\n",
       "<g clip-path=\"url(#clip6)\" clip-rule=\"nonzero\">\n",
       "<path style=\"fill:none;stroke-width:0.533489;stroke-linecap:butt;stroke-linejoin:round;stroke:rgb(100%,100%,100%);stroke-opacity:1;stroke-miterlimit:10;\" d=\"M 56.078125 313.847656 L 56.078125 5.480469 \"/>\n",
       "</g>\n",
       "<g clip-path=\"url(#clip7)\" clip-rule=\"nonzero\">\n",
       "<path style=\"fill:none;stroke-width:0.533489;stroke-linecap:butt;stroke-linejoin:round;stroke:rgb(100%,100%,100%);stroke-opacity:1;stroke-miterlimit:10;\" d=\"M 57.246094 313.847656 L 57.246094 5.480469 \"/>\n",
       "</g>\n",
       "<g clip-path=\"url(#clip8)\" clip-rule=\"nonzero\">\n",
       "<path style=\"fill:none;stroke-width:0.533489;stroke-linecap:butt;stroke-linejoin:round;stroke:rgb(100%,100%,100%);stroke-opacity:1;stroke-miterlimit:10;\" d=\"M 59.589844 313.847656 L 59.589844 5.480469 \"/>\n",
       "</g>\n",
       "<g clip-path=\"url(#clip9)\" clip-rule=\"nonzero\">\n",
       "<path style=\"fill:none;stroke-width:0.533489;stroke-linecap:butt;stroke-linejoin:round;stroke:rgb(100%,100%,100%);stroke-opacity:1;stroke-miterlimit:10;\" d=\"M 61.929688 313.847656 L 61.929688 5.480469 \"/>\n",
       "</g>\n",
       "<g clip-path=\"url(#clip10)\" clip-rule=\"nonzero\">\n",
       "<path style=\"fill:none;stroke-width:0.533489;stroke-linecap:butt;stroke-linejoin:round;stroke:rgb(100%,100%,100%);stroke-opacity:1;stroke-miterlimit:10;\" d=\"M 64.269531 313.847656 L 64.269531 5.480469 \"/>\n",
       "</g>\n",
       "<g clip-path=\"url(#clip11)\" clip-rule=\"nonzero\">\n",
       "<path style=\"fill:none;stroke-width:0.533489;stroke-linecap:butt;stroke-linejoin:round;stroke:rgb(100%,100%,100%);stroke-opacity:1;stroke-miterlimit:10;\" d=\"M 66.609375 313.847656 L 66.609375 5.480469 \"/>\n",
       "</g>\n",
       "<g clip-path=\"url(#clip12)\" clip-rule=\"nonzero\">\n",
       "<path style=\"fill:none;stroke-width:0.533489;stroke-linecap:butt;stroke-linejoin:round;stroke:rgb(100%,100%,100%);stroke-opacity:1;stroke-miterlimit:10;\" d=\"M 68.953125 313.847656 L 68.953125 5.480469 \"/>\n",
       "</g>\n",
       "<g clip-path=\"url(#clip13)\" clip-rule=\"nonzero\">\n",
       "<path style=\"fill:none;stroke-width:0.533489;stroke-linecap:butt;stroke-linejoin:round;stroke:rgb(100%,100%,100%);stroke-opacity:1;stroke-miterlimit:10;\" d=\"M 71.292969 313.847656 L 71.292969 5.480469 \"/>\n",
       "</g>\n",
       "<g clip-path=\"url(#clip14)\" clip-rule=\"nonzero\">\n",
       "<path style=\"fill:none;stroke-width:0.533489;stroke-linecap:butt;stroke-linejoin:round;stroke:rgb(100%,100%,100%);stroke-opacity:1;stroke-miterlimit:10;\" d=\"M 73.632812 313.847656 L 73.632812 5.480469 \"/>\n",
       "</g>\n",
       "<g clip-path=\"url(#clip15)\" clip-rule=\"nonzero\">\n",
       "<path style=\"fill:none;stroke-width:0.533489;stroke-linecap:butt;stroke-linejoin:round;stroke:rgb(100%,100%,100%);stroke-opacity:1;stroke-miterlimit:10;\" d=\"M 75.972656 313.847656 L 75.972656 5.480469 \"/>\n",
       "</g>\n",
       "<g clip-path=\"url(#clip16)\" clip-rule=\"nonzero\">\n",
       "<path style=\"fill:none;stroke-width:0.533489;stroke-linecap:butt;stroke-linejoin:round;stroke:rgb(100%,100%,100%);stroke-opacity:1;stroke-miterlimit:10;\" d=\"M 78.316406 313.847656 L 78.316406 5.480469 \"/>\n",
       "</g>\n",
       "<g clip-path=\"url(#clip17)\" clip-rule=\"nonzero\">\n",
       "<path style=\"fill:none;stroke-width:0.533489;stroke-linecap:butt;stroke-linejoin:round;stroke:rgb(100%,100%,100%);stroke-opacity:1;stroke-miterlimit:10;\" d=\"M 80.65625 313.847656 L 80.65625 5.480469 \"/>\n",
       "</g>\n",
       "<g clip-path=\"url(#clip18)\" clip-rule=\"nonzero\">\n",
       "<path style=\"fill:none;stroke-width:0.533489;stroke-linecap:butt;stroke-linejoin:round;stroke:rgb(100%,100%,100%);stroke-opacity:1;stroke-miterlimit:10;\" d=\"M 82.996094 313.847656 L 82.996094 5.480469 \"/>\n",
       "</g>\n",
       "<g clip-path=\"url(#clip19)\" clip-rule=\"nonzero\">\n",
       "<path style=\"fill:none;stroke-width:0.533489;stroke-linecap:butt;stroke-linejoin:round;stroke:rgb(100%,100%,100%);stroke-opacity:1;stroke-miterlimit:10;\" d=\"M 84.167969 313.847656 L 84.167969 5.480469 \"/>\n",
       "</g>\n",
       "<g clip-path=\"url(#clip20)\" clip-rule=\"nonzero\">\n",
       "<path style=\"fill:none;stroke-width:1.066978;stroke-linecap:butt;stroke-linejoin:round;stroke:rgb(100%,100%,100%);stroke-opacity:1;stroke-miterlimit:10;\" d=\"M 53.152344 299.832031 L 426.519531 299.832031 \"/>\n",
       "</g>\n",
       "<g clip-path=\"url(#clip21)\" clip-rule=\"nonzero\">\n",
       "<path style=\"fill:none;stroke-width:1.066978;stroke-linecap:butt;stroke-linejoin:round;stroke:rgb(100%,100%,100%);stroke-opacity:1;stroke-miterlimit:10;\" d=\"M 53.152344 229.75 L 426.519531 229.75 \"/>\n",
       "</g>\n",
       "<g clip-path=\"url(#clip22)\" clip-rule=\"nonzero\">\n",
       "<path style=\"fill:none;stroke-width:1.066978;stroke-linecap:butt;stroke-linejoin:round;stroke:rgb(100%,100%,100%);stroke-opacity:1;stroke-miterlimit:10;\" d=\"M 53.152344 159.664062 L 426.519531 159.664062 \"/>\n",
       "</g>\n",
       "<g clip-path=\"url(#clip23)\" clip-rule=\"nonzero\">\n",
       "<path style=\"fill:none;stroke-width:1.066978;stroke-linecap:butt;stroke-linejoin:round;stroke:rgb(100%,100%,100%);stroke-opacity:1;stroke-miterlimit:10;\" d=\"M 53.152344 89.582031 L 426.519531 89.582031 \"/>\n",
       "</g>\n",
       "<g clip-path=\"url(#clip24)\" clip-rule=\"nonzero\">\n",
       "<path style=\"fill:none;stroke-width:1.066978;stroke-linecap:butt;stroke-linejoin:round;stroke:rgb(100%,100%,100%);stroke-opacity:1;stroke-miterlimit:10;\" d=\"M 53.152344 19.496094 L 426.519531 19.496094 \"/>\n",
       "</g>\n",
       "<g clip-path=\"url(#clip25)\" clip-rule=\"nonzero\">\n",
       "<path style=\"fill:none;stroke-width:1.066978;stroke-linecap:butt;stroke-linejoin:round;stroke:rgb(100%,100%,100%);stroke-opacity:1;stroke-miterlimit:10;\" d=\"M 58.417969 313.847656 L 58.417969 5.480469 \"/>\n",
       "</g>\n",
       "<g clip-path=\"url(#clip26)\" clip-rule=\"nonzero\">\n",
       "<path style=\"fill:none;stroke-width:1.066978;stroke-linecap:butt;stroke-linejoin:round;stroke:rgb(100%,100%,100%);stroke-opacity:1;stroke-miterlimit:10;\" d=\"M 60.757812 313.847656 L 60.757812 5.480469 \"/>\n",
       "</g>\n",
       "<g clip-path=\"url(#clip27)\" clip-rule=\"nonzero\">\n",
       "<path style=\"fill:none;stroke-width:1.066978;stroke-linecap:butt;stroke-linejoin:round;stroke:rgb(100%,100%,100%);stroke-opacity:1;stroke-miterlimit:10;\" d=\"M 63.097656 313.847656 L 63.097656 5.480469 \"/>\n",
       "</g>\n",
       "<g clip-path=\"url(#clip28)\" clip-rule=\"nonzero\">\n",
       "<path style=\"fill:none;stroke-width:1.066978;stroke-linecap:butt;stroke-linejoin:round;stroke:rgb(100%,100%,100%);stroke-opacity:1;stroke-miterlimit:10;\" d=\"M 65.441406 313.847656 L 65.441406 5.480469 \"/>\n",
       "</g>\n",
       "<g clip-path=\"url(#clip29)\" clip-rule=\"nonzero\">\n",
       "<path style=\"fill:none;stroke-width:1.066978;stroke-linecap:butt;stroke-linejoin:round;stroke:rgb(100%,100%,100%);stroke-opacity:1;stroke-miterlimit:10;\" d=\"M 67.78125 313.847656 L 67.78125 5.480469 \"/>\n",
       "</g>\n",
       "<g clip-path=\"url(#clip30)\" clip-rule=\"nonzero\">\n",
       "<path style=\"fill:none;stroke-width:1.066978;stroke-linecap:butt;stroke-linejoin:round;stroke:rgb(100%,100%,100%);stroke-opacity:1;stroke-miterlimit:10;\" d=\"M 70.121094 313.847656 L 70.121094 5.480469 \"/>\n",
       "</g>\n",
       "<g clip-path=\"url(#clip31)\" clip-rule=\"nonzero\">\n",
       "<path style=\"fill:none;stroke-width:1.066978;stroke-linecap:butt;stroke-linejoin:round;stroke:rgb(100%,100%,100%);stroke-opacity:1;stroke-miterlimit:10;\" d=\"M 72.464844 313.847656 L 72.464844 5.480469 \"/>\n",
       "</g>\n",
       "<g clip-path=\"url(#clip32)\" clip-rule=\"nonzero\">\n",
       "<path style=\"fill:none;stroke-width:1.066978;stroke-linecap:butt;stroke-linejoin:round;stroke:rgb(100%,100%,100%);stroke-opacity:1;stroke-miterlimit:10;\" d=\"M 74.804688 313.847656 L 74.804688 5.480469 \"/>\n",
       "</g>\n",
       "<g clip-path=\"url(#clip33)\" clip-rule=\"nonzero\">\n",
       "<path style=\"fill:none;stroke-width:1.066978;stroke-linecap:butt;stroke-linejoin:round;stroke:rgb(100%,100%,100%);stroke-opacity:1;stroke-miterlimit:10;\" d=\"M 77.144531 313.847656 L 77.144531 5.480469 \"/>\n",
       "</g>\n",
       "<g clip-path=\"url(#clip34)\" clip-rule=\"nonzero\">\n",
       "<path style=\"fill:none;stroke-width:1.066978;stroke-linecap:butt;stroke-linejoin:round;stroke:rgb(100%,100%,100%);stroke-opacity:1;stroke-miterlimit:10;\" d=\"M 79.484375 313.847656 L 79.484375 5.480469 \"/>\n",
       "</g>\n",
       "<g clip-path=\"url(#clip35)\" clip-rule=\"nonzero\">\n",
       "<path style=\"fill:none;stroke-width:1.066978;stroke-linecap:butt;stroke-linejoin:round;stroke:rgb(100%,100%,100%);stroke-opacity:1;stroke-miterlimit:10;\" d=\"M 81.828125 313.847656 L 81.828125 5.480469 \"/>\n",
       "</g>\n",
       "<path style=\"fill-rule:nonzero;fill:rgb(0%,0%,0%);fill-opacity:1;stroke-width:0.708661;stroke-linecap:round;stroke-linejoin:round;stroke:rgb(0%,0%,0%);stroke-opacity:1;stroke-miterlimit:10;\" d=\"M 72.078125 88.941406 C 72.078125 91.546875 68.167969 91.546875 68.167969 88.941406 C 68.167969 86.335938 72.078125 86.335938 72.078125 88.941406 \"/>\n",
       "<path style=\"fill-rule:nonzero;fill:rgb(0%,0%,0%);fill-opacity:1;stroke-width:0.708661;stroke-linecap:round;stroke-linejoin:round;stroke:rgb(0%,0%,0%);stroke-opacity:1;stroke-miterlimit:10;\" d=\"M 89.632812 82.863281 C 89.632812 85.46875 85.722656 85.46875 85.722656 82.863281 C 85.722656 80.253906 89.632812 80.253906 89.632812 82.863281 \"/>\n",
       "<path style=\"fill-rule:nonzero;fill:rgb(0%,0%,0%);fill-opacity:1;stroke-width:0.708661;stroke-linecap:round;stroke-linejoin:round;stroke:rgb(0%,0%,0%);stroke-opacity:1;stroke-miterlimit:10;\" d=\"M 118.894531 80.019531 C 118.894531 82.625 114.984375 82.625 114.984375 80.019531 C 114.984375 77.414062 118.894531 77.414062 118.894531 80.019531 \"/>\n",
       "<path style=\"fill-rule:nonzero;fill:rgb(0%,0%,0%);fill-opacity:1;stroke-width:0.708661;stroke-linecap:round;stroke-linejoin:round;stroke:rgb(0%,0%,0%);stroke-opacity:1;stroke-miterlimit:10;\" d=\"M 206.675781 77.359375 C 206.675781 79.964844 202.769531 79.964844 202.769531 77.359375 C 202.769531 74.753906 206.675781 74.753906 206.675781 77.359375 \"/>\n",
       "<path style=\"fill-rule:nonzero;fill:rgb(0%,0%,0%);fill-opacity:1;stroke-width:0.708661;stroke-linecap:round;stroke-linejoin:round;stroke:rgb(0%,0%,0%);stroke-opacity:1;stroke-miterlimit:10;\" d=\"M 411.503906 76.683594 C 411.503906 79.289062 407.59375 79.289062 407.59375 76.683594 C 407.59375 74.074219 411.503906 74.074219 411.503906 76.683594 \"/>\n",
       "<path style=\"fill:none;stroke-width:1.066978;stroke-linecap:butt;stroke-linejoin:round;stroke:rgb(0%,0%,0%);stroke-opacity:1;stroke-miterlimit:10;\" d=\"M 70.121094 88.941406 L 87.679688 82.863281 L 116.941406 80.019531 L 204.722656 77.359375 L 409.550781 76.683594 \"/>\n",
       "<g style=\"fill:rgb(30.196078%,30.196078%,30.196078%);fill-opacity:1;\">\n",
       "  <use xlink:href=\"#glyph0-1\" x=\"26.21875\" y=\"305.316406\"/>\n",
       "  <use xlink:href=\"#glyph0-2\" x=\"35.21875\" y=\"305.316406\"/>\n",
       "  <use xlink:href=\"#glyph0-1\" x=\"39.21875\" y=\"305.316406\"/>\n",
       "</g>\n",
       "<g style=\"fill:rgb(30.196078%,30.196078%,30.196078%);fill-opacity:1;\">\n",
       "  <use xlink:href=\"#glyph0-1\" x=\"26.21875\" y=\"235.234375\"/>\n",
       "  <use xlink:href=\"#glyph0-2\" x=\"35.21875\" y=\"235.234375\"/>\n",
       "  <use xlink:href=\"#glyph0-3\" x=\"39.21875\" y=\"235.234375\"/>\n",
       "</g>\n",
       "<g style=\"fill:rgb(30.196078%,30.196078%,30.196078%);fill-opacity:1;\">\n",
       "  <use xlink:href=\"#glyph0-1\" x=\"26.21875\" y=\"165.148438\"/>\n",
       "  <use xlink:href=\"#glyph0-2\" x=\"35.21875\" y=\"165.148438\"/>\n",
       "  <use xlink:href=\"#glyph0-4\" x=\"39.21875\" y=\"165.148438\"/>\n",
       "</g>\n",
       "<g style=\"fill:rgb(30.196078%,30.196078%,30.196078%);fill-opacity:1;\">\n",
       "  <use xlink:href=\"#glyph0-1\" x=\"26.21875\" y=\"95.066406\"/>\n",
       "  <use xlink:href=\"#glyph0-2\" x=\"35.21875\" y=\"95.066406\"/>\n",
       "  <use xlink:href=\"#glyph0-5\" x=\"39.21875\" y=\"95.066406\"/>\n",
       "</g>\n",
       "<g style=\"fill:rgb(30.196078%,30.196078%,30.196078%);fill-opacity:1;\">\n",
       "  <use xlink:href=\"#glyph0-1\" x=\"26.21875\" y=\"24.980469\"/>\n",
       "  <use xlink:href=\"#glyph0-2\" x=\"35.21875\" y=\"24.980469\"/>\n",
       "  <use xlink:href=\"#glyph0-6\" x=\"39.21875\" y=\"24.980469\"/>\n",
       "</g>\n",
       "<path style=\"fill:none;stroke-width:1.066978;stroke-linecap:butt;stroke-linejoin:round;stroke:rgb(20%,20%,20%);stroke-opacity:1;stroke-miterlimit:10;\" d=\"M 50.410156 299.832031 L 53.152344 299.832031 \"/>\n",
       "<path style=\"fill:none;stroke-width:1.066978;stroke-linecap:butt;stroke-linejoin:round;stroke:rgb(20%,20%,20%);stroke-opacity:1;stroke-miterlimit:10;\" d=\"M 50.410156 229.75 L 53.152344 229.75 \"/>\n",
       "<path style=\"fill:none;stroke-width:1.066978;stroke-linecap:butt;stroke-linejoin:round;stroke:rgb(20%,20%,20%);stroke-opacity:1;stroke-miterlimit:10;\" d=\"M 50.410156 159.664062 L 53.152344 159.664062 \"/>\n",
       "<path style=\"fill:none;stroke-width:1.066978;stroke-linecap:butt;stroke-linejoin:round;stroke:rgb(20%,20%,20%);stroke-opacity:1;stroke-miterlimit:10;\" d=\"M 50.410156 89.582031 L 53.152344 89.582031 \"/>\n",
       "<path style=\"fill:none;stroke-width:1.066978;stroke-linecap:butt;stroke-linejoin:round;stroke:rgb(20%,20%,20%);stroke-opacity:1;stroke-miterlimit:10;\" d=\"M 50.410156 19.496094 L 53.152344 19.496094 \"/>\n",
       "<path style=\"fill:none;stroke-width:1.066978;stroke-linecap:butt;stroke-linejoin:round;stroke:rgb(20%,20%,20%);stroke-opacity:1;stroke-miterlimit:10;\" d=\"M 58.417969 316.589844 L 58.417969 313.847656 \"/>\n",
       "<path style=\"fill:none;stroke-width:1.066978;stroke-linecap:butt;stroke-linejoin:round;stroke:rgb(20%,20%,20%);stroke-opacity:1;stroke-miterlimit:10;\" d=\"M 60.757812 316.589844 L 60.757812 313.847656 \"/>\n",
       "<path style=\"fill:none;stroke-width:1.066978;stroke-linecap:butt;stroke-linejoin:round;stroke:rgb(20%,20%,20%);stroke-opacity:1;stroke-miterlimit:10;\" d=\"M 63.097656 316.589844 L 63.097656 313.847656 \"/>\n",
       "<path style=\"fill:none;stroke-width:1.066978;stroke-linecap:butt;stroke-linejoin:round;stroke:rgb(20%,20%,20%);stroke-opacity:1;stroke-miterlimit:10;\" d=\"M 65.441406 316.589844 L 65.441406 313.847656 \"/>\n",
       "<path style=\"fill:none;stroke-width:1.066978;stroke-linecap:butt;stroke-linejoin:round;stroke:rgb(20%,20%,20%);stroke-opacity:1;stroke-miterlimit:10;\" d=\"M 67.78125 316.589844 L 67.78125 313.847656 \"/>\n",
       "<path style=\"fill:none;stroke-width:1.066978;stroke-linecap:butt;stroke-linejoin:round;stroke:rgb(20%,20%,20%);stroke-opacity:1;stroke-miterlimit:10;\" d=\"M 70.121094 316.589844 L 70.121094 313.847656 \"/>\n",
       "<path style=\"fill:none;stroke-width:1.066978;stroke-linecap:butt;stroke-linejoin:round;stroke:rgb(20%,20%,20%);stroke-opacity:1;stroke-miterlimit:10;\" d=\"M 72.464844 316.589844 L 72.464844 313.847656 \"/>\n",
       "<path style=\"fill:none;stroke-width:1.066978;stroke-linecap:butt;stroke-linejoin:round;stroke:rgb(20%,20%,20%);stroke-opacity:1;stroke-miterlimit:10;\" d=\"M 74.804688 316.589844 L 74.804688 313.847656 \"/>\n",
       "<path style=\"fill:none;stroke-width:1.066978;stroke-linecap:butt;stroke-linejoin:round;stroke:rgb(20%,20%,20%);stroke-opacity:1;stroke-miterlimit:10;\" d=\"M 77.144531 316.589844 L 77.144531 313.847656 \"/>\n",
       "<path style=\"fill:none;stroke-width:1.066978;stroke-linecap:butt;stroke-linejoin:round;stroke:rgb(20%,20%,20%);stroke-opacity:1;stroke-miterlimit:10;\" d=\"M 79.484375 316.589844 L 79.484375 313.847656 \"/>\n",
       "<path style=\"fill:none;stroke-width:1.066978;stroke-linecap:butt;stroke-linejoin:round;stroke:rgb(20%,20%,20%);stroke-opacity:1;stroke-miterlimit:10;\" d=\"M 81.828125 316.589844 L 81.828125 313.847656 \"/>\n",
       "<g style=\"fill:rgb(30.196078%,30.196078%,30.196078%);fill-opacity:1;\">\n",
       "  <use xlink:href=\"#glyph0-1\" x=\"53.917969\" y=\"330.265625\"/>\n",
       "</g>\n",
       "<g style=\"fill:rgb(30.196078%,30.196078%,30.196078%);fill-opacity:1;\">\n",
       "  <use xlink:href=\"#glyph0-3\" x=\"56.257812\" y=\"330.265625\"/>\n",
       "</g>\n",
       "<g style=\"fill:rgb(30.196078%,30.196078%,30.196078%);fill-opacity:1;\">\n",
       "  <use xlink:href=\"#glyph0-4\" x=\"58.597656\" y=\"330.265625\"/>\n",
       "</g>\n",
       "<g style=\"fill:rgb(30.196078%,30.196078%,30.196078%);fill-opacity:1;\">\n",
       "  <use xlink:href=\"#glyph0-5\" x=\"60.941406\" y=\"330.265625\"/>\n",
       "</g>\n",
       "<g style=\"fill:rgb(30.196078%,30.196078%,30.196078%);fill-opacity:1;\">\n",
       "  <use xlink:href=\"#glyph0-6\" x=\"63.28125\" y=\"330.265625\"/>\n",
       "</g>\n",
       "<g style=\"fill:rgb(30.196078%,30.196078%,30.196078%);fill-opacity:1;\">\n",
       "  <use xlink:href=\"#glyph0-7\" x=\"61.121094\" y=\"330.265625\"/>\n",
       "  <use xlink:href=\"#glyph0-1\" x=\"70.121094\" y=\"330.265625\"/>\n",
       "</g>\n",
       "<g style=\"fill:rgb(30.196078%,30.196078%,30.196078%);fill-opacity:1;\">\n",
       "  <use xlink:href=\"#glyph0-7\" x=\"63.464844\" y=\"330.265625\"/>\n",
       "  <use xlink:href=\"#glyph0-3\" x=\"72.464844\" y=\"330.265625\"/>\n",
       "</g>\n",
       "<g style=\"fill:rgb(30.196078%,30.196078%,30.196078%);fill-opacity:1;\">\n",
       "  <use xlink:href=\"#glyph0-7\" x=\"65.804688\" y=\"330.265625\"/>\n",
       "  <use xlink:href=\"#glyph0-4\" x=\"74.804688\" y=\"330.265625\"/>\n",
       "</g>\n",
       "<g style=\"fill:rgb(30.196078%,30.196078%,30.196078%);fill-opacity:1;\">\n",
       "  <use xlink:href=\"#glyph0-7\" x=\"68.144531\" y=\"330.265625\"/>\n",
       "  <use xlink:href=\"#glyph0-5\" x=\"77.144531\" y=\"330.265625\"/>\n",
       "</g>\n",
       "<g style=\"fill:rgb(30.196078%,30.196078%,30.196078%);fill-opacity:1;\">\n",
       "  <use xlink:href=\"#glyph0-7\" x=\"70.484375\" y=\"330.265625\"/>\n",
       "  <use xlink:href=\"#glyph0-6\" x=\"79.484375\" y=\"330.265625\"/>\n",
       "</g>\n",
       "<g style=\"fill:rgb(30.196078%,30.196078%,30.196078%);fill-opacity:1;\">\n",
       "  <use xlink:href=\"#glyph0-3\" x=\"72.828125\" y=\"330.265625\"/>\n",
       "  <use xlink:href=\"#glyph0-1\" x=\"81.828125\" y=\"330.265625\"/>\n",
       "</g>\n",
       "<g style=\"fill:rgb(0%,0%,0%);fill-opacity:1;\">\n",
       "  <use xlink:href=\"#glyph1-1\" x=\"194.835938\" y=\"349.625\"/>\n",
       "  <use xlink:href=\"#glyph1-2\" x=\"208.835938\" y=\"349.625\"/>\n",
       "  <use xlink:href=\"#glyph1-3\" x=\"219.835938\" y=\"349.625\"/>\n",
       "  <use xlink:href=\"#glyph1-4\" x=\"223.835938\" y=\"349.625\"/>\n",
       "  <use xlink:href=\"#glyph1-5\" x=\"234.835938\" y=\"349.625\"/>\n",
       "  <use xlink:href=\"#glyph1-6\" x=\"245.835938\" y=\"349.625\"/>\n",
       "  <use xlink:href=\"#glyph1-7\" x=\"256.835938\" y=\"349.625\"/>\n",
       "  <use xlink:href=\"#glyph1-8\" x=\"267.835938\" y=\"349.625\"/>\n",
       "  <use xlink:href=\"#glyph1-9\" x=\"274.835938\" y=\"349.625\"/>\n",
       "</g>\n",
       "<g style=\"fill:rgb(0%,0%,0%);fill-opacity:1;\">\n",
       "  <use xlink:href=\"#glyph2-1\" x=\"18.585938\" y=\"242.664062\"/>\n",
       "  <use xlink:href=\"#glyph2-2\" x=\"18.585938\" y=\"229.664062\"/>\n",
       "  <use xlink:href=\"#glyph2-2\" x=\"18.585938\" y=\"219.664062\"/>\n",
       "  <use xlink:href=\"#glyph2-3\" x=\"18.585938\" y=\"209.664062\"/>\n",
       "  <use xlink:href=\"#glyph2-4\" x=\"18.585938\" y=\"198.664062\"/>\n",
       "  <use xlink:href=\"#glyph2-5\" x=\"18.585938\" y=\"191.664062\"/>\n",
       "  <use xlink:href=\"#glyph2-2\" x=\"18.585938\" y=\"180.664062\"/>\n",
       "  <use xlink:href=\"#glyph2-6\" x=\"18.585938\" y=\"170.664062\"/>\n",
       "  <use xlink:href=\"#glyph2-7\" x=\"18.585938\" y=\"160.664062\"/>\n",
       "  <use xlink:href=\"#glyph2-8\" x=\"18.585938\" y=\"154.664062\"/>\n",
       "  <use xlink:href=\"#glyph2-9\" x=\"18.585938\" y=\"141.664062\"/>\n",
       "  <use xlink:href=\"#glyph2-10\" x=\"18.585938\" y=\"131.664062\"/>\n",
       "  <use xlink:href=\"#glyph2-11\" x=\"18.585938\" y=\"125.664062\"/>\n",
       "  <use xlink:href=\"#glyph2-12\" x=\"18.585938\" y=\"121.664062\"/>\n",
       "  <use xlink:href=\"#glyph2-5\" x=\"18.585938\" y=\"104.664062\"/>\n",
       "  <use xlink:href=\"#glyph2-10\" x=\"18.585938\" y=\"93.664062\"/>\n",
       "  <use xlink:href=\"#glyph2-13\" x=\"18.585938\" y=\"87.664062\"/>\n",
       "</g>\n",
       "</g>\n",
       "</svg>\n"
      ],
      "text/plain": [
       "plot without title"
      ]
     },
     "metadata": {
      "application/pdf": {
       "height": 300,
       "width": 360
      },
      "image/jpeg": {
       "height": 300,
       "width": 360
      },
      "image/png": {
       "height": 300,
       "width": 360
      },
      "image/svg+xml": {
       "height": 300,
       "isolated": true,
       "width": 360
      }
     },
     "output_type": "display_data"
    }
   ],
   "source": [
    "accuracy <- knn_results |>\n",
    "                 filter(.metric == 'accuracy')\n",
    "\n",
    "cross_val_plot <- ggplot(accuracy, aes(x = neighbors, y = mean)) +\n",
    "                  geom_point() +\n",
    "                  geom_line() +\n",
    "                  labs(x = 'Neighbors', y = 'Accuracy Estimate') +\n",
    "                  theme(text = element_text(size = 20)) +\n",
    "                  scale_x_continuous(breaks = seq(0, 20, 2)) +\n",
    "                  scale_y_continuous(limits = c(0.0, 0.8))\n",
    "\n",
    "cross_val_plot "
   ]
  },
  {
   "cell_type": "code",
   "execution_count": 10,
   "id": "3a596277-7044-4834-88e3-8d85dc5943d5",
   "metadata": {
    "tags": []
   },
   "outputs": [
    {
     "name": "stdout",
     "output_type": "stream",
     "text": [
      "unique notes:\n",
      "─────────────────────────────────────────────────────────────\n",
      "\u001b[1m\u001b[33mError\u001b[39m in `mutate()`:\u001b[22m\n",
      "\u001b[1m\u001b[22m\u001b[36mℹ\u001b[39m In argument: `.row = orig_rows`.\n",
      "\u001b[1mCaused by error:\u001b[22m\n",
      "\u001b[1m\u001b[22m\u001b[33m!\u001b[39m `.row` must be size 7666 or 1, not 8240.\n",
      "─────────────────────────────────────────────────────────────\n",
      "\u001b[1m\u001b[33mError\u001b[39m in `mutate()`:\u001b[22m\n",
      "\u001b[1m\u001b[22m\u001b[36mℹ\u001b[39m In argument: `.row = orig_rows`.\n",
      "\u001b[1mCaused by error:\u001b[22m\n",
      "\u001b[1m\u001b[22m\u001b[33m!\u001b[39m `.row` must be size 7656 or 1, not 8240.\n",
      "─────────────────────────────────────────────────────────────\n",
      "\u001b[1m\u001b[33mError\u001b[39m in `mutate()`:\u001b[22m\n",
      "\u001b[1m\u001b[22m\u001b[36mℹ\u001b[39m In argument: `.row = orig_rows`.\n",
      "\u001b[1mCaused by error:\u001b[22m\n",
      "\u001b[1m\u001b[22m\u001b[33m!\u001b[39m `.row` must be size 7678 or 1, not 8240.\n",
      "─────────────────────────────────────────────────────────────\n",
      "\u001b[1m\u001b[33mError\u001b[39m in `mutate()`:\u001b[22m\n",
      "\u001b[1m\u001b[22m\u001b[36mℹ\u001b[39m In argument: `.row = orig_rows`.\n",
      "\u001b[1mCaused by error:\u001b[22m\n",
      "\u001b[1m\u001b[22m\u001b[33m!\u001b[39m `.row` must be size 7667 or 1, not 8240.\n",
      "─────────────────────────────────────────────────────────────\n",
      "\u001b[1m\u001b[33mError\u001b[39m in `mutate()`:\u001b[22m\n",
      "\u001b[1m\u001b[22m\u001b[36mℹ\u001b[39m In argument: `.row = orig_rows`.\n",
      "\u001b[1mCaused by error:\u001b[22m\n",
      "\u001b[1m\u001b[22m\u001b[33m!\u001b[39m `.row` must be size 7668 or 1, not 8240.\n"
     ]
    }
   ],
   "source": []
  },
  {
   "cell_type": "code",
   "execution_count": null,
   "id": "4226259a-6c2b-4d50-bc9a-4da884691a97",
   "metadata": {
    "tags": []
   },
   "outputs": [],
   "source": [
    "tennis_recipe <- recipe(status ~ rank_points + rank + ace, \n",
    "                        data = tennis_train) |>\n",
    "  step_scale(all_predictors()) |>\n",
    "  step_center(all_predictors())"
   ]
  },
  {
   "cell_type": "code",
   "execution_count": null,
   "id": "0f9ce9a4-07d7-4903-9d40-73a615436487",
   "metadata": {
    "tags": []
   },
   "outputs": [],
   "source": [
    "knn_spec <- nearest_neighbor(weight_func = \"rectangular\", \n",
    "                             neighbors = 5) |>\n",
    "  set_engine(\"kknn\") |>\n",
    "  set_mode(\"classification\")"
   ]
  },
  {
   "cell_type": "code",
   "execution_count": null,
   "id": "d72da198-2f22-4cf9-ad0a-194516ad3df0",
   "metadata": {
    "tags": []
   },
   "outputs": [],
   "source": [
    "knn_fit <- workflow() |>\n",
    "  add_recipe(tennis_recipe) |>\n",
    "  add_model(knn_spec) |>\n",
    "  fit(data = tennis_train)\n",
    "\n",
    "knn_fit"
   ]
  },
  {
   "cell_type": "code",
   "execution_count": null,
   "id": "1dea05d2-7a02-4ff6-bc02-889ffc0085e0",
   "metadata": {
    "tags": []
   },
   "outputs": [],
   "source": [
    "new_observation <- tibble(rank = 48, rank_points = 1500, ace = 10)\n",
    "prediction <- predict(knn_fit, new_observation)\n",
    "\n",
    "prediction"
   ]
  },
  {
   "cell_type": "code",
   "execution_count": null,
   "id": "9526c8f4-9c7a-4d13-8911-d36da17b3696",
   "metadata": {
    "tags": []
   },
   "outputs": [],
   "source": [
    "prediction <- predict(knn_fit, tennis_test)"
   ]
  },
  {
   "cell_type": "code",
   "execution_count": 1,
   "id": "a64203eb-684f-43ca-860e-debaf7ee60a1",
   "metadata": {
    "tags": []
   },
   "outputs": [
    {
     "ename": "ERROR",
     "evalue": "Error in vfold_cv(tennis_train, v = 10, strata = status): could not find function \"vfold_cv\"\n",
     "output_type": "error",
     "traceback": [
      "Error in vfold_cv(tennis_train, v = 10, strata = status): could not find function \"vfold_cv\"\nTraceback:\n"
     ]
    }
   ],
   "source": [
    "tennis_vfold <- vfold_cv(tennis_train, v = 10, strata = status)\n",
    "\n",
    "k_vals <- tibble(neighbors = seq(from = 1, to = 100, by = 5))\n",
    "\n",
    "knn_results <- workflow() |>\n",
    "  add_recipe(tennis_recipe) |>\n",
    "  add_model(knn_spec) |>\n",
    "  tune_grid(resamples = tennis_vfold, grid = k_vals) |>\n",
    "  collect_metrics() \n",
    "\n",
    "accuracies <- knn_results |>\n",
    "  filter(.metric == \"accuracy\")\n",
    "\n",
    "accuracies\n"
   ]
  },
  {
   "cell_type": "code",
   "execution_count": null,
   "id": "34d08b31-dc66-4079-84a6-77e2dd5feffa",
   "metadata": {
    "tags": []
   },
   "outputs": [],
   "source": [
    "rank_points_double<- mutate(tennis_train, rank_points= as.numeric(rank_points))\n",
    "double_graph<- mutate(rank_points_double, rank= as.numeric(rank))\n",
    "double_graph<- mutate(double_graph, ace= as.numeric(ace))\n",
    "head(double_graph)"
   ]
  },
  {
   "cell_type": "markdown",
   "id": "7b71bd01-ec52-4f05-a3c4-89611ead4f17",
   "metadata": {
    "tags": []
   },
   "source": [
    "## **Preliminary exploratory data analysis**\n",
    "\n",
    "    Our basic tables summarizes the average number of aces, rank points and ranking per the status of winning and losing a game. We can use these summary tables to visualize this in a simple bar graph. These visualization shows that the average number of aces and rank points are higher for winning games than losing. This tells us that a higher number of average aces, as well as higher rank points can be used to predict a winning tennis game. Surprisingly, we noticed that average ranking of a player is higher for losing games rather than winning. Further analysis needs to be done in order to explore this seemingly contradictory result. That being said, we will use ace, rank points, and player ranking as a predictor variable when creating our classification model. \n",
    "    \n"
   ]
  },
  {
   "cell_type": "code",
   "execution_count": null,
   "id": "9fd4f210-1e98-43fe-95c0-3c7502709582",
   "metadata": {
    "tags": []
   },
   "outputs": [],
   "source": [
    "ace_tbl<- double_graph|> \n",
    "            group_by(status)|>\n",
    "            summarize( average_aces = mean(ace, na.rm= TRUE))\n",
    "\n",
    "ace_tbl\n",
    "\n",
    "ace_bar<- ggplot(ace_tbl, aes(x= status, y = average_aces, fill=status)) + \n",
    "    geom_bar(stat=\"identity\") +\n",
    "    labs(x = \"Winner or Loser\", y = \"Average Number of Aces\", fill = \"Winner or Loser\") +\n",
    "    ggtitle(\"Average Number of Aces in Winning and Losing Matches\")\n",
    "\n",
    "ace_bar\n",
    "\n"
   ]
  },
  {
   "cell_type": "code",
   "execution_count": null,
   "id": "e743dd20-8fe4-47cd-a814-8982c699a008",
   "metadata": {
    "tags": []
   },
   "outputs": [],
   "source": [
    "ranking_points_data <- double_graph|>\n",
    "    group_by(status) |>\n",
    "    summarize( average_rank_points = mean(rank_points, na.rm = TRUE))\n",
    "\n",
    "ranking_points_data |> \n",
    "\n",
    "ggplot(aes(x=status, y =average_rank_points, fill = status)) + \n",
    "    geom_bar(stat=\"identity\") + \n",
    "    labs(x = \"Win or Loss\", y = \"Average Rank Points of Player\", fill = \"Win or Loss\") + \n",
    "    ggtitle(\"Average Rank Points of Winners and Losers of Tennis Matches\")"
   ]
  },
  {
   "cell_type": "code",
   "execution_count": null,
   "id": "a7e49f94-e53e-457b-bc25-bb1c3744ecd2",
   "metadata": {
    "tags": []
   },
   "outputs": [],
   "source": [
    "ranking_data <- double_graph|>\n",
    "    group_by(status) |>\n",
    "    summarize(average_rank = mean(rank, na.rm = TRUE))\n",
    "\n",
    "ranking_data |> \n",
    "ggplot(aes(x=status, y =average_rank, fill = status)) + \n",
    "    geom_bar(stat=\"identity\") + \n",
    "    labs(x = \"Win or Loss\", y = \"Average Rank of Player\", fill = \"Win or Loss\") + \n",
    "    ggtitle(\"Average Rank of Winners and Losers of Tennis Matches\")"
   ]
  },
  {
   "cell_type": "markdown",
   "id": "c82971e6-492b-4a63-9024-79d84bdf43b9",
   "metadata": {},
   "source": [
    "## **Methods** \n",
    "\n",
    "    We believe that a tennis player's rank points, rank, and number of aces will have an impact on a player's wins and losses. So after combining the data from previous years, we mainly choose aces, rank points and rank as explanatory variables. We also choose status as a response variable.\n",
    "    \n",
    "    In order to improve the accuracy of our classification, we decided to use a KNN classification model. We will split the organized data into 75% training data and 25% testing data. This will randomly extract the data without the influence of sorting and stratify the data by status label so that status has the same proportion in the training and testing sets. Next we'll pre-process the data, making sure that our test data doesn't affect any aspect of the model training. We then can create our K-nearest neighbor classifier into the workflow to make our prediction of status. Additionally, in order to avoid bias due to random selection, we will further split our training data into validation and training sets in order to cross-validate. We will also fine-tune our model by testing multiple K values and selecting the one with the highest accuracy by plotting K against accuracy for multiple K values. Finally, we will visualize the data by constructing multiple scatterplots, classifying values by distance to the nearest neighbor, which should predict status with high recall and precision. \n",
    "\n"
   ]
  },
  {
   "cell_type": "markdown",
   "id": "3c9cd570-1f7d-485c-8ac8-65728bce8963",
   "metadata": {},
   "source": [
    "## **Expected outcomes and significance**\n",
    "\n",
    "    We expect to find that predictors such as aces and rank points to have a significant impact on the probability of winning. This could be because the players that are more likely to win tend to have more aces. Aces are also a good indicator of a significant skill gap between players, as they are single round victories that are determined by the server. Therefore, players with more aces should theoretically be more skilled than those who have less, predicting a win. Additionally, players that have higher rank points are more likely to win a game, as rank points are a direct quantitative measure of skill. \n",
    "    \n",
    "    Some potential outcomes of our model could be its usage by tennis organizations and coaches, who could analyze these attributes in players in order to predict certain players' success rates in the sport. Furthermore, tennis players themselves could use this data for self-improvement. For example, if a higher number of aces is a predictor of winning, players may choose to focus a larger portion of their training on improving their ability to ace. \n",
    "    \n",
    "    An additional question we may have is if a player's age affects the relationship between aces, rankings, and rank points and their performance? Do these predictors have different effects on players when they are younger vs older? Age is a potentially important variable that could be useful in our model. Additionally, there could be other predictors of winning and losing matches that we have not covered in our proposal. What other variables can be used to predict a win or a loss in tennis matches? \n",
    "\n",
    "    "
   ]
  },
  {
   "cell_type": "code",
   "execution_count": null,
   "id": "8128e7a2-c4d9-43e7-817d-6184492649de",
   "metadata": {},
   "outputs": [],
   "source": []
  }
 ],
 "metadata": {
  "kernelspec": {
   "display_name": "R",
   "language": "R",
   "name": "ir"
  },
  "language_info": {
   "codemirror_mode": "r",
   "file_extension": ".r",
   "mimetype": "text/x-r-source",
   "name": "R",
   "pygments_lexer": "r",
   "version": "4.2.2"
  }
 },
 "nbformat": 4,
 "nbformat_minor": 5
}
